{
 "cells": [
  {
   "cell_type": "code",
   "execution_count": 27,
   "metadata": {},
   "outputs": [],
   "source": [
    "from pyspark.sql import SparkSession\n",
    "\n",
    "spark = SparkSession.builder.appName(\"AirbnbListingsAnalysis\").getOrCreate()"
   ]
  },
  {
   "cell_type": "code",
   "execution_count": 28,
   "metadata": {},
   "outputs": [
    {
     "name": "stdout",
     "output_type": "stream",
     "text": [
      "+----------------------------+------+--------------------+--------------------+-------+--------------+------------------------------+-----------------+-----------------+-----------------+-----+-------+----------------+--------+----------------+---------+----------+------------------+-----------------+--------------------+-----------------+----------------+\n",
      "|neighbourhood_group_cleansed|    id|         listing_url|                name|host_id|     host_name|calculated_host_listings_count|host_is_superhost|         latitude|        longitude|price|kitchen|patio or balcony|elevator|air conditioning|long_term|short_term|possible_long_term|number_of_reviews|review_scores_rating|room_type_encoded|bedrooms_encoded|\n",
      "+----------------------------+------+--------------------+--------------------+-------+--------------+------------------------------+-----------------+-----------------+-----------------+-----+-------+----------------+--------+----------------+---------+----------+------------------+-----------------+--------------------+-----------------+----------------+\n",
      "|                    Eixample|269467|https://www.airbn...|Sunny and quiet L...|1411775|      Jeremies|                             3|                f|         41.40181|           2.1761|176.0|      1|               1|       0|               1|        0|         0|                 1|               90|                4.74|                2|               0|\n",
      "|                Ciutat Vella|270197|https://www.airbn...|*monthly stays* 4...|1414702|        Ferran|                            27|                f|         41.37936|          2.17376| 74.0|      1|               0|       0|               0|        1|         0|                 1|                2|                 4.0|                2|               1|\n",
      "|                    Eixample| 18674|https://www.airbn...|Huge flat for 8 p...|  71615| Mireia  Maria|                            27|                f|         41.40556|          2.17262|257.0|      1|               1|       1|               0|        0|         0|                 1|               41|                4.35|                2|               1|\n",
      "|                    Eixample|272282|https://www.airbn...|CHARMING, VERY SP...|1425070|           Mar|                             1|                t|         41.38347|          2.15802|239.0|      1|               1|       1|               1|        0|         0|                 1|              414|                4.92|                2|               1|\n",
      "|                  Sant Martí| 23197|https://www.airbn...|Forum CCIB DeLuxe...|  90417|Etain (Marnie)|                             1|                f|41.41243172529066|2.219750335269476|249.0|      1|               1|       1|               0|        0|         0|                 1|               78|                4.79|                2|               1|\n",
      "+----------------------------+------+--------------------+--------------------+-------+--------------+------------------------------+-----------------+-----------------+-----------------+-----+-------+----------------+--------+----------------+---------+----------+------------------+-----------------+--------------------+-----------------+----------------+\n",
      "only showing top 5 rows\n",
      "\n"
     ]
    }
   ],
   "source": [
    "# Load dataset\n",
    "file_path = 'cleaned_listing_bcn.csv/part-00000-4bdb371e-09c4-41f1-87dd-723f88b00a3d-c000.csv'\n",
    "\n",
    "# Load the cleaned data\n",
    "df_bcn = spark.read.csv(file_path, header=True, inferSchema=True)\n",
    "\n",
    "# Display the schema to verify data types\n",
    "# df_bcn.printSchema()\n",
    "df_bcn.show(5)\n"
   ]
  },
  {
   "cell_type": "markdown",
   "metadata": {},
   "source": [
    "## Summary of Columns:\n",
    "    neighbourhood_group_cleansed: The neighborhood where the listing is located.\n",
    "    id: Unique identifier for the listing.\n",
    "    listing_url: URL of the listing.\n",
    "    name: Name of the listing.\n",
    "    host_id: Unique identifier for the host.\n",
    "    host_name: Name of the host.\n",
    "    calculated_host_listings_count: Number of listings managed by the host.\n",
    "    host_is_superhost: Whether the host is a superhost (a trusted, highly-rated host).\n",
    "    latitude & longitude: Geographic coordinates of the listing.\n",
    "    price: Price per night for the listing.\n",
    "    kitchen: Indicates if the listing has a kitchen.\n",
    "    patio or balcony, elevator, air conditioning: Amenities available in the listing.\n",
    "    long_term, short_term, possible_long_term: Indicates if the listing is available for long or short term.\n",
    "    number_of_reviews: Number of reviews the listing has received.\n",
    "    review_scores_rating: Average rating of the listing.\n",
    "    room_type_encoded: Encoded value representing the type of room (e.g., entire home, private room).\n",
    "    bedrooms_encoded: Encoded value indicating if the listing has more than one bedroom."
   ]
  },
  {
   "cell_type": "markdown",
   "metadata": {},
   "source": [
    "## 1. Basic Descriptive Statistics:"
   ]
  },
  {
   "cell_type": "code",
   "execution_count": 29,
   "metadata": {},
   "outputs": [
    {
     "name": "stdout",
     "output_type": "stream",
     "text": [
      "+-------+-----------------+------------------+--------------------+\n",
      "|summary|            price| number_of_reviews|review_scores_rating|\n",
      "+-------+-----------------+------------------+--------------------+\n",
      "|  count|            18898|             18898|               18898|\n",
      "|   mean|195.6262567467457|46.669383003492435|  3.4487617737326484|\n",
      "| stddev|294.5524571009359| 96.76817892359264|  2.4109771236735402|\n",
      "|    min|              0.0|                 0|                 0.0|\n",
      "|    max|          13714.0|              2121|               167.0|\n",
      "+-------+-----------------+------------------+--------------------+\n",
      "\n"
     ]
    }
   ],
   "source": [
    "# Get an overview of numeric columns such as price, number_of_reviews, and review_scores_rating.\n",
    "df_bcn.describe([\"price\", \"number_of_reviews\", \"review_scores_rating\"]).show()\n"
   ]
  },
  {
   "cell_type": "markdown",
   "metadata": {},
   "source": [
    "## 2. Neighborhood Analysis:\n",
    "### 2.1 Top Neighborhoods by Listing Count:"
   ]
  },
  {
   "cell_type": "code",
   "execution_count": 30,
   "metadata": {},
   "outputs": [
    {
     "name": "stdout",
     "output_type": "stream",
     "text": [
      "+----------------------------+-----+\n",
      "|neighbourhood_group_cleansed|count|\n",
      "+----------------------------+-----+\n",
      "|                    Eixample| 6706|\n",
      "|                Ciutat Vella| 4398|\n",
      "|              Sants-Montjuïc| 1973|\n",
      "|                  Sant Martí| 1749|\n",
      "|                      Gràcia| 1575|\n",
      "|         Sarrià-Sant Gervasi|  991|\n",
      "|              Horta-Guinardó|  556|\n",
      "|                   Les Corts|  404|\n",
      "|                 Sant Andreu|  314|\n",
      "|                  Nou Barris|  225|\n",
      "|                      Exempt|    5|\n",
      "|        Numero registro: ...|    1|\n",
      "|                 HUTB-002422|    1|\n",
      "+----------------------------+-----+\n",
      "\n"
     ]
    }
   ],
   "source": [
    "df_bcn.groupBy(\"neighbourhood_group_cleansed\").count().orderBy(\"count\", ascending=False).show()"
   ]
  },
  {
   "cell_type": "markdown",
   "metadata": {},
   "source": [
    "### 2.2 Average Price by Neighborhood:"
   ]
  },
  {
   "cell_type": "code",
   "execution_count": 31,
   "metadata": {},
   "outputs": [
    {
     "name": "stdout",
     "output_type": "stream",
     "text": [
      "+----------------------------+------------------+\n",
      "|neighbourhood_group_cleansed|        avg(price)|\n",
      "+----------------------------+------------------+\n",
      "|                    Eixample|239.30808231434537|\n",
      "|                      Gràcia|194.26222222222222|\n",
      "|                  Sant Martí|193.27730131503716|\n",
      "|              Sants-Montjuïc| 188.7389761784085|\n",
      "|                Ciutat Vella|167.07980900409277|\n",
      "|         Sarrià-Sant Gervasi|164.08072653884966|\n",
      "|                   Les Corts|156.77970297029702|\n",
      "|              Horta-Guinardó| 119.9658273381295|\n",
      "|                 Sant Andreu| 93.79617834394904|\n",
      "|                  Nou Barris|             83.72|\n",
      "|                 HUTB-002422|               3.0|\n",
      "|                      Exempt|               1.0|\n",
      "|        Numero registro: ...|               0.0|\n",
      "+----------------------------+------------------+\n",
      "\n"
     ]
    }
   ],
   "source": [
    "df_bcn.groupBy(\"neighbourhood_group_cleansed\").agg({\"price\": \"mean\"}).orderBy(\"avg(price)\", ascending=False).show()"
   ]
  },
  {
   "cell_type": "markdown",
   "metadata": {},
   "source": [
    "## 3. Price Distribution:"
   ]
  },
  {
   "cell_type": "code",
   "execution_count": 32,
   "metadata": {},
   "outputs": [
    {
     "name": "stdout",
     "output_type": "stream",
     "text": [
      "+-------+-----------------+\n",
      "|summary|            price|\n",
      "+-------+-----------------+\n",
      "|  count|            18898|\n",
      "|   mean|195.6262567467457|\n",
      "| stddev|294.5524571009359|\n",
      "|    min|              0.0|\n",
      "|    25%|             82.0|\n",
      "|    50%|            167.0|\n",
      "|    75%|            239.0|\n",
      "|    max|          13714.0|\n",
      "+-------+-----------------+\n",
      "\n"
     ]
    }
   ],
   "source": [
    "df_bcn.select(\"price\").summary().show()"
   ]
  },
  {
   "cell_type": "markdown",
   "metadata": {
    "vscode": {
     "languageId": "bat"
    }
   },
   "source": [
    "## 4.  Review Analysis:\n",
    "### 4.1 Review Scores Distribution:"
   ]
  },
  {
   "cell_type": "code",
   "execution_count": 33,
   "metadata": {},
   "outputs": [
    {
     "name": "stdout",
     "output_type": "stream",
     "text": [
      "+--------------------+-----+\n",
      "|review_scores_rating|count|\n",
      "+--------------------+-----+\n",
      "|                 0.0| 4768|\n",
      "|                 1.0|   68|\n",
      "|                1.25|    1|\n",
      "|                 1.5|    2|\n",
      "|                1.67|    1|\n",
      "|                 2.0|   49|\n",
      "|                2.17|    1|\n",
      "|                2.25|    1|\n",
      "|                2.33|    2|\n",
      "|                2.45|    1|\n",
      "|                 2.5|   19|\n",
      "|                 2.6|    1|\n",
      "|                2.63|    1|\n",
      "|                2.67|   10|\n",
      "|                2.71|    1|\n",
      "|                2.75|    1|\n",
      "|                 2.8|    1|\n",
      "|                2.83|    1|\n",
      "|                2.86|    1|\n",
      "|                2.88|    1|\n",
      "+--------------------+-----+\n",
      "only showing top 20 rows\n",
      "\n"
     ]
    }
   ],
   "source": [
    "df_bcn.groupBy(\"review_scores_rating\").count().orderBy(\"review_scores_rating\").show()"
   ]
  },
  {
   "cell_type": "code",
   "execution_count": 34,
   "metadata": {},
   "outputs": [
    {
     "name": "stdout",
     "output_type": "stream",
     "text": [
      "+----------------------------+-------------------------+\n",
      "|neighbourhood_group_cleansed|avg(review_scores_rating)|\n",
      "+----------------------------+-------------------------+\n",
      "|        Numero registro: ...|                    167.0|\n",
      "|                      Exempt|                     20.2|\n",
      "|                    Eixample|        3.558294065016386|\n",
      "|                  Sant Martí|       3.5499656946826788|\n",
      "|              Sants-Montjuïc|       3.5253522554485524|\n",
      "|                      Gràcia|        3.469161904761904|\n",
      "|                Ciutat Vella|       3.3784424738517447|\n",
      "|              Horta-Guinardó|       3.2126079136690637|\n",
      "|                   Les Corts|       3.2003960396039592|\n",
      "|                 Sant Andreu|        3.186210191082802|\n",
      "|                  Nou Barris|       3.0543111111111103|\n",
      "|         Sarrià-Sant Gervasi|       2.8145206861755807|\n",
      "|                 HUTB-002422|                      2.0|\n",
      "+----------------------------+-------------------------+\n",
      "\n"
     ]
    }
   ],
   "source": [
    "# 4.2 Average Review Scores by Neighborhood:\n",
    "df_bcn.groupBy(\"neighbourhood_group_cleansed\").agg({\"review_scores_rating\": \"mean\"}).orderBy(\"avg(review_scores_rating)\", ascending=False).show()\n"
   ]
  },
  {
   "cell_type": "markdown",
   "metadata": {},
   "source": [
    "## 5.  Amenities Analysis:\n",
    "### Count of Listings with Specific Amenities:"
   ]
  },
  {
   "cell_type": "code",
   "execution_count": 39,
   "metadata": {},
   "outputs": [
    {
     "name": "stdout",
     "output_type": "stream",
     "text": [
      "+-------+----------------+--------+----------------+-----+\n",
      "|kitchen|air conditioning|elevator|patio or balcony|count|\n",
      "+-------+----------------+--------+----------------+-----+\n",
      "|      0|               1|       1|               0|  469|\n",
      "|      0|               0|       0|               0|  391|\n",
      "|      0|               0|       1|               0|  244|\n",
      "|      1|               0|       0|               0| 2532|\n",
      "|      1|               1|       0|               0| 2951|\n",
      "|$500.00|               1|       1|               1|    1|\n",
      "|      0|               0|       1|               1|   57|\n",
      "| $92.00|               0|       0|               1|    3|\n",
      "|      1|               0|       1|               0| 1571|\n",
      "|      0|               1|       0|               1|   78|\n",
      "| $50.00|               1|       0|               0|    1|\n",
      "|      0|               1|       1|               1|  145|\n",
      "|      1|               1|       1|               1| 3328|\n",
      "|      1|               1|       0|               1| 1486|\n",
      "|      0|               0|       0|               1|   72|\n",
      "|      1|               0|       1|               1| 1301|\n",
      "|      0|               1|       0|               0|  420|\n",
      "|      1|               1|       1|               0| 2833|\n",
      "| $47.00|               1|       1|               0|    1|\n",
      "| $90.00|               1|       1|               1|    1|\n",
      "+-------+----------------+--------+----------------+-----+\n",
      "only showing top 20 rows\n",
      "\n"
     ]
    }
   ],
   "source": [
    "df_bcn.groupBy(\"kitchen\", \"air conditioning\", \"elevator\", \"patio or balcony\").count().show()"
   ]
  },
  {
   "cell_type": "markdown",
   "metadata": {},
   "source": [
    "## 6. Room Type vs. Price: \n",
    "### Average Price by Room Type:"
   ]
  },
  {
   "cell_type": "code",
   "execution_count": 40,
   "metadata": {},
   "outputs": [
    {
     "name": "stdout",
     "output_type": "stream",
     "text": [
      "+-----------------+------------------+\n",
      "|room_type_encoded|        avg(price)|\n",
      "+-----------------+------------------+\n",
      "|                2|239.86529884032115|\n",
      "|                1| 131.5107541157727|\n",
      "|                0|112.28205128205128|\n",
      "+-----------------+------------------+\n",
      "\n"
     ]
    }
   ],
   "source": [
    "df_bcn.groupBy(\"room_type_encoded\").agg({\"price\": \"mean\"}).orderBy(\"avg(price)\", ascending=False).show()"
   ]
  },
  {
   "cell_type": "markdown",
   "metadata": {},
   "source": [
    "## 7. Host Analysis:\n",
    "### 7.1 Superhost vs. Price:"
   ]
  },
  {
   "cell_type": "code",
   "execution_count": 41,
   "metadata": {},
   "outputs": [
    {
     "name": "stdout",
     "output_type": "stream",
     "text": [
      "+-----------------+------------------+\n",
      "|host_is_superhost|        avg(price)|\n",
      "+-----------------+------------------+\n",
      "|                t|209.02000533475592|\n",
      "|                f| 192.4000132082948|\n",
      "|              207|               3.0|\n",
      "|               15|               1.0|\n",
      "|                2|               1.0|\n",
      "|                1|               0.0|\n",
      "+-----------------+------------------+\n",
      "\n"
     ]
    }
   ],
   "source": [
    "df_bcn.groupBy(\"host_is_superhost\").agg({\"price\": \"mean\"}).orderBy(\"avg(price)\", ascending=False).show()"
   ]
  },
  {
   "cell_type": "markdown",
   "metadata": {},
   "source": [
    "### 7.2 Host Listings Count:"
   ]
  },
  {
   "cell_type": "code",
   "execution_count": 42,
   "metadata": {},
   "outputs": [
    {
     "name": "stdout",
     "output_type": "stream",
     "text": [
      "+------------------------------+------------------+\n",
      "|calculated_host_listings_count|        avg(price)|\n",
      "+------------------------------+------------------+\n",
      "|                           207| 767.2038834951456|\n",
      "|                            23| 449.3623188405797|\n",
      "|                            36| 379.6111111111111|\n",
      "|                           195| 366.9846153846154|\n",
      "|                            43| 332.3953488372093|\n",
      "|                            30|328.26666666666665|\n",
      "|                           140|            325.65|\n",
      "|                            52| 302.9807692307692|\n",
      "|                            80|          296.1625|\n",
      "|                            34|292.19117647058823|\n",
      "|                            35| 292.1771428571429|\n",
      "|                            76|287.88157894736844|\n",
      "|                            66| 285.3333333333333|\n",
      "|                            44|274.40909090909093|\n",
      "|                            50|            273.68|\n",
      "|                            37| 273.1261261261261|\n",
      "|                            41| 272.7560975609756|\n",
      "|                             6| 271.9828178694158|\n",
      "|                           184|270.83152173913044|\n",
      "|                            21|267.20952380952383|\n",
      "+------------------------------+------------------+\n",
      "only showing top 20 rows\n",
      "\n"
     ]
    }
   ],
   "source": [
    "df_bcn.groupBy(\"calculated_host_listings_count\").agg({\"price\": \"mean\"}).orderBy(\"avg(price)\", ascending=False).show()"
   ]
  },
  {
   "cell_type": "code",
   "execution_count": null,
   "metadata": {},
   "outputs": [],
   "source": [
    "## Geographic Distribution of Listings:"
   ]
  },
  {
   "cell_type": "code",
   "execution_count": null,
   "metadata": {},
   "outputs": [],
   "source": [
    "# Collect latitude and longitude data for visualization\n",
    "geo_data = df_mad.select(\"latitude\", \"longitude\").toPandas()\n",
    "\n",
    "# Save to CSV or another format for use in visualization tools\n",
    "geo_data.to_csv(\"geographic_distribution.csv\", index=False)"
   ]
  }
 ],
 "metadata": {
  "kernelspec": {
   "display_name": "Python 3 (ipykernel)",
   "language": "python",
   "name": "python3"
  },
  "language_info": {
   "codemirror_mode": {
    "name": "ipython",
    "version": 3
   },
   "file_extension": ".py",
   "mimetype": "text/x-python",
   "name": "python",
   "nbconvert_exporter": "python",
   "pygments_lexer": "ipython3",
   "version": "3.9.6"
  }
 },
 "nbformat": 4,
 "nbformat_minor": 4
}
