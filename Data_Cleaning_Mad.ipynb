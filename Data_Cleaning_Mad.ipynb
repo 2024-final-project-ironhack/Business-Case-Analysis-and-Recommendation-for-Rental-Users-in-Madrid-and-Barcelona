{
 "cells": [
  {
   "cell_type": "code",
   "execution_count": 1,
   "metadata": {},
   "outputs": [
    {
     "name": "stderr",
     "output_type": "stream",
     "text": [
      "24/08/16 14:55:15 WARN Utils: Your hostname, Kurtis-MacBook.local resolves to a loopback address: 127.0.0.1; using 192.168.1.35 instead (on interface en0)\n",
      "24/08/16 14:55:15 WARN Utils: Set SPARK_LOCAL_IP if you need to bind to another address\n",
      "Setting default log level to \"WARN\".\n",
      "To adjust logging level use sc.setLogLevel(newLevel). For SparkR, use setLogLevel(newLevel).\n",
      "24/08/16 14:55:16 WARN NativeCodeLoader: Unable to load native-hadoop library for your platform... using builtin-java classes where applicable\n",
      "                                                                                \r"
     ]
    }
   ],
   "source": [
    "from pyspark.sql import SparkSession\n",
    "import pandas as pd\n",
    "\n",
    "# Initialize a Spark session\n",
    "spark = SparkSession.builder.appName(\"AirbnbPriceFilling\").getOrCreate()\n",
    "\n",
    "# Cargar dataset de Madrid\n",
    "# Load your datasets into Spark DataFrames\n",
    "orig_mad = spark.read.csv('datasets/datasets_originales/listings-detailed-mad-original.csv', header=True, inferSchema=True, multiLine=True, sep=',', quote='\"', escape='\\\\')\n",
    "df_mad = spark.read.csv('datasets//data_cleaning_temporary/listings_prepared_mad.csv', header=True, inferSchema=True)"
   ]
  },
  {
   "cell_type": "code",
   "execution_count": 2,
   "metadata": {},
   "outputs": [
    {
     "name": "stdout",
     "output_type": "stream",
     "text": [
      "+-------------------+--------------------+--------------------+---------+---------------+------------------------------+-----------------+-------+----------------------------+-----------------+-------------------+------------+--------+-------+-------+----------------+--------+----------------+---------+----------+------------------+-----------------+--------------------+\n",
      "|                 id|         listing_url|                name|  host_id|      host_name|calculated_host_listings_count|host_is_superhost|license|neighbourhood_group_cleansed|         latitude|          longitude|   room_type|bedrooms|  price|kitchen|patio or balcony|elevator|air conditioning|long_term|short_term|possible_long_term|number_of_reviews|review_scores_rating|\n",
      "+-------------------+--------------------+--------------------+---------+---------------+------------------------------+-----------------+-------+----------------------------+-----------------+-------------------+------------+--------+-------+-------+----------------+--------+----------------+---------+----------+------------------+-----------------+--------------------+\n",
      "|1104967621421098322|https://www.airbn...|Habitación de luj...|565307927|       Carolina|                             1|                f|   NULL|                      Retiro|       40.4069796|         -3.6750154|Private room|     1.0| $68.00|      0|               0|       0|               0|        0|         1|                 0|                2|                 4.5|\n",
      "| 930941073152690361|https://www.airbn...|habitación para p...|442944608| Jonathan Jesus|                             2|                f|   NULL|          Puente de Vallecas|          40.3921|           -3.67003|Private room|     1.0| $16.00|      0|               0|       0|               0|        0|         0|                 1|                3|                 5.0|\n",
      "|           51647382|https://www.airbn...|Buenos Aires en M...|252336445|          Norma|                             2|                f|   NULL|          Puente de Vallecas|         40.39511|           -3.67143|Private room|     2.0| $25.00|      1|               0|       0|               0|        0|         0|                 1|              186|                4.67|\n",
      "|1026072412626070839|https://www.airbn...|Habitación Madrid...|545435841|     Gean Piero|                             1|                f|   NULL|                 Carabanchel|40.39555483922258|-3.7164371179819233|Private room|     1.0| $26.00|      1|               0|       0|               0|        0|         0|                 1|                1|                 5.0|\n",
      "| 766423030884644417|https://www.airbn...|habitación para t...|  3882456|Gabriela CHÁVEZ|                             1|                f|   NULL|                   Salamanca|         40.43045|            -3.6721|Private room|     1.0|$100.00|      1|               0|       0|               1|        0|         1|                 0|                0|                NULL|\n",
      "+-------------------+--------------------+--------------------+---------+---------------+------------------------------+-----------------+-------+----------------------------+-----------------+-------------------+------------+--------+-------+-------+----------------+--------+----------------+---------+----------+------------------+-----------------+--------------------+\n",
      "only showing top 5 rows\n",
      "\n"
     ]
    }
   ],
   "source": [
    "df_mad.show(5)"
   ]
  },
  {
   "cell_type": "code",
   "execution_count": 3,
   "metadata": {},
   "outputs": [
    {
     "name": "stdout",
     "output_type": "stream",
     "text": [
      "root\n",
      " |-- id: string (nullable = true)\n",
      " |-- listing_url: string (nullable = true)\n",
      " |-- scrape_id: string (nullable = true)\n",
      " |-- last_scraped: string (nullable = true)\n",
      " |-- source: string (nullable = true)\n",
      " |-- name: string (nullable = true)\n",
      " |-- description: string (nullable = true)\n",
      " |-- neighborhood_overview: string (nullable = true)\n",
      " |-- picture_url: string (nullable = true)\n",
      " |-- host_id: string (nullable = true)\n",
      " |-- host_url: string (nullable = true)\n",
      " |-- host_name: string (nullable = true)\n",
      " |-- host_since: string (nullable = true)\n",
      " |-- host_location: string (nullable = true)\n",
      " |-- host_about: string (nullable = true)\n",
      " |-- host_response_time: string (nullable = true)\n",
      " |-- host_response_rate: string (nullable = true)\n",
      " |-- host_acceptance_rate: string (nullable = true)\n",
      " |-- host_is_superhost: string (nullable = true)\n",
      " |-- host_thumbnail_url: string (nullable = true)\n",
      " |-- host_picture_url: string (nullable = true)\n",
      " |-- host_neighbourhood: string (nullable = true)\n",
      " |-- host_listings_count: string (nullable = true)\n",
      " |-- host_total_listings_count: string (nullable = true)\n",
      " |-- host_verifications: string (nullable = true)\n",
      " |-- host_has_profile_pic: string (nullable = true)\n",
      " |-- host_identity_verified: string (nullable = true)\n",
      " |-- neighbourhood: string (nullable = true)\n",
      " |-- neighbourhood_cleansed: string (nullable = true)\n",
      " |-- neighbourhood_group_cleansed: string (nullable = true)\n",
      " |-- latitude: string (nullable = true)\n",
      " |-- longitude: string (nullable = true)\n",
      " |-- property_type: string (nullable = true)\n",
      " |-- room_type: string (nullable = true)\n",
      " |-- accommodates: string (nullable = true)\n",
      " |-- bathrooms: string (nullable = true)\n",
      " |-- bathrooms_text: string (nullable = true)\n",
      " |-- bedrooms: string (nullable = true)\n",
      " |-- beds: string (nullable = true)\n",
      " |-- amenities: string (nullable = true)\n",
      " |-- price: string (nullable = true)\n",
      " |-- minimum_nights: string (nullable = true)\n",
      " |-- maximum_nights: string (nullable = true)\n",
      " |-- minimum_minimum_nights: string (nullable = true)\n",
      " |-- maximum_minimum_nights: string (nullable = true)\n",
      " |-- minimum_maximum_nights: string (nullable = true)\n",
      " |-- maximum_maximum_nights: string (nullable = true)\n",
      " |-- minimum_nights_avg_ntm: string (nullable = true)\n",
      " |-- maximum_nights_avg_ntm: string (nullable = true)\n",
      " |-- calendar_updated: string (nullable = true)\n",
      " |-- has_availability: string (nullable = true)\n",
      " |-- availability_30: string (nullable = true)\n",
      " |-- availability_60: string (nullable = true)\n",
      " |-- availability_90: string (nullable = true)\n",
      " |-- availability_365: string (nullable = true)\n",
      " |-- calendar_last_scraped: string (nullable = true)\n",
      " |-- number_of_reviews: string (nullable = true)\n",
      " |-- number_of_reviews_ltm: string (nullable = true)\n",
      " |-- number_of_reviews_l30d: string (nullable = true)\n",
      " |-- first_review: string (nullable = true)\n",
      " |-- last_review: string (nullable = true)\n",
      " |-- review_scores_rating: string (nullable = true)\n",
      " |-- review_scores_accuracy: string (nullable = true)\n",
      " |-- review_scores_cleanliness: string (nullable = true)\n",
      " |-- review_scores_checkin: string (nullable = true)\n",
      " |-- review_scores_communication: string (nullable = true)\n",
      " |-- review_scores_location: string (nullable = true)\n",
      " |-- review_scores_value: string (nullable = true)\n",
      " |-- license: string (nullable = true)\n",
      " |-- instant_bookable: string (nullable = true)\n",
      " |-- calculated_host_listings_count: string (nullable = true)\n",
      " |-- calculated_host_listings_count_entire_homes: string (nullable = true)\n",
      " |-- calculated_host_listings_count_private_rooms: string (nullable = true)\n",
      " |-- calculated_host_listings_count_shared_rooms: string (nullable = true)\n",
      " |-- reviews_per_month: string (nullable = true)\n",
      "\n"
     ]
    },
    {
     "name": "stderr",
     "output_type": "stream",
     "text": [
      "24/08/16 14:55:33 WARN SparkStringUtils: Truncated the string representation of a plan since it was too large. This behavior can be adjusted by setting 'spark.sql.debug.maxToStringFields'.\n",
      "                                                                                \r"
     ]
    },
    {
     "name": "stdout",
     "output_type": "stream",
     "text": [
      "+-------------------+--------------------+--------------+------------+-----------+--------------------+--------------------+---------------------+--------------------+---------+--------------------+---------------+----------+-------------+--------------------+------------------+------------------+--------------------+-----------------+--------------------+--------------------+------------------+-------------------+-------------------------+--------------------+--------------------+----------------------+--------------------+----------------------+----------------------------+-----------------+-------------------+--------------------+------------+------------+---------+--------------+--------+----+--------------------+--------------------+--------------------+--------------------+----------------------+----------------------+----------------------+----------------------+----------------------+----------------------+----------------+----------------+---------------+---------------+---------------+----------------+---------------------+-----------------+---------------------+----------------------+------------+-----------+--------------------+----------------------+-------------------------+---------------------+---------------------------+----------------------+-------------------+-------+----------------+------------------------------+-------------------------------------------+--------------------------------------------+-------------------------------------------+-----------------+\n",
      "|                 id|         listing_url|     scrape_id|last_scraped|     source|                name|         description|neighborhood_overview|         picture_url|  host_id|            host_url|      host_name|host_since|host_location|          host_about|host_response_time|host_response_rate|host_acceptance_rate|host_is_superhost|  host_thumbnail_url|    host_picture_url|host_neighbourhood|host_listings_count|host_total_listings_count|  host_verifications|host_has_profile_pic|host_identity_verified|       neighbourhood|neighbourhood_cleansed|neighbourhood_group_cleansed|         latitude|          longitude|       property_type|   room_type|accommodates|bathrooms|bathrooms_text|bedrooms|beds|           amenities|               price|      minimum_nights|      maximum_nights|minimum_minimum_nights|maximum_minimum_nights|minimum_maximum_nights|maximum_maximum_nights|minimum_nights_avg_ntm|maximum_nights_avg_ntm|calendar_updated|has_availability|availability_30|availability_60|availability_90|availability_365|calendar_last_scraped|number_of_reviews|number_of_reviews_ltm|number_of_reviews_l30d|first_review|last_review|review_scores_rating|review_scores_accuracy|review_scores_cleanliness|review_scores_checkin|review_scores_communication|review_scores_location|review_scores_value|license|instant_bookable|calculated_host_listings_count|calculated_host_listings_count_entire_homes|calculated_host_listings_count_private_rooms|calculated_host_listings_count_shared_rooms|reviews_per_month|\n",
      "+-------------------+--------------------+--------------+------------+-----------+--------------------+--------------------+---------------------+--------------------+---------+--------------------+---------------+----------+-------------+--------------------+------------------+------------------+--------------------+-----------------+--------------------+--------------------+------------------+-------------------+-------------------------+--------------------+--------------------+----------------------+--------------------+----------------------+----------------------------+-----------------+-------------------+--------------------+------------+------------+---------+--------------+--------+----+--------------------+--------------------+--------------------+--------------------+----------------------+----------------------+----------------------+----------------------+----------------------+----------------------+----------------+----------------+---------------+---------------+---------------+----------------+---------------------+-----------------+---------------------+----------------------+------------+-----------+--------------------+----------------------+-------------------------+---------------------+---------------------------+----------------------+-------------------+-------+----------------+------------------------------+-------------------------------------------+--------------------------------------------+-------------------------------------------+-----------------+\n",
      "|1104967621421098322|https://www.airbn...|20240615011404|  2024-06-15|city scrape|Habitación de luj...|                NULL|                 NULL|https://a0.muscac...|565307927|https://www.airbn...|       Carolina|2024-03-04|Madrid, Spain|Hola; mi nombre e...|    within an hour|              100%|                100%|                f|https://a0.muscac...|https://a0.muscac...|              NULL|                  1|                        1|  ['email', 'phone']|                   t|                     t|                NULL|              Pacífico|                      Retiro|       40.4069796|         -3.6750154|Private room in r...|Private room|           2|      1.0|        1 bath|       1|   0|                  []|              $68.00|                   1|                  30|                     1|                     1|                    30|                    30|                   1.0|                  30.0|            NULL|               t|              2|              2|              2|               2|           2024-06-15|                2|                    2|                     0|  2024-03-10| 2024-05-08|                 4.5|                   5.0|                      5.0|                  5.0|                        5.0|                   5.0|                5.0|   NULL|               f|                             1|                                          0|                                           1|                                          0|             0.61|\n",
      "| 930941073152690361|https://www.airbn...|20240615011404|  2024-06-15|city scrape|habitación para p...|Rent room for loo...|                 NULL|https://a0.muscac...|442944608|https://www.airbn...| Jonathan Jesus|2022-01-31|Madrid, Spain|somos una pareja ...|a few days or more|                0%|                 57%|                f|https://a0.muscac...|https://a0.muscac...|              NULL|                  2|                        4|           ['phone']|                   t|                     t|                NULL|             San Diego|          Puente de Vallecas|          40.3921|           -3.67003|Private room in r...|Private room|           2|      1.0|        1 bath|       1|   1|        \"[\"\"Wifi\"\"]\"|              $16.00|                   1|                 365|                     1|                     1|                   365|                   365|                   1.0|                 365.0|            NULL|               t|              0|              8|             18|             185|           2024-06-15|                3|                    3|                     0|  2023-07-29| 2023-10-04|                 5.0|                   5.0|                      5.0|                  5.0|                        5.0|                  4.67|                5.0|   NULL|               f|                             2|                                          0|                                           2|                                          0|             0.28|\n",
      "|           51647382|https://www.airbn...|20240615011404|  2024-06-15|city scrape|Buenos Aires en M...|This special plac...| The neighborhood ...|https://a0.muscac...|252336445|https://www.airbn...|          Norma|2019-03-31|Madrid, Spain|         Aire Fresco|    within an hour|              100%|                100%|                f|https://a0.muscac...|https://a0.muscac...|              NULL|                  2|                        2|  ['email', 'phone']|                   t|                     t|Madrid, Comunidad...|             San Diego|          Puente de Vallecas|         40.39511|           -3.67143|Private room in home|Private room|           1|      1.0| 1 shared bath|       2|   3|\"[\"\"Outdoor dinin...|              \"\"TV\"\"| \"\"Free parking o...| \"\"Fire extinguis...|           \"\"Kitchen\"\"|              \"\"Wifi\"\"|   \"\"Dedicated work...|   \"\"First aid kit\"\"]\"|                $25.00|                     1|            1125|               1|              1|           1125|           1125|             1.0|               1125.0|             NULL|                    t|                    21|          51|         81|                 356|            2024-06-15|                      186|                   65|                          7|            2021-08-17|         2024-05-29|   4.67|            4.71|                          4.59|                                        4.8|                                        4.83|                                       4.51|             4.61|\n",
      "|1026072412626070839|https://www.airbn...|20240615011404|  2024-06-15|city scrape|Habitación Madrid...|Enjoy the simplic...|                 NULL|https://a0.muscac...|545435841|https://www.airbn...|     Gean Piero|2023-11-07|         NULL|                NULL|               N/A|               N/A|                 33%|                f|https://a0.muscac...|https://a0.muscac...|              NULL|                  1|                        1|  ['email', 'phone']|                   t|                     t|                NULL|                Opañel|                 Carabanchel|40.39555483922258|-3.7164371179819233|Private room in r...|Private room|           3|      1.0| 1 shared bath|       1|   2|\"[\"\"Lock on bedro...|            \"\"Wifi\"\"|       \"\"Kitchen\"\"]\"|              $26.00|                     2|                   365|                     2|                     2|                   365|                   365|             2.0|           365.0|           NULL|              t|              0|               0|                   12|               12|           2024-06-15|                     1|           1|          0|          2023-11-20|            2023-11-20|                      5.0|                  5.0|                        5.0|                   5.0|                5.0|    5.0|             5.0|                          NULL|                                          f|                                           1|                                          0|                1|\n",
      "| 766423030884644417|https://www.airbn...|20240615011404|  2024-06-15|city scrape|habitación para t...|Enjoy a stylish e...|                 NULL|https://a0.muscac...|  3882456|https://www.airbn...|Gabriela CHÁVEZ|2012-10-15|Madrid, Spain|Viajera incansabl...|               N/A|               N/A|                 N/A|                f|https://a0.muscac...|https://a0.muscac...|              NULL|                  2|                        4|['email', 'phone'...|                   t|                     t|                NULL|                 Lista|                   Salamanca|         40.43045|            -3.6721|Private room in r...|Private room|           1|      1.0| 1 shared bath|       1|   1|        \"[\"\"Washer\"\"| \"\"Lock on bedroo...| \"\"Air conditioni...|         \"\"Kitchen\"\"|              \"\"Wifi\"\"|   \"\"Dedicated work...|   \"\"Exterior secur...|               $100.00|                     7|                    10|               7|               7|             10|             10|            7.0|            10.0|                 NULL|                t|                   29|                    59|          89|        364|          2024-06-15|                     0|                        0|                    0|                       NULL|                  NULL|               NULL|   NULL|            NULL|                          NULL|                                       NULL|                                        NULL|                                       NULL|             NULL|\n",
      "+-------------------+--------------------+--------------+------------+-----------+--------------------+--------------------+---------------------+--------------------+---------+--------------------+---------------+----------+-------------+--------------------+------------------+------------------+--------------------+-----------------+--------------------+--------------------+------------------+-------------------+-------------------------+--------------------+--------------------+----------------------+--------------------+----------------------+----------------------------+-----------------+-------------------+--------------------+------------+------------+---------+--------------+--------+----+--------------------+--------------------+--------------------+--------------------+----------------------+----------------------+----------------------+----------------------+----------------------+----------------------+----------------+----------------+---------------+---------------+---------------+----------------+---------------------+-----------------+---------------------+----------------------+------------+-----------+--------------------+----------------------+-------------------------+---------------------+---------------------------+----------------------+-------------------+-------+----------------+------------------------------+-------------------------------------------+--------------------------------------------+-------------------------------------------+-----------------+\n",
      "only showing top 5 rows\n",
      "\n"
     ]
    }
   ],
   "source": [
    "orig_mad.printSchema()\n",
    "from pyspark.sql.functions import col, regexp_extract\n",
    "\n",
    "# Use a regular expression to filter out non-numeric 'id' values\n",
    "# Regular expression to match only numeric strings\n",
    "df_numeric_ids = orig_mad.filter(regexp_extract(col(\"id\"), r'^\\d+$', 0) != '')\n",
    "\n",
    "# Show the result to verify the changes\n",
    "df_numeric_ids.show(5)"
   ]
  },
  {
   "cell_type": "code",
   "execution_count": 4,
   "metadata": {},
   "outputs": [
    {
     "ename": "AnalysisException",
     "evalue": "[PATH_ALREADY_EXISTS] Path file:/Users/kurtiswalton/Ironhack/final-project/temp_ids_mad.csv already exists. Set mode as \"overwrite\" to overwrite the existing path.",
     "output_type": "error",
     "traceback": [
      "\u001b[0;31m---------------------------------------------------------------------------\u001b[0m",
      "\u001b[0;31mAnalysisException\u001b[0m                         Traceback (most recent call last)",
      "Cell \u001b[0;32mIn[4], line 2\u001b[0m\n\u001b[1;32m      1\u001b[0m \u001b[38;5;66;03m# Optionally, save the cleaned DataFrame to a new CSV file\u001b[39;00m\n\u001b[0;32m----> 2\u001b[0m \u001b[43mdf_numeric_ids\u001b[49m\u001b[38;5;241;43m.\u001b[39;49m\u001b[43mwrite\u001b[49m\u001b[38;5;241;43m.\u001b[39;49m\u001b[43mcsv\u001b[49m\u001b[43m(\u001b[49m\u001b[38;5;124;43m\"\u001b[39;49m\u001b[38;5;124;43mtemp_ids_mad.csv\u001b[39;49m\u001b[38;5;124;43m\"\u001b[39;49m\u001b[43m,\u001b[49m\u001b[43m \u001b[49m\u001b[43mheader\u001b[49m\u001b[38;5;241;43m=\u001b[39;49m\u001b[38;5;28;43;01mTrue\u001b[39;49;00m\u001b[43m)\u001b[49m\n",
      "File \u001b[0;32m~/Library/Python/3.9/lib/python/site-packages/pyspark/sql/readwriter.py:1864\u001b[0m, in \u001b[0;36mDataFrameWriter.csv\u001b[0;34m(self, path, mode, compression, sep, quote, escape, header, nullValue, escapeQuotes, quoteAll, dateFormat, timestampFormat, ignoreLeadingWhiteSpace, ignoreTrailingWhiteSpace, charToEscapeQuoteEscaping, encoding, emptyValue, lineSep)\u001b[0m\n\u001b[1;32m   1845\u001b[0m \u001b[38;5;28mself\u001b[39m\u001b[38;5;241m.\u001b[39mmode(mode)\n\u001b[1;32m   1846\u001b[0m \u001b[38;5;28mself\u001b[39m\u001b[38;5;241m.\u001b[39m_set_opts(\n\u001b[1;32m   1847\u001b[0m     compression\u001b[38;5;241m=\u001b[39mcompression,\n\u001b[1;32m   1848\u001b[0m     sep\u001b[38;5;241m=\u001b[39msep,\n\u001b[0;32m   (...)\u001b[0m\n\u001b[1;32m   1862\u001b[0m     lineSep\u001b[38;5;241m=\u001b[39mlineSep,\n\u001b[1;32m   1863\u001b[0m )\n\u001b[0;32m-> 1864\u001b[0m \u001b[38;5;28;43mself\u001b[39;49m\u001b[38;5;241;43m.\u001b[39;49m\u001b[43m_jwrite\u001b[49m\u001b[38;5;241;43m.\u001b[39;49m\u001b[43mcsv\u001b[49m\u001b[43m(\u001b[49m\u001b[43mpath\u001b[49m\u001b[43m)\u001b[49m\n",
      "File \u001b[0;32m~/Library/Python/3.9/lib/python/site-packages/py4j/java_gateway.py:1322\u001b[0m, in \u001b[0;36mJavaMember.__call__\u001b[0;34m(self, *args)\u001b[0m\n\u001b[1;32m   1316\u001b[0m command \u001b[38;5;241m=\u001b[39m proto\u001b[38;5;241m.\u001b[39mCALL_COMMAND_NAME \u001b[38;5;241m+\u001b[39m\\\n\u001b[1;32m   1317\u001b[0m     \u001b[38;5;28mself\u001b[39m\u001b[38;5;241m.\u001b[39mcommand_header \u001b[38;5;241m+\u001b[39m\\\n\u001b[1;32m   1318\u001b[0m     args_command \u001b[38;5;241m+\u001b[39m\\\n\u001b[1;32m   1319\u001b[0m     proto\u001b[38;5;241m.\u001b[39mEND_COMMAND_PART\n\u001b[1;32m   1321\u001b[0m answer \u001b[38;5;241m=\u001b[39m \u001b[38;5;28mself\u001b[39m\u001b[38;5;241m.\u001b[39mgateway_client\u001b[38;5;241m.\u001b[39msend_command(command)\n\u001b[0;32m-> 1322\u001b[0m return_value \u001b[38;5;241m=\u001b[39m \u001b[43mget_return_value\u001b[49m\u001b[43m(\u001b[49m\n\u001b[1;32m   1323\u001b[0m \u001b[43m    \u001b[49m\u001b[43manswer\u001b[49m\u001b[43m,\u001b[49m\u001b[43m \u001b[49m\u001b[38;5;28;43mself\u001b[39;49m\u001b[38;5;241;43m.\u001b[39;49m\u001b[43mgateway_client\u001b[49m\u001b[43m,\u001b[49m\u001b[43m \u001b[49m\u001b[38;5;28;43mself\u001b[39;49m\u001b[38;5;241;43m.\u001b[39;49m\u001b[43mtarget_id\u001b[49m\u001b[43m,\u001b[49m\u001b[43m \u001b[49m\u001b[38;5;28;43mself\u001b[39;49m\u001b[38;5;241;43m.\u001b[39;49m\u001b[43mname\u001b[49m\u001b[43m)\u001b[49m\n\u001b[1;32m   1325\u001b[0m \u001b[38;5;28;01mfor\u001b[39;00m temp_arg \u001b[38;5;129;01min\u001b[39;00m temp_args:\n\u001b[1;32m   1326\u001b[0m     \u001b[38;5;28;01mif\u001b[39;00m \u001b[38;5;28mhasattr\u001b[39m(temp_arg, \u001b[38;5;124m\"\u001b[39m\u001b[38;5;124m_detach\u001b[39m\u001b[38;5;124m\"\u001b[39m):\n",
      "File \u001b[0;32m~/Library/Python/3.9/lib/python/site-packages/pyspark/errors/exceptions/captured.py:185\u001b[0m, in \u001b[0;36mcapture_sql_exception.<locals>.deco\u001b[0;34m(*a, **kw)\u001b[0m\n\u001b[1;32m    181\u001b[0m converted \u001b[38;5;241m=\u001b[39m convert_exception(e\u001b[38;5;241m.\u001b[39mjava_exception)\n\u001b[1;32m    182\u001b[0m \u001b[38;5;28;01mif\u001b[39;00m \u001b[38;5;129;01mnot\u001b[39;00m \u001b[38;5;28misinstance\u001b[39m(converted, UnknownException):\n\u001b[1;32m    183\u001b[0m     \u001b[38;5;66;03m# Hide where the exception came from that shows a non-Pythonic\u001b[39;00m\n\u001b[1;32m    184\u001b[0m     \u001b[38;5;66;03m# JVM exception message.\u001b[39;00m\n\u001b[0;32m--> 185\u001b[0m     \u001b[38;5;28;01mraise\u001b[39;00m converted \u001b[38;5;28;01mfrom\u001b[39;00m \u001b[38;5;28;01mNone\u001b[39;00m\n\u001b[1;32m    186\u001b[0m \u001b[38;5;28;01melse\u001b[39;00m:\n\u001b[1;32m    187\u001b[0m     \u001b[38;5;28;01mraise\u001b[39;00m\n",
      "\u001b[0;31mAnalysisException\u001b[0m: [PATH_ALREADY_EXISTS] Path file:/Users/kurtiswalton/Ironhack/final-project/temp_ids_mad.csv already exists. Set mode as \"overwrite\" to overwrite the existing path."
     ]
    }
   ],
   "source": [
    "# Optionally, save the cleaned DataFrame to a new CSV file\n",
    "df_numeric_ids.write.csv(\"temp_ids_mad.csv\", header=True)"
   ]
  },
  {
   "cell_type": "code",
   "execution_count": 5,
   "metadata": {},
   "outputs": [
    {
     "name": "stderr",
     "output_type": "stream",
     "text": [
      "                                                                                \r"
     ]
    },
    {
     "data": {
      "text/plain": [
       "26924"
      ]
     },
     "execution_count": 5,
     "metadata": {},
     "output_type": "execute_result"
    }
   ],
   "source": [
    "df_numeric_ids.count()"
   ]
  },
  {
   "cell_type": "code",
   "execution_count": 6,
   "metadata": {},
   "outputs": [
    {
     "name": "stdout",
     "output_type": "stream",
     "text": [
      "root\n",
      " |-- id: long (nullable = true)\n",
      " |-- listing_url: string (nullable = true)\n",
      " |-- name: string (nullable = true)\n",
      " |-- host_id: string (nullable = true)\n",
      " |-- host_name: string (nullable = true)\n",
      " |-- calculated_host_listings_count: string (nullable = true)\n",
      " |-- host_is_superhost: string (nullable = true)\n",
      " |-- license: string (nullable = true)\n",
      " |-- neighbourhood_group_cleansed: string (nullable = true)\n",
      " |-- latitude: string (nullable = true)\n",
      " |-- longitude: string (nullable = true)\n",
      " |-- room_type: string (nullable = true)\n",
      " |-- bedrooms: string (nullable = true)\n",
      " |-- price: string (nullable = true)\n",
      " |-- kitchen: string (nullable = true)\n",
      " |-- patio or balcony: string (nullable = true)\n",
      " |-- elevator: integer (nullable = true)\n",
      " |-- air conditioning: integer (nullable = true)\n",
      " |-- long_term: integer (nullable = true)\n",
      " |-- short_term: integer (nullable = true)\n",
      " |-- possible_long_term: integer (nullable = true)\n",
      " |-- number_of_reviews: integer (nullable = true)\n",
      " |-- review_scores_rating: double (nullable = true)\n",
      "\n",
      "Number of rows: 26924, Number of columns: 23\n"
     ]
    }
   ],
   "source": [
    "# Display the schema of the DataFrame\n",
    "df_mad.printSchema()\n",
    "\n",
    "# Get the number of rows and columns\n",
    "print(f\"Number of rows: {df_mad.count()}, Number of columns: {len(df_mad.columns)}\")"
   ]
  },
  {
   "cell_type": "code",
   "execution_count": 7,
   "metadata": {},
   "outputs": [
    {
     "name": "stderr",
     "output_type": "stream",
     "text": [
      "[Stage 12:=============================>                            (1 + 1) / 2]\r"
     ]
    },
    {
     "name": "stdout",
     "output_type": "stream",
     "text": [
      "+---+-----------+----+-------+---------+------------------------------+-----------------+-------+----------------------------+--------+---------+---------+--------+-----+-------+----------------+--------+----------------+---------+----------+------------------+-----------------+--------------------+\n",
      "| id|listing_url|name|host_id|host_name|calculated_host_listings_count|host_is_superhost|license|neighbourhood_group_cleansed|latitude|longitude|room_type|bedrooms|price|kitchen|patio or balcony|elevator|air conditioning|long_term|short_term|possible_long_term|number_of_reviews|review_scores_rating|\n",
      "+---+-----------+----+-------+---------+------------------------------+-----------------+-------+----------------------------+--------+---------+---------+--------+-----+-------+----------------+--------+----------------+---------+----------+------------------+-----------------+--------------------+\n",
      "|  0|          0|   0|      0|        4|                             0|              155|  24174|                           7|       1|        0|        0|    2211| 5304|      1|               0|       0|               0|        0|         0|                 0|                0|                5856|\n",
      "+---+-----------+----+-------+---------+------------------------------+-----------------+-------+----------------------------+--------+---------+---------+--------+-----+-------+----------------+--------+----------------+---------+----------+------------------+-----------------+--------------------+\n",
      "\n"
     ]
    },
    {
     "name": "stderr",
     "output_type": "stream",
     "text": [
      "                                                                                \r"
     ]
    }
   ],
   "source": [
    "#  Identify Missing Values\n",
    "from pyspark.sql.functions import col, sum as _sum\n",
    "\n",
    "# Count missing values for each column\n",
    "df_mad.select([_sum(col(c).isNull().cast(\"int\")).alias(c) for c in df_mad.columns]).show()"
   ]
  },
  {
   "cell_type": "code",
   "execution_count": 8,
   "metadata": {},
   "outputs": [
    {
     "name": "stderr",
     "output_type": "stream",
     "text": [
      "[Stage 18:>                                                         (0 + 8) / 8]\r"
     ]
    },
    {
     "name": "stdout",
     "output_type": "stream",
     "text": [
      "+----------------------------+-------------+\n",
      "|Column                      |MissingValues|\n",
      "+----------------------------+-------------+\n",
      "|license                     |24174        |\n",
      "|review_scores_rating        |5856         |\n",
      "|price                       |5304         |\n",
      "|bedrooms                    |2211         |\n",
      "|host_is_superhost           |155          |\n",
      "|neighbourhood_group_cleansed|7            |\n",
      "|host_name                   |4            |\n",
      "|kitchen                     |1            |\n",
      "|latitude                    |1            |\n",
      "+----------------------------+-------------+\n",
      "\n"
     ]
    },
    {
     "name": "stderr",
     "output_type": "stream",
     "text": [
      "                                                                                \r"
     ]
    }
   ],
   "source": [
    "### Make the above more readable\n",
    "\n",
    "from pyspark.sql.functions import col, sum as _sum\n",
    "\n",
    "# Count missing values for each column\n",
    "missing_counts = df_mad.select([\n",
    "    _sum(col(c).isNull().cast(\"int\")).alias(c) for c in df_mad.columns\n",
    "])\n",
    "\n",
    "# Transform the result into a more readable format\n",
    "missing_counts = missing_counts.collect()[0].asDict()\n",
    "\n",
    "# Convert the dictionary to a DataFrame\n",
    "missing_df = spark.createDataFrame(\n",
    "    [(k, v) for k, v in missing_counts.items()],\n",
    "    [\"Column\", \"MissingValues\"]\n",
    ")\n",
    "\n",
    "# Optionally, filter out columns with no missing values and sort by missing value count\n",
    "missing_df = missing_df.filter(col(\"MissingValues\") > 0).orderBy(col(\"MissingValues\").desc())\n",
    "\n",
    "# Show the result\n",
    "missing_df.show(truncate=False)\n",
    "\n",
    "# The dataset has several columns with missing values:\n",
    "\n",
    "# license shows 24174 missing values. We can drop this column\n",
    "# review_scores_rating is missing 5856 times. We can replace these missing values with 0\n",
    "# price: Missing in 5305 entries. Drop or fill in depending on the cases.\n",
    "# bedrooms missing in 2211 cases.  > check for more than one bedroom > mark 1, if less than 1 > mark 0\n",
    "# host_is_superhost missing 155 times. Fill in with 'f'\n",
    "# neighbourhood_group_cleansed: 7 missing > manual review\n",
    "# host_name missing 4 times. Fill with 'no disponible'\n",
    "# latitude missing 1 time > manual review > I have checked the row (id 16270115) and the latitude value is not missing\n",
    "# kitchen missing 1 time > manual review\n"
   ]
  },
  {
   "cell_type": "code",
   "execution_count": 9,
   "metadata": {},
   "outputs": [],
   "source": [
    "# Drop the license Column\n",
    "df_mad = df_mad.drop(\"license\")"
   ]
  },
  {
   "cell_type": "code",
   "execution_count": 10,
   "metadata": {},
   "outputs": [],
   "source": [
    "# Fill review_scores_rating with 0\n",
    "\n",
    "df_mad =df_mad.na.fill({\"review_scores_rating\": 0})"
   ]
  },
  {
   "cell_type": "code",
   "execution_count": 11,
   "metadata": {},
   "outputs": [],
   "source": [
    "# Fill host_name with 'No Disponible'\n",
    "df_mad = df_mad.na.fill({\"host_name\": \"No Disponible\"})"
   ]
  },
  {
   "cell_type": "code",
   "execution_count": 12,
   "metadata": {},
   "outputs": [],
   "source": [
    "# Fill host_is_superhost with 'f'\n",
    "df_mad = df_mad.na.fill({\"host_is_superhost\": \"f\"})"
   ]
  },
  {
   "cell_type": "code",
   "execution_count": 13,
   "metadata": {},
   "outputs": [
    {
     "name": "stdout",
     "output_type": "stream",
     "text": [
      "+------------------+--------------------+--------------------+--------------------+---------+------------------------------+-----------------+----------------------------+---------+-----------------+------------------+---------------+-----+-------+----------------+--------+----------------+---------+----------+------------------+-----------------+--------------------+\n",
      "|                id|         listing_url|                name|             host_id|host_name|calculated_host_listings_count|host_is_superhost|neighbourhood_group_cleansed| latitude|        longitude|         room_type|       bedrooms|price|kitchen|patio or balcony|elevator|air conditioning|long_term|short_term|possible_long_term|number_of_reviews|review_scores_rating|\n",
      "+------------------+--------------------+--------------------+--------------------+---------+------------------------------+-----------------+----------------------------+---------+-----------------+------------------+---------------+-----+-------+----------------+--------+----------------+---------+----------+------------------+-----------------+--------------------+\n",
      "|671019465759187817|https://www.airbn...|\"LUXURY ROOM \"\"GR...| EN MADRID  PARKI...|459598058|                      Liubasha|                4|                        NULL|    Usera|         40.36759|          -3.70564|   Private room|  1.0| $22.00|               1|       0|               0|        1|         1|                 0|                1|                 3.0|\n",
      "|673775001948663555|https://www.airbn...|\"LUXURY ROOM \"\"SI...|IN MADRID PARKING...|459598058|                      Liubasha|                4|                        NULL|    Usera|         40.36958|          -3.70639|   Private room|  1.0| $22.00|               1|       0|               0|        1|         1|                 0|                1|                 2.0|\n",
      "|673871509307459474|https://www.airbn...|\"LUXURY ROOM \"\"BL...| IN MADRID PARKIN...|459598058|                      Liubasha|                4|                        NULL|    Usera|         40.36747|          -3.70464|   Private room|  1.0| $22.00|               1|       0|               0|        1|         1|                 0|                1|                 2.0|\n",
      "|          31672518|https://www.airbn...|\"\"\"Suite Lujan\"\" ...|               Pool\"|  6673480|                      Yolvania|                5|                        NULL|Chamartín|         40.45844|          -3.68172|Entire home/apt|  1.0| $60.00|               1|       0|               1|        1|         1|                 0|                1|                20.0|\n",
      "|          12187235|https://www.airbn...|\"\"\"The little hou...| cozy apartment i...| 33049567|                     José Luis|                7|                        NULL|   Centro|         40.40909|          -3.71029|Entire home/apt|  1.0| $96.00|               1|       0|               0|        0|         0|                 0|                1|                72.0|\n",
      "|          48075156|https://www.airbn...|\"\"\"Amplio estudio...| céntrico y muy l...|144246035|                          Rosa|               14|                        NULL| Chamberí|40.42866134643555|-3.694408893585205|Entire home/apt|  1.0|$110.00|               1|       0|               1|        1|         0|                 0|                1|                11.0|\n",
      "|631090264341908777|https://www.airbn...|\"LUXURY ROOM \"\"WH...| IN  MADRID PARKI...|459598058|                      Liubasha|                4|                        NULL|    Usera|         40.36937|          -3.70743|   Private room| NULL|   NULL|               1|       1|               0|        1|         1|                 0|                1|                 1.0|\n",
      "+------------------+--------------------+--------------------+--------------------+---------+------------------------------+-----------------+----------------------------+---------+-----------------+------------------+---------------+-----+-------+----------------+--------+----------------+---------+----------+------------------+-----------------+--------------------+\n",
      "\n"
     ]
    }
   ],
   "source": [
    "# Check by the URL link to fill in the neighbourhood for missing value\n",
    "\n",
    "# Filter the DataFrame to find the rows with the missing value in 'neighbourhood_group_cleansed'\n",
    "missing_neighbourhood = df_mad.filter(col(\"neighbourhood_group_cleansed\").isNull())\n",
    "\n",
    "# Show the row(s) with the missing value\n",
    "missing_neighbourhood.show()\n",
    "\n",
    "# It can clearly be seen below that there are values present in neighbourhood_group_cleansed for each of these listings. \n",
    "# Unclear why they show as missing values in python.\n",
    "# I will drop these rows to avoid further complications."
   ]
  },
  {
   "cell_type": "code",
   "execution_count": 14,
   "metadata": {},
   "outputs": [
    {
     "name": "stdout",
     "output_type": "stream",
     "text": [
      "+---+-----------+----+-------+---------+------------------------------+-----------------+----------------------------+--------+---------+---------+--------+-----+-------+----------------+--------+----------------+---------+----------+------------------+-----------------+--------------------+\n",
      "| id|listing_url|name|host_id|host_name|calculated_host_listings_count|host_is_superhost|neighbourhood_group_cleansed|latitude|longitude|room_type|bedrooms|price|kitchen|patio or balcony|elevator|air conditioning|long_term|short_term|possible_long_term|number_of_reviews|review_scores_rating|\n",
      "+---+-----------+----+-------+---------+------------------------------+-----------------+----------------------------+--------+---------+---------+--------+-----+-------+----------------+--------+----------------+---------+----------+------------------+-----------------+--------------------+\n",
      "+---+-----------+----+-------+---------+------------------------------+-----------------+----------------------------+--------+---------+---------+--------+-----+-------+----------------+--------+----------------+---------+----------+------------------+-----------------+--------------------+\n",
      "\n"
     ]
    }
   ],
   "source": [
    "# Drop the rows with 'missing' values in neighbourhood_group_cleansed to avoid further complications.\n",
    "df_mad = df_mad.na.drop(subset=['neighbourhood_group_cleansed'])\n",
    "\n",
    "# Filter the DataFrame to find the rows with the missing value in 'neighbourhood_group_cleansed'\n",
    "missing_neighbourhood = df_mad.filter(col(\"neighbourhood_group_cleansed\").isNull())\n",
    "\n",
    "# Show the row(s) with the missing value\n",
    "missing_neighbourhood.show()"
   ]
  },
  {
   "cell_type": "code",
   "execution_count": 15,
   "metadata": {},
   "outputs": [
    {
     "name": "stdout",
     "output_type": "stream",
     "text": [
      "+--------+-------------------------------------+-----------+--------------+--------------------------+------------------------------+-----------------+----------------------------+--------+---------+---------+--------+---------------+-------+----------------+--------+----------------+---------+----------+------------------+-----------------+--------------------+\n",
      "|id      |listing_url                          |name       |host_id       |host_name                 |calculated_host_listings_count|host_is_superhost|neighbourhood_group_cleansed|latitude|longitude|room_type|bedrooms|price          |kitchen|patio or balcony|elevator|air conditioning|long_term|short_term|possible_long_term|number_of_reviews|review_scores_rating|\n",
      "+--------+-------------------------------------+-----------+--------------+--------------------------+------------------------------+-----------------+----------------------------+--------+---------+---------+--------+---------------+-------+----------------+--------+----------------+---------+----------+------------------+-----------------+--------------------+\n",
      "|16270115|https://www.airbnb.com/rooms/16270115|\"\"\"Loft 4-4| Loft 4-Love\"\"| downtown gardened house.\"|33049567                      |José Luis        |t                           |NULL    |Centro   |40.40902 |-3.71051|Entire home/apt|4.0    |$204.00         |1       |1               |0        |0         |0                 |0                |1.0                 |\n",
      "+--------+-------------------------------------+-----------+--------------+--------------------------+------------------------------+-----------------+----------------------------+--------+---------+---------+--------+---------------+-------+----------------+--------+----------------+---------+----------+------------------+-----------------+--------------------+\n",
      "\n"
     ]
    }
   ],
   "source": [
    "# Filter rows where the 'latitude' column is null\n",
    "rows_with_missing_latitude = df_mad.filter(col(\"latitude\").isNull())\n",
    "\n",
    "# Show the rows with missing values in 'latitude'\n",
    "rows_with_missing_latitude.show(truncate=False)"
   ]
  },
  {
   "cell_type": "code",
   "execution_count": 16,
   "metadata": {},
   "outputs": [
    {
     "name": "stdout",
     "output_type": "stream",
     "text": [
      "+---+-----------+----+-------+---------+------------------------------+-----------------+----------------------------+--------+---------+---------+--------+-----+-------+----------------+--------+----------------+---------+----------+------------------+-----------------+--------------------+\n",
      "| id|listing_url|name|host_id|host_name|calculated_host_listings_count|host_is_superhost|neighbourhood_group_cleansed|latitude|longitude|room_type|bedrooms|price|kitchen|patio or balcony|elevator|air conditioning|long_term|short_term|possible_long_term|number_of_reviews|review_scores_rating|\n",
      "+---+-----------+----+-------+---------+------------------------------+-----------------+----------------------------+--------+---------+---------+--------+-----+-------+----------------+--------+----------------+---------+----------+------------------+-----------------+--------------------+\n",
      "+---+-----------+----+-------+---------+------------------------------+-----------------+----------------------------+--------+---------+---------+--------+-----+-------+----------------+--------+----------------+---------+----------+------------------+-----------------+--------------------+\n",
      "\n"
     ]
    }
   ],
   "source": [
    "# I have manually checked the row in our cleaned database (id 16270115) and the value for latitude is NOT missing. \n",
    "# However, I will drop this row to avoid further complications.\n",
    "\n",
    "# Drop the rows with 'missing' values to avoid further complications.\n",
    "df_mad = df_mad.na.drop(subset=['latitude'])\n",
    "\n",
    "# Filter the DataFrame to find the rows with the missing value in 'latitude'\n",
    "missing_latitude = df_mad.filter(col(\"latitude\").isNull())\n",
    "\n",
    "# Show the row(s) with the missing value\n",
    "missing_latitude.show()"
   ]
  },
  {
   "cell_type": "code",
   "execution_count": 17,
   "metadata": {},
   "outputs": [
    {
     "name": "stdout",
     "output_type": "stream",
     "text": [
      "+---+-----------+----+-------+---------+------------------------------+-----------------+----------------------------+--------+---------+---------+--------+-----+-------+----------------+--------+----------------+---------+----------+------------------+-----------------+--------------------+\n",
      "| id|listing_url|name|host_id|host_name|calculated_host_listings_count|host_is_superhost|neighbourhood_group_cleansed|latitude|longitude|room_type|bedrooms|price|kitchen|patio or balcony|elevator|air conditioning|long_term|short_term|possible_long_term|number_of_reviews|review_scores_rating|\n",
      "+---+-----------+----+-------+---------+------------------------------+-----------------+----------------------------+--------+---------+---------+--------+-----+-------+----------------+--------+----------------+---------+----------+------------------+-----------------+--------------------+\n",
      "+---+-----------+----+-------+---------+------------------------------+-----------------+----------------------------+--------+---------+---------+--------+-----+-------+----------------+--------+----------------+---------+----------+------------------+-----------------+--------------------+\n",
      "\n"
     ]
    }
   ],
   "source": [
    "# Repeat the above for the missing 'kitchen' value, as the dataset shows no missing value in this column\n",
    "\n",
    "# Drop the rows with 'missing' values to avoid further complications.\n",
    "df_mad = df_mad.na.drop(subset=['kitchen'])\n",
    "\n",
    "# Filter the DataFrame to find the rows with the missing value in 'kitchen'\n",
    "missing_kitchen = df_mad.filter(col(\"kitchen\").isNull())\n",
    "\n",
    "# Show the row(s) with the missing value\n",
    "missing_kitchen.show()"
   ]
  },
  {
   "cell_type": "code",
   "execution_count": 18,
   "metadata": {},
   "outputs": [
    {
     "name": "stdout",
     "output_type": "stream",
     "text": [
      "+---+-----------+----+-------+---------+------------------------------+-----------------+----------------------------+--------+---------+---------+--------+-----+-------+----------------+--------+----------------+---------+----------+------------------+-----------------+--------------------+\n",
      "| id|listing_url|name|host_id|host_name|calculated_host_listings_count|host_is_superhost|neighbourhood_group_cleansed|latitude|longitude|room_type|bedrooms|price|kitchen|patio or balcony|elevator|air conditioning|long_term|short_term|possible_long_term|number_of_reviews|review_scores_rating|\n",
      "+---+-----------+----+-------+---------+------------------------------+-----------------+----------------------------+--------+---------+---------+--------+-----+-------+----------------+--------+----------------+---------+----------+------------------+-----------------+--------------------+\n",
      "+---+-----------+----+-------+---------+------------------------------+-----------------+----------------------------+--------+---------+---------+--------+-----+-------+----------------+--------+----------------+---------+----------+------------------+-----------------+--------------------+\n",
      "\n"
     ]
    }
   ],
   "source": [
    "# The dataset entry for id 631090264341908777 shows '1' in the kitchen column.\n",
    "\n",
    "# Drop the rows with 'missing' values to avoid further complications.\n",
    "df_mad = df_mad.na.drop(subset=['kitchen'])\n",
    "\n",
    "# Filter the DataFrame to find the rows with the missing value in 'latitude'\n",
    "missing_kitchen = df_mad.filter(col(\"kitchen\").isNull())\n",
    "\n",
    "# Show the row(s) with the missing value\n",
    "missing_kitchen.show()"
   ]
  },
  {
   "cell_type": "code",
   "execution_count": 19,
   "metadata": {},
   "outputs": [
    {
     "name": "stdout",
     "output_type": "stream",
     "text": [
      "+------------+-----------------+--------+----------------+\n",
      "|   room_type|room_type_encoded|bedrooms|bedrooms_encoded|\n",
      "+------------+-----------------+--------+----------------+\n",
      "|Private room|                1|     1.0|               0|\n",
      "|Private room|                1|     1.0|               0|\n",
      "|Private room|                1|     2.0|               1|\n",
      "|Private room|                1|     1.0|               0|\n",
      "|Private room|                1|     1.0|               0|\n",
      "|Private room|                1|     1.0|               0|\n",
      "|Private room|                1|     1.0|               0|\n",
      "|Private room|                1|     1.0|               0|\n",
      "|Private room|                1|     1.0|               0|\n",
      "| Shared room|                0|    NULL|               0|\n",
      "+------------+-----------------+--------+----------------+\n",
      "only showing top 10 rows\n",
      "\n"
     ]
    }
   ],
   "source": [
    "# To fill in \"bedrooms\" columns and also encode 'bedroom' and 'room type' with the following theory\n",
    "\n",
    "# if the type is \"shared bedroom\" or null, we encode it as 0\n",
    "# if the type is \"private room\" or \"hotel room\", we encode it as 1\n",
    "# and if the type if \"entire home/apt\", we encode it with 2\n",
    "from pyspark.sql.functions import when, col\n",
    "\n",
    "# Apply the Encoding Based on room_type\n",
    "# Apply the encoding to the 'room_type' column\n",
    "df_mad = df_mad.withColumn(\"room_type_encoded\", \n",
    "                   when(col(\"room_type\").isNull(), 0)\n",
    "                   .when(col(\"room_type\") == \"Shared room\", 0)\n",
    "                   .when(col(\"room_type\") == \"Private room\", 1)\n",
    "                   .when(col(\"room_type\") == \"Hotel room\", 1)\n",
    "                   .when(col(\"room_type\") == \"Entire home/apt\", 2)\n",
    "                   .otherwise(0))  # This covers any unexpected or additional room types\n",
    "\n",
    "# Now combine with the 'bedrooms' logic\n",
    "df_mad = df_mad.withColumn(\"bedrooms_encoded\", \n",
    "                   when(col(\"bedrooms\") > 1, 1).otherwise(0))\n",
    "\n",
    "# Show the result to verify the changes\n",
    "df_mad.select(\"room_type\", \"room_type_encoded\", \"bedrooms\", \"bedrooms_encoded\").show(10)\n",
    "\n",
    "# Then remove 'room_type' and 'bedrooms'\n",
    "df_mad = df_mad.drop(\"room_type\")\n",
    "df_mad = df_mad.drop(\"bedrooms\")"
   ]
  },
  {
   "cell_type": "code",
   "execution_count": 20,
   "metadata": {},
   "outputs": [],
   "source": [
    "# Remove the dollar sign and commas from the price column, and convert the column to a numerical format:\n",
    "from pyspark.sql.functions import regexp_replace, col\n",
    "\n",
    "df_mad = df_mad.withColumn(\"price\", regexp_replace(col(\"price\"), \"[\\$,]\", \"\").cast(\"float\"))"
   ]
  },
  {
   "cell_type": "code",
   "execution_count": 21,
   "metadata": {},
   "outputs": [],
   "source": [
    "# Fill in \"price\" column with the following theory\n",
    "\n",
    "# 1. Mark the rows where the \"availability_30\" and \"availability_60\" are both '0' in the orig_mad dataframe\n",
    "# 2. Found the correspondent rows by using its \"id\" in df_mad and drop the empty rows\n",
    "# 3. Fill in the rest of the null values with the average price in the same neighbourhood"
   ]
  },
  {
   "cell_type": "code",
   "execution_count": 22,
   "metadata": {},
   "outputs": [
    {
     "name": "stderr",
     "output_type": "stream",
     "text": [
      "                                                                                \r"
     ]
    },
    {
     "data": {
      "text/plain": [
       "43"
      ]
     },
     "execution_count": 22,
     "metadata": {},
     "output_type": "execute_result"
    }
   ],
   "source": [
    "# Load the orig_mad dataframe\n",
    "zero_availability_ids = df_numeric_ids.filter((col(\"availability_30\") == 0) & (col(\"availability_60\") == 0)).select(\"id\")\n",
    "zero_availability_ids.count()"
   ]
  },
  {
   "cell_type": "code",
   "execution_count": 23,
   "metadata": {},
   "outputs": [
    {
     "name": "stderr",
     "output_type": "stream",
     "text": [
      "                                                                                \r"
     ]
    }
   ],
   "source": [
    "# # Convert zero_availability_ids to a list\n",
    "zero_availability_ids_list = [row.id for row in zero_availability_ids.distinct().collect()]\n",
    "\n",
    "# # Filter df_mad to remove rows where id is in zero_availability_ids_list\n",
    "df_mad_filtered = df_mad.filter(~col(\"id\").isin(zero_availability_ids_list))"
   ]
  },
  {
   "cell_type": "code",
   "execution_count": 24,
   "metadata": {},
   "outputs": [
    {
     "data": {
      "text/plain": [
       "26873"
      ]
     },
     "execution_count": 24,
     "metadata": {},
     "output_type": "execute_result"
    }
   ],
   "source": [
    "df_mad_filtered.count()"
   ]
  },
  {
   "cell_type": "code",
   "execution_count": 26,
   "metadata": {},
   "outputs": [
    {
     "name": "stderr",
     "output_type": "stream",
     "text": [
      "                                                                                \r"
     ]
    },
    {
     "name": "stdout",
     "output_type": "stream",
     "text": [
      "+-------------------+----------------------------+-----+\n",
      "|                 id|neighbourhood_group_cleansed|price|\n",
      "+-------------------+----------------------------+-----+\n",
      "|1104967621421098322|                      Retiro| 68.0|\n",
      "| 930941073152690361|          Puente de Vallecas| 16.0|\n",
      "|           51647382|          Puente de Vallecas| 25.0|\n",
      "|1026072412626070839|                 Carabanchel| 26.0|\n",
      "| 766423030884644417|                   Salamanca|100.0|\n",
      "|           52547327|                      Centro| 45.0|\n",
      "| 912133850058274259|                      Centro| 25.0|\n",
      "|           35987869|                  Arganzuela|141.0|\n",
      "|           36412220|                 Carabanchel| 82.0|\n",
      "|           19032176|                     Barajas|101.0|\n",
      "+-------------------+----------------------------+-----+\n",
      "only showing top 10 rows\n",
      "\n"
     ]
    }
   ],
   "source": [
    "from pyspark.sql.functions import col\n",
    "from pyspark.sql import functions as F\n",
    "\n",
    "# Calculate the average price per neighbourhood\n",
    "avg_price_neighbourhood = df_mad_filtered.groupBy(\"neighbourhood_group_cleansed\").agg(F.round(F.mean(\"price\")).alias(\"avg_price\"))\n",
    "\n",
    "# Join the original DataFrame with the average prices DataFrame\n",
    "df_mad_with_avg = df_mad_filtered.join(avg_price_neighbourhood, on=\"neighbourhood_group_cleansed\", how=\"left\")\n",
    "\n",
    "# Fill missing price values with the calculated average price\n",
    "df_mad_final = df_mad_with_avg.withColumn(\"price\", F.coalesce(col(\"price\"), col(\"avg_price\")))\n",
    "\n",
    "# Drop the avg_price column as it's no longer needed\n",
    "df_mad_final = df_mad_final.drop(\"avg_price\")\n",
    "\n",
    "# Show the result to verify the changes\n",
    "df_mad_final.select(\"id\", \"neighbourhood_group_cleansed\", \"price\").show(10)\n"
   ]
  },
  {
   "cell_type": "code",
   "execution_count": 27,
   "metadata": {},
   "outputs": [
    {
     "name": "stdout",
     "output_type": "stream",
     "text": [
      "+---+-----+\n",
      "| id|count|\n",
      "+---+-----+\n",
      "+---+-----+\n",
      "\n"
     ]
    }
   ],
   "source": [
    "# Check for duplicate ids in df_mad_final\n",
    "duplicates_ids_final = df_mad_final.groupBy(\"id\").count().filter(\"count > 1\")\n",
    "duplicates_ids_final.show()"
   ]
  },
  {
   "cell_type": "code",
   "execution_count": 28,
   "metadata": {},
   "outputs": [
    {
     "data": {
      "text/plain": [
       "26873"
      ]
     },
     "execution_count": 28,
     "metadata": {},
     "output_type": "execute_result"
    }
   ],
   "source": [
    "df_mad_final.count()"
   ]
  },
  {
   "cell_type": "code",
   "execution_count": 29,
   "metadata": {},
   "outputs": [
    {
     "name": "stdout",
     "output_type": "stream",
     "text": [
      "+----------------------------+---+-----------+----+-------+---------+------------------------------+-----------------+--------+---------+-----+-------+----------------+--------+----------------+---------+----------+------------------+-----------------+--------------------+-----------------+----------------+\n",
      "|neighbourhood_group_cleansed| id|listing_url|name|host_id|host_name|calculated_host_listings_count|host_is_superhost|latitude|longitude|price|kitchen|patio or balcony|elevator|air conditioning|long_term|short_term|possible_long_term|number_of_reviews|review_scores_rating|room_type_encoded|bedrooms_encoded|\n",
      "+----------------------------+---+-----------+----+-------+---------+------------------------------+-----------------+--------+---------+-----+-------+----------------+--------+----------------+---------+----------+------------------+-----------------+--------------------+-----------------+----------------+\n",
      "|                           0|  0|          0|   0|      0|        0|                             0|                0|       0|        0|    0|      0|               0|       0|               0|        0|         0|                 0|                0|                   0|                0|               0|\n",
      "+----------------------------+---+-----------+----+-------+---------+------------------------------+-----------------+--------+---------+-----+-------+----------------+--------+----------------+---------+----------+------------------+-----------------+--------------------+-----------------+----------------+\n",
      "\n"
     ]
    }
   ],
   "source": [
    "# Count missing values for each column\n",
    "df_mad_final.select([_sum(col(c).isNull().cast(\"int\")).alias(c) for c in df_mad_final.columns]).show()"
   ]
  },
  {
   "cell_type": "code",
   "execution_count": 30,
   "metadata": {},
   "outputs": [
    {
     "name": "stdout",
     "output_type": "stream",
     "text": [
      "+------+-------------+\n",
      "|Column|MissingValues|\n",
      "+------+-------------+\n",
      "+------+-------------+\n",
      "\n"
     ]
    }
   ],
   "source": [
    "### Make the above more readable\n",
    "\n",
    "from pyspark.sql.functions import col, sum as _sum\n",
    "\n",
    "# Count missing values for each column\n",
    "missing_counts = df_mad_final.select([\n",
    "    _sum(col(c).isNull().cast(\"int\")).alias(c) for c in df_mad.columns\n",
    "])\n",
    "\n",
    "# Transform the result into a more readable format\n",
    "missing_counts = missing_counts.collect()[0].asDict()\n",
    "\n",
    "# Convert the dictionary to a DataFrame\n",
    "missing_df = spark.createDataFrame(\n",
    "    [(k, v) for k, v in missing_counts.items()],\n",
    "    [\"Column\", \"MissingValues\"]\n",
    ")\n",
    "\n",
    "# Optionally, filter out columns with no missing values and sort by missing value count\n",
    "missing_df = missing_df.filter(col(\"MissingValues\") > 0).orderBy(col(\"MissingValues\").desc())\n",
    "\n",
    "# Show the result\n",
    "missing_df.show(truncate=False)"
   ]
  },
  {
   "cell_type": "code",
   "execution_count": 31,
   "metadata": {},
   "outputs": [
    {
     "name": "stdout",
     "output_type": "stream",
     "text": [
      "root\n",
      " |-- neighbourhood_group_cleansed: string (nullable = true)\n",
      " |-- id: long (nullable = true)\n",
      " |-- listing_url: string (nullable = true)\n",
      " |-- name: string (nullable = true)\n",
      " |-- host_id: string (nullable = true)\n",
      " |-- host_name: string (nullable = false)\n",
      " |-- calculated_host_listings_count: string (nullable = true)\n",
      " |-- host_is_superhost: string (nullable = false)\n",
      " |-- latitude: string (nullable = true)\n",
      " |-- longitude: string (nullable = true)\n",
      " |-- price: double (nullable = true)\n",
      " |-- kitchen: string (nullable = true)\n",
      " |-- patio or balcony: string (nullable = true)\n",
      " |-- elevator: integer (nullable = true)\n",
      " |-- air conditioning: integer (nullable = true)\n",
      " |-- long_term: integer (nullable = true)\n",
      " |-- short_term: integer (nullable = true)\n",
      " |-- possible_long_term: integer (nullable = true)\n",
      " |-- number_of_reviews: integer (nullable = true)\n",
      " |-- review_scores_rating: double (nullable = false)\n",
      " |-- room_type_encoded: integer (nullable = false)\n",
      " |-- bedrooms_encoded: integer (nullable = false)\n",
      "\n",
      "+----------------------------+-------------------+------------------------------------------------+-------------------------------------------------+---------+---------------+------------------------------+-----------------+------------------+-------------------+-----+-------+----------------+--------+----------------+---------+----------+------------------+-----------------+--------------------+-----------------+----------------+\n",
      "|neighbourhood_group_cleansed|id                 |listing_url                                     |name                                             |host_id  |host_name      |calculated_host_listings_count|host_is_superhost|latitude          |longitude          |price|kitchen|patio or balcony|elevator|air conditioning|long_term|short_term|possible_long_term|number_of_reviews|review_scores_rating|room_type_encoded|bedrooms_encoded|\n",
      "+----------------------------+-------------------+------------------------------------------------+-------------------------------------------------+---------+---------------+------------------------------+-----------------+------------------+-------------------+-----+-------+----------------+--------+----------------+---------+----------+------------------+-----------------+--------------------+-----------------+----------------+\n",
      "|Retiro                      |1104967621421098322|https://www.airbnb.com/rooms/1104967621421098322|Habitación de lujo, baño privado                 |565307927|Carolina       |1                             |f                |40.4069796        |-3.6750154         |68.0 |0      |0               |0       |0               |0        |1         |0                 |2                |4.5                 |1                |0               |\n",
      "|Puente de Vallecas          |930941073152690361 |https://www.airbnb.com/rooms/930941073152690361 |habitación para pareja                           |442944608|Jonathan Jesus |2                             |f                |40.3921           |-3.67003           |16.0 |0      |0               |0       |0               |0        |0         |1                 |3                |5.0                 |1                |0               |\n",
      "|Puente de Vallecas          |51647382           |https://www.airbnb.com/rooms/51647382           |Buenos Aires en Madrid                           |252336445|Norma          |2                             |f                |40.39511          |-3.67143           |25.0 |1      |0               |0       |0               |0        |0         |1                 |186              |4.67                |1                |1               |\n",
      "|Carabanchel                 |1026072412626070839|https://www.airbnb.com/rooms/1026072412626070839|Habitación Madrid Rio!                           |545435841|Gean Piero     |1                             |f                |40.39555483922258 |-3.7164371179819233|26.0 |1      |0               |0       |0               |0        |0         |1                 |1                |5.0                 |1                |0               |\n",
      "|Salamanca                   |766423030884644417 |https://www.airbnb.com/rooms/766423030884644417 |habitación para turista                          |3882456  |Gabriela CHÁVEZ|1                             |f                |40.43045          |-3.6721            |100.0|1      |0               |0       |1               |0        |1         |0                 |0                |0.0                 |1                |0               |\n",
      "|Centro                      |52547327           |https://www.airbnb.com/rooms/52547327           |Private room in the center of Madrid             |343428667|Klevi          |7                             |f                |40.42732          |-3.70129           |45.0 |0      |0               |1       |0               |0        |0         |1                 |30               |4.23                |1                |0               |\n",
      "|Centro                      |912133850058274259 |https://www.airbnb.com/rooms/912133850058274259 |Preciosa habitación en Chamberí                  |448890645|Salomé         |46                            |f                |40.428946350853515|-3.7054105056548887|25.0 |1      |0               |0       |0               |0        |0         |1                 |0                |0.0                 |1                |0               |\n",
      "|Arganzuela                  |35987869           |https://www.airbnb.com/rooms/35987869           |Beautiful,spacious room in centrally-located flat|143517366|Natalia        |1                             |f                |40.40638          |-3.69491           |141.0|1      |0               |0       |0               |0        |0         |1                 |0                |0.0                 |1                |0               |\n",
      "|Carabanchel                 |36412220           |https://www.airbnb.com/rooms/36412220           |Cama calle de redentor                           |273770956|Matheus        |1                             |f                |40.37154          |-3.7538            |82.0 |1      |0               |0       |0               |0        |1         |0                 |0                |0.0                 |1                |0               |\n",
      "|Barajas                     |19032176           |https://www.airbnb.com/rooms/19032176           |San Vicente                                      |84336811 |Hugo Nelson    |1                             |f                |40.47942          |-3.59743           |101.0|1      |0               |0       |1               |0        |0         |1                 |0                |0.0                 |0                |0               |\n",
      "|Latina                      |37411599           |https://www.airbnb.com/rooms/37411599           |马德里的家                                       |282035803|Huixingzhen    |1                             |f                |40.41131          |-3.73556           |70.0 |1      |0               |0       |0               |0        |0         |1                 |0                |0.0                 |1                |1               |\n",
      "|Chamberí                    |38887176           |https://www.airbnb.com/rooms/38887176           |Apartamento en madrid                            |297816035|Gonzalo        |1                             |f                |40.44168          |-3.71689           |128.0|1      |0               |1       |0               |0        |0         |1                 |0                |0.0                 |2                |1               |\n",
      "|Centro                      |287660             |https://www.airbnb.com/rooms/287660             |Beatiful downtown room with balcony              |1496188  |Juanpe         |2                             |f                |40.42683          |-3.71108           |157.0|1      |0               |1       |0               |0        |0         |1                 |11               |5.0                 |1                |0               |\n",
      "|Latina                      |892453             |https://www.airbnb.com/rooms/892453             |NICEStay_High Value(WhiteRoom)_WIFI              |2783896  |Ivaylo         |3                             |t                |40.40726          |-3.74174           |70.0 |1      |0               |1       |0               |0        |1         |0                 |10               |4.67                |1                |0               |\n",
      "|Centro                      |1790920            |https://www.airbnb.com/rooms/1790920            |Lovelly studio for 2 in the heart of Madrid      |6915283  |Joao           |1                             |f                |40.42896          |-3.70693           |157.0|1      |0               |1       |1               |0        |1         |0                 |0                |0.0                 |2                |0               |\n",
      "|Arganzuela                  |8014398            |https://www.airbnb.com/rooms/8014398            |habitación doble cama matrimonial                |42316038 |Joel           |1                             |f                |40.39655          |-3.70134           |141.0|0      |0               |1       |0               |0        |0         |1                 |0                |0.0                 |1                |0               |\n",
      "|Chamberí                    |9708971            |https://www.airbnb.com/rooms/9708971            |Andres Mellado 23                                |50128107 |Julio          |1                             |f                |40.4318           |-3.71278           |128.0|1      |0               |0       |1               |0        |0         |1                 |0                |0.0                 |2                |0               |\n",
      "|Puente de Vallecas          |10151490           |https://www.airbnb.com/rooms/10151490           |Piso                                             |52100521 |Paula          |1                             |f                |40.39553          |-3.66905           |112.0|1      |0               |1       |0               |0        |0         |1                 |0                |0.0                 |2                |1               |\n",
      "|Usera                       |20690853           |https://www.airbnb.com/rooms/20690853           |ALQUILO PISO EN GLORIETA DE CADIZ                |148079143|Mari Loli      |1                             |f                |40.38583          |-3.716             |74.0 |0      |0               |1       |1               |1        |0         |1                 |0                |0.0                 |2                |1               |\n",
      "|Carabanchel                 |26987062           |https://www.airbnb.com/rooms/26987062           |Habitación cama matrimonio cerca del centro.     |186568089|Emi            |1                             |f                |40.39739          |-3.71711           |82.0 |1      |0               |1       |0               |0        |0         |1                 |0                |0.0                 |1                |0               |\n",
      "+----------------------------+-------------------+------------------------------------------------+-------------------------------------------------+---------+---------------+------------------------------+-----------------+------------------+-------------------+-----+-------+----------------+--------+----------------+---------+----------+------------------+-----------------+--------------------+-----------------+----------------+\n",
      "only showing top 20 rows\n",
      "\n"
     ]
    }
   ],
   "source": [
    "# Print the schema of the DataFrame\n",
    "df_mad_final.printSchema()\n",
    "\n",
    "# Show a sample of the data to check for issues\n",
    "df_mad_final.show(truncate=False)"
   ]
  },
  {
   "cell_type": "code",
   "execution_count": 85,
   "metadata": {},
   "outputs": [],
   "source": [
    "# Write the DataFrame to a CSV file with multiple partitions\n",
    "df_mad_final.write.mode(\"overwrite\").option(\"header\", \"true\").csv(\"cleaned_listings_mad.csv\")"
   ]
  },
  {
   "cell_type": "code",
   "execution_count": 32,
   "metadata": {},
   "outputs": [
    {
     "name": "stderr",
     "output_type": "stream",
     "text": [
      "                                                                                \r"
     ]
    }
   ],
   "source": [
    "# Coalesce the DataFrame into a single partition\n",
    "df_mad_final_coalesced = df_mad_final.coalesce(1)\n",
    "\n",
    "# Write the coalesced DataFrame to a single CSV file\n",
    "df_mad_final_coalesced.write.mode(\"overwrite\").csv(\"cleaned_listings_mad_single.csv\", header=True)\n",
    "\n",
    "# The original DataFrame df_mad_final remains intact and can be used for other operations or analysis."
   ]
  },
  {
   "cell_type": "code",
   "execution_count": 33,
   "metadata": {},
   "outputs": [],
   "source": [
    "spark.stop()"
   ]
  },
  {
   "cell_type": "code",
   "execution_count": null,
   "metadata": {},
   "outputs": [],
   "source": []
  }
 ],
 "metadata": {
  "kernelspec": {
   "display_name": "Python 3 (ipykernel)",
   "language": "python",
   "name": "python3"
  },
  "language_info": {
   "codemirror_mode": {
    "name": "ipython",
    "version": 3
   },
   "file_extension": ".py",
   "mimetype": "text/x-python",
   "name": "python",
   "nbconvert_exporter": "python",
   "pygments_lexer": "ipython3",
   "version": "3.9.6"
  }
 },
 "nbformat": 4,
 "nbformat_minor": 4
}
