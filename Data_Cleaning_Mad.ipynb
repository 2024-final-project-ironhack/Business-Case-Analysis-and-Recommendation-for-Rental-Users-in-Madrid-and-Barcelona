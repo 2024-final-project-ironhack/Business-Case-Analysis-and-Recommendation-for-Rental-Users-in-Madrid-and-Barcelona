{
 "cells": [
  {
   "cell_type": "code",
   "execution_count": 50,
   "metadata": {},
   "outputs": [],
   "source": [
    "from pyspark.sql import SparkSession\n",
    "import pandas as pd\n",
    "\n",
    "# Initialize a Spark session\n",
    "spark = SparkSession.builder.appName(\"AirbnbPriceFilling\").getOrCreate()\n",
    "\n",
    "# Cargar dataset de Madrid\n",
    "# Load your datasets into Spark DataFrames\n",
    "orig_mad = spark.read.csv('datasets/datasets_originales/listings-detailed-mad-original.csv', header=True, inferSchema=True, multiLine=True, sep=',', quote='\"', escape='\\\\')\n",
    "df_mad = spark.read.csv('datasets/listings_prepared_mad.csv', header=True, inferSchema=True)"
   ]
  },
  {
   "cell_type": "code",
   "execution_count": 51,
   "metadata": {},
   "outputs": [
    {
     "name": "stdout",
     "output_type": "stream",
     "text": [
      "+-------------------+--------------------+--------------------+---------+---------------+------------------------------+-----------------+-------+----------------------------+-----------------+-------------------+------------+--------+-------+-------+----------------+--------+----------------+---------+----------+------------------+-----------------+--------------------+\n",
      "|                 id|         listing_url|                name|  host_id|      host_name|calculated_host_listings_count|host_is_superhost|license|neighbourhood_group_cleansed|         latitude|          longitude|   room_type|bedrooms|  price|kitchen|patio or balcony|elevator|air conditioning|long_term|short_term|possible_long_term|number_of_reviews|review_scores_rating|\n",
      "+-------------------+--------------------+--------------------+---------+---------------+------------------------------+-----------------+-------+----------------------------+-----------------+-------------------+------------+--------+-------+-------+----------------+--------+----------------+---------+----------+------------------+-----------------+--------------------+\n",
      "|1104967621421098322|https://www.airbn...|Habitación de luj...|565307927|       Carolina|                             1|                f|   NULL|                      Retiro|       40.4069796|         -3.6750154|Private room|     1.0| $68.00|      0|               0|       0|               0|        0|         1|                 0|                2|                 4.5|\n",
      "| 930941073152690361|https://www.airbn...|habitación para p...|442944608| Jonathan Jesus|                             2|                f|   NULL|          Puente de Vallecas|          40.3921|           -3.67003|Private room|     1.0| $16.00|      0|               0|       0|               0|        0|         0|                 1|                3|                 5.0|\n",
      "|           51647382|https://www.airbn...|Buenos Aires en M...|252336445|          Norma|                             2|                f|   NULL|          Puente de Vallecas|         40.39511|           -3.67143|Private room|     2.0| $25.00|      1|               0|       0|               0|        0|         0|                 1|              186|                4.67|\n",
      "|1026072412626070839|https://www.airbn...|Habitación Madrid...|545435841|     Gean Piero|                             1|                f|   NULL|                 Carabanchel|40.39555483922258|-3.7164371179819233|Private room|     1.0| $26.00|      1|               0|       0|               0|        0|         0|                 1|                1|                 5.0|\n",
      "| 766423030884644417|https://www.airbn...|habitación para t...|  3882456|Gabriela CHÁVEZ|                             1|                f|   NULL|                   Salamanca|         40.43045|            -3.6721|Private room|     1.0|$100.00|      1|               0|       0|               1|        0|         1|                 0|                0|                NULL|\n",
      "+-------------------+--------------------+--------------------+---------+---------------+------------------------------+-----------------+-------+----------------------------+-----------------+-------------------+------------+--------+-------+-------+----------------+--------+----------------+---------+----------+------------------+-----------------+--------------------+\n",
      "only showing top 5 rows\n",
      "\n"
     ]
    }
   ],
   "source": [
    "df_mad.show(5)"
   ]
  },
  {
   "cell_type": "code",
   "execution_count": 52,
   "metadata": {},
   "outputs": [
    {
     "name": "stdout",
     "output_type": "stream",
     "text": [
      "root\n",
      " |-- id: string (nullable = true)\n",
      " |-- listing_url: string (nullable = true)\n",
      " |-- scrape_id: string (nullable = true)\n",
      " |-- last_scraped: string (nullable = true)\n",
      " |-- source: string (nullable = true)\n",
      " |-- name: string (nullable = true)\n",
      " |-- description: string (nullable = true)\n",
      " |-- neighborhood_overview: string (nullable = true)\n",
      " |-- picture_url: string (nullable = true)\n",
      " |-- host_id: string (nullable = true)\n",
      " |-- host_url: string (nullable = true)\n",
      " |-- host_name: string (nullable = true)\n",
      " |-- host_since: string (nullable = true)\n",
      " |-- host_location: string (nullable = true)\n",
      " |-- host_about: string (nullable = true)\n",
      " |-- host_response_time: string (nullable = true)\n",
      " |-- host_response_rate: string (nullable = true)\n",
      " |-- host_acceptance_rate: string (nullable = true)\n",
      " |-- host_is_superhost: string (nullable = true)\n",
      " |-- host_thumbnail_url: string (nullable = true)\n",
      " |-- host_picture_url: string (nullable = true)\n",
      " |-- host_neighbourhood: string (nullable = true)\n",
      " |-- host_listings_count: string (nullable = true)\n",
      " |-- host_total_listings_count: string (nullable = true)\n",
      " |-- host_verifications: string (nullable = true)\n",
      " |-- host_has_profile_pic: string (nullable = true)\n",
      " |-- host_identity_verified: string (nullable = true)\n",
      " |-- neighbourhood: string (nullable = true)\n",
      " |-- neighbourhood_cleansed: string (nullable = true)\n",
      " |-- neighbourhood_group_cleansed: string (nullable = true)\n",
      " |-- latitude: string (nullable = true)\n",
      " |-- longitude: string (nullable = true)\n",
      " |-- property_type: string (nullable = true)\n",
      " |-- room_type: string (nullable = true)\n",
      " |-- accommodates: string (nullable = true)\n",
      " |-- bathrooms: string (nullable = true)\n",
      " |-- bathrooms_text: string (nullable = true)\n",
      " |-- bedrooms: string (nullable = true)\n",
      " |-- beds: string (nullable = true)\n",
      " |-- amenities: string (nullable = true)\n",
      " |-- price: string (nullable = true)\n",
      " |-- minimum_nights: string (nullable = true)\n",
      " |-- maximum_nights: string (nullable = true)\n",
      " |-- minimum_minimum_nights: string (nullable = true)\n",
      " |-- maximum_minimum_nights: string (nullable = true)\n",
      " |-- minimum_maximum_nights: string (nullable = true)\n",
      " |-- maximum_maximum_nights: string (nullable = true)\n",
      " |-- minimum_nights_avg_ntm: string (nullable = true)\n",
      " |-- maximum_nights_avg_ntm: string (nullable = true)\n",
      " |-- calendar_updated: string (nullable = true)\n",
      " |-- has_availability: string (nullable = true)\n",
      " |-- availability_30: string (nullable = true)\n",
      " |-- availability_60: string (nullable = true)\n",
      " |-- availability_90: string (nullable = true)\n",
      " |-- availability_365: string (nullable = true)\n",
      " |-- calendar_last_scraped: string (nullable = true)\n",
      " |-- number_of_reviews: string (nullable = true)\n",
      " |-- number_of_reviews_ltm: string (nullable = true)\n",
      " |-- number_of_reviews_l30d: string (nullable = true)\n",
      " |-- first_review: string (nullable = true)\n",
      " |-- last_review: string (nullable = true)\n",
      " |-- review_scores_rating: string (nullable = true)\n",
      " |-- review_scores_accuracy: string (nullable = true)\n",
      " |-- review_scores_cleanliness: string (nullable = true)\n",
      " |-- review_scores_checkin: string (nullable = true)\n",
      " |-- review_scores_communication: string (nullable = true)\n",
      " |-- review_scores_location: string (nullable = true)\n",
      " |-- review_scores_value: string (nullable = true)\n",
      " |-- license: string (nullable = true)\n",
      " |-- instant_bookable: string (nullable = true)\n",
      " |-- calculated_host_listings_count: string (nullable = true)\n",
      " |-- calculated_host_listings_count_entire_homes: string (nullable = true)\n",
      " |-- calculated_host_listings_count_private_rooms: string (nullable = true)\n",
      " |-- calculated_host_listings_count_shared_rooms: string (nullable = true)\n",
      " |-- reviews_per_month: string (nullable = true)\n",
      "\n",
      "+-------------------+--------------------+--------------+------------+-----------+--------------------+--------------------+---------------------+--------------------+---------+--------------------+---------------+----------+-------------+--------------------+------------------+------------------+--------------------+-----------------+--------------------+--------------------+------------------+-------------------+-------------------------+--------------------+--------------------+----------------------+--------------------+----------------------+----------------------------+-----------------+-------------------+--------------------+------------+------------+---------+--------------+--------+----+--------------------+--------------------+--------------------+--------------------+----------------------+----------------------+----------------------+----------------------+----------------------+----------------------+----------------+----------------+---------------+---------------+---------------+----------------+---------------------+-----------------+---------------------+----------------------+------------+-----------+--------------------+----------------------+-------------------------+---------------------+---------------------------+----------------------+-------------------+-------+----------------+------------------------------+-------------------------------------------+--------------------------------------------+-------------------------------------------+-----------------+\n",
      "|                 id|         listing_url|     scrape_id|last_scraped|     source|                name|         description|neighborhood_overview|         picture_url|  host_id|            host_url|      host_name|host_since|host_location|          host_about|host_response_time|host_response_rate|host_acceptance_rate|host_is_superhost|  host_thumbnail_url|    host_picture_url|host_neighbourhood|host_listings_count|host_total_listings_count|  host_verifications|host_has_profile_pic|host_identity_verified|       neighbourhood|neighbourhood_cleansed|neighbourhood_group_cleansed|         latitude|          longitude|       property_type|   room_type|accommodates|bathrooms|bathrooms_text|bedrooms|beds|           amenities|               price|      minimum_nights|      maximum_nights|minimum_minimum_nights|maximum_minimum_nights|minimum_maximum_nights|maximum_maximum_nights|minimum_nights_avg_ntm|maximum_nights_avg_ntm|calendar_updated|has_availability|availability_30|availability_60|availability_90|availability_365|calendar_last_scraped|number_of_reviews|number_of_reviews_ltm|number_of_reviews_l30d|first_review|last_review|review_scores_rating|review_scores_accuracy|review_scores_cleanliness|review_scores_checkin|review_scores_communication|review_scores_location|review_scores_value|license|instant_bookable|calculated_host_listings_count|calculated_host_listings_count_entire_homes|calculated_host_listings_count_private_rooms|calculated_host_listings_count_shared_rooms|reviews_per_month|\n",
      "+-------------------+--------------------+--------------+------------+-----------+--------------------+--------------------+---------------------+--------------------+---------+--------------------+---------------+----------+-------------+--------------------+------------------+------------------+--------------------+-----------------+--------------------+--------------------+------------------+-------------------+-------------------------+--------------------+--------------------+----------------------+--------------------+----------------------+----------------------------+-----------------+-------------------+--------------------+------------+------------+---------+--------------+--------+----+--------------------+--------------------+--------------------+--------------------+----------------------+----------------------+----------------------+----------------------+----------------------+----------------------+----------------+----------------+---------------+---------------+---------------+----------------+---------------------+-----------------+---------------------+----------------------+------------+-----------+--------------------+----------------------+-------------------------+---------------------+---------------------------+----------------------+-------------------+-------+----------------+------------------------------+-------------------------------------------+--------------------------------------------+-------------------------------------------+-----------------+\n",
      "|1104967621421098322|https://www.airbn...|20240615011404|  2024-06-15|city scrape|Habitación de luj...|                NULL|                 NULL|https://a0.muscac...|565307927|https://www.airbn...|       Carolina|2024-03-04|Madrid, Spain|Hola; mi nombre e...|    within an hour|              100%|                100%|                f|https://a0.muscac...|https://a0.muscac...|              NULL|                  1|                        1|  ['email', 'phone']|                   t|                     t|                NULL|              Pacífico|                      Retiro|       40.4069796|         -3.6750154|Private room in r...|Private room|           2|      1.0|        1 bath|       1|   0|                  []|              $68.00|                   1|                  30|                     1|                     1|                    30|                    30|                   1.0|                  30.0|            NULL|               t|              2|              2|              2|               2|           2024-06-15|                2|                    2|                     0|  2024-03-10| 2024-05-08|                 4.5|                   5.0|                      5.0|                  5.0|                        5.0|                   5.0|                5.0|   NULL|               f|                             1|                                          0|                                           1|                                          0|             0.61|\n",
      "| 930941073152690361|https://www.airbn...|20240615011404|  2024-06-15|city scrape|habitación para p...|Rent room for loo...|                 NULL|https://a0.muscac...|442944608|https://www.airbn...| Jonathan Jesus|2022-01-31|Madrid, Spain|somos una pareja ...|a few days or more|                0%|                 57%|                f|https://a0.muscac...|https://a0.muscac...|              NULL|                  2|                        4|           ['phone']|                   t|                     t|                NULL|             San Diego|          Puente de Vallecas|          40.3921|           -3.67003|Private room in r...|Private room|           2|      1.0|        1 bath|       1|   1|        \"[\"\"Wifi\"\"]\"|              $16.00|                   1|                 365|                     1|                     1|                   365|                   365|                   1.0|                 365.0|            NULL|               t|              0|              8|             18|             185|           2024-06-15|                3|                    3|                     0|  2023-07-29| 2023-10-04|                 5.0|                   5.0|                      5.0|                  5.0|                        5.0|                  4.67|                5.0|   NULL|               f|                             2|                                          0|                                           2|                                          0|             0.28|\n",
      "|           51647382|https://www.airbn...|20240615011404|  2024-06-15|city scrape|Buenos Aires en M...|This special plac...| The neighborhood ...|https://a0.muscac...|252336445|https://www.airbn...|          Norma|2019-03-31|Madrid, Spain|         Aire Fresco|    within an hour|              100%|                100%|                f|https://a0.muscac...|https://a0.muscac...|              NULL|                  2|                        2|  ['email', 'phone']|                   t|                     t|Madrid, Comunidad...|             San Diego|          Puente de Vallecas|         40.39511|           -3.67143|Private room in home|Private room|           1|      1.0| 1 shared bath|       2|   3|\"[\"\"Outdoor dinin...|              \"\"TV\"\"| \"\"Free parking o...| \"\"Fire extinguis...|           \"\"Kitchen\"\"|              \"\"Wifi\"\"|   \"\"Dedicated work...|   \"\"First aid kit\"\"]\"|                $25.00|                     1|            1125|               1|              1|           1125|           1125|             1.0|               1125.0|             NULL|                    t|                    21|          51|         81|                 356|            2024-06-15|                      186|                   65|                          7|            2021-08-17|         2024-05-29|   4.67|            4.71|                          4.59|                                        4.8|                                        4.83|                                       4.51|             4.61|\n",
      "|1026072412626070839|https://www.airbn...|20240615011404|  2024-06-15|city scrape|Habitación Madrid...|Enjoy the simplic...|                 NULL|https://a0.muscac...|545435841|https://www.airbn...|     Gean Piero|2023-11-07|         NULL|                NULL|               N/A|               N/A|                 33%|                f|https://a0.muscac...|https://a0.muscac...|              NULL|                  1|                        1|  ['email', 'phone']|                   t|                     t|                NULL|                Opañel|                 Carabanchel|40.39555483922258|-3.7164371179819233|Private room in r...|Private room|           3|      1.0| 1 shared bath|       1|   2|\"[\"\"Lock on bedro...|            \"\"Wifi\"\"|       \"\"Kitchen\"\"]\"|              $26.00|                     2|                   365|                     2|                     2|                   365|                   365|             2.0|           365.0|           NULL|              t|              0|               0|                   12|               12|           2024-06-15|                     1|           1|          0|          2023-11-20|            2023-11-20|                      5.0|                  5.0|                        5.0|                   5.0|                5.0|    5.0|             5.0|                          NULL|                                          f|                                           1|                                          0|                1|\n",
      "| 766423030884644417|https://www.airbn...|20240615011404|  2024-06-15|city scrape|habitación para t...|Enjoy a stylish e...|                 NULL|https://a0.muscac...|  3882456|https://www.airbn...|Gabriela CHÁVEZ|2012-10-15|Madrid, Spain|Viajera incansabl...|               N/A|               N/A|                 N/A|                f|https://a0.muscac...|https://a0.muscac...|              NULL|                  2|                        4|['email', 'phone'...|                   t|                     t|                NULL|                 Lista|                   Salamanca|         40.43045|            -3.6721|Private room in r...|Private room|           1|      1.0| 1 shared bath|       1|   1|        \"[\"\"Washer\"\"| \"\"Lock on bedroo...| \"\"Air conditioni...|         \"\"Kitchen\"\"|              \"\"Wifi\"\"|   \"\"Dedicated work...|   \"\"Exterior secur...|               $100.00|                     7|                    10|               7|               7|             10|             10|            7.0|            10.0|                 NULL|                t|                   29|                    59|          89|        364|          2024-06-15|                     0|                        0|                    0|                       NULL|                  NULL|               NULL|   NULL|            NULL|                          NULL|                                       NULL|                                        NULL|                                       NULL|             NULL|\n",
      "+-------------------+--------------------+--------------+------------+-----------+--------------------+--------------------+---------------------+--------------------+---------+--------------------+---------------+----------+-------------+--------------------+------------------+------------------+--------------------+-----------------+--------------------+--------------------+------------------+-------------------+-------------------------+--------------------+--------------------+----------------------+--------------------+----------------------+----------------------------+-----------------+-------------------+--------------------+------------+------------+---------+--------------+--------+----+--------------------+--------------------+--------------------+--------------------+----------------------+----------------------+----------------------+----------------------+----------------------+----------------------+----------------+----------------+---------------+---------------+---------------+----------------+---------------------+-----------------+---------------------+----------------------+------------+-----------+--------------------+----------------------+-------------------------+---------------------+---------------------------+----------------------+-------------------+-------+----------------+------------------------------+-------------------------------------------+--------------------------------------------+-------------------------------------------+-----------------+\n",
      "only showing top 5 rows\n",
      "\n"
     ]
    },
    {
     "ename": "AnalysisException",
     "evalue": "[PATH_ALREADY_EXISTS] Path file:/Users/kurtiswalton/Ironhack/final-project/temp_ids_mad.csv already exists. Set mode as \"overwrite\" to overwrite the existing path.",
     "output_type": "error",
     "traceback": [
      "\u001b[0;31m---------------------------------------------------------------------------\u001b[0m",
      "\u001b[0;31mAnalysisException\u001b[0m                         Traceback (most recent call last)",
      "Cell \u001b[0;32mIn[52], line 12\u001b[0m\n\u001b[1;32m      9\u001b[0m df_numeric_ids\u001b[38;5;241m.\u001b[39mshow(\u001b[38;5;241m5\u001b[39m)\n\u001b[1;32m     11\u001b[0m \u001b[38;5;66;03m# Optionally, save the cleaned DataFrame to a new CSV file\u001b[39;00m\n\u001b[0;32m---> 12\u001b[0m \u001b[43mdf_numeric_ids\u001b[49m\u001b[38;5;241;43m.\u001b[39;49m\u001b[43mwrite\u001b[49m\u001b[38;5;241;43m.\u001b[39;49m\u001b[43mcsv\u001b[49m\u001b[43m(\u001b[49m\u001b[38;5;124;43m\"\u001b[39;49m\u001b[38;5;124;43mtemp_ids_mad.csv\u001b[39;49m\u001b[38;5;124;43m\"\u001b[39;49m\u001b[43m,\u001b[49m\u001b[43m \u001b[49m\u001b[43mheader\u001b[49m\u001b[38;5;241;43m=\u001b[39;49m\u001b[38;5;28;43;01mTrue\u001b[39;49;00m\u001b[43m)\u001b[49m\n",
      "File \u001b[0;32m~/Library/Python/3.9/lib/python/site-packages/pyspark/sql/readwriter.py:1864\u001b[0m, in \u001b[0;36mDataFrameWriter.csv\u001b[0;34m(self, path, mode, compression, sep, quote, escape, header, nullValue, escapeQuotes, quoteAll, dateFormat, timestampFormat, ignoreLeadingWhiteSpace, ignoreTrailingWhiteSpace, charToEscapeQuoteEscaping, encoding, emptyValue, lineSep)\u001b[0m\n\u001b[1;32m   1845\u001b[0m \u001b[38;5;28mself\u001b[39m\u001b[38;5;241m.\u001b[39mmode(mode)\n\u001b[1;32m   1846\u001b[0m \u001b[38;5;28mself\u001b[39m\u001b[38;5;241m.\u001b[39m_set_opts(\n\u001b[1;32m   1847\u001b[0m     compression\u001b[38;5;241m=\u001b[39mcompression,\n\u001b[1;32m   1848\u001b[0m     sep\u001b[38;5;241m=\u001b[39msep,\n\u001b[0;32m   (...)\u001b[0m\n\u001b[1;32m   1862\u001b[0m     lineSep\u001b[38;5;241m=\u001b[39mlineSep,\n\u001b[1;32m   1863\u001b[0m )\n\u001b[0;32m-> 1864\u001b[0m \u001b[38;5;28;43mself\u001b[39;49m\u001b[38;5;241;43m.\u001b[39;49m\u001b[43m_jwrite\u001b[49m\u001b[38;5;241;43m.\u001b[39;49m\u001b[43mcsv\u001b[49m\u001b[43m(\u001b[49m\u001b[43mpath\u001b[49m\u001b[43m)\u001b[49m\n",
      "File \u001b[0;32m~/Library/Python/3.9/lib/python/site-packages/py4j/java_gateway.py:1322\u001b[0m, in \u001b[0;36mJavaMember.__call__\u001b[0;34m(self, *args)\u001b[0m\n\u001b[1;32m   1316\u001b[0m command \u001b[38;5;241m=\u001b[39m proto\u001b[38;5;241m.\u001b[39mCALL_COMMAND_NAME \u001b[38;5;241m+\u001b[39m\\\n\u001b[1;32m   1317\u001b[0m     \u001b[38;5;28mself\u001b[39m\u001b[38;5;241m.\u001b[39mcommand_header \u001b[38;5;241m+\u001b[39m\\\n\u001b[1;32m   1318\u001b[0m     args_command \u001b[38;5;241m+\u001b[39m\\\n\u001b[1;32m   1319\u001b[0m     proto\u001b[38;5;241m.\u001b[39mEND_COMMAND_PART\n\u001b[1;32m   1321\u001b[0m answer \u001b[38;5;241m=\u001b[39m \u001b[38;5;28mself\u001b[39m\u001b[38;5;241m.\u001b[39mgateway_client\u001b[38;5;241m.\u001b[39msend_command(command)\n\u001b[0;32m-> 1322\u001b[0m return_value \u001b[38;5;241m=\u001b[39m \u001b[43mget_return_value\u001b[49m\u001b[43m(\u001b[49m\n\u001b[1;32m   1323\u001b[0m \u001b[43m    \u001b[49m\u001b[43manswer\u001b[49m\u001b[43m,\u001b[49m\u001b[43m \u001b[49m\u001b[38;5;28;43mself\u001b[39;49m\u001b[38;5;241;43m.\u001b[39;49m\u001b[43mgateway_client\u001b[49m\u001b[43m,\u001b[49m\u001b[43m \u001b[49m\u001b[38;5;28;43mself\u001b[39;49m\u001b[38;5;241;43m.\u001b[39;49m\u001b[43mtarget_id\u001b[49m\u001b[43m,\u001b[49m\u001b[43m \u001b[49m\u001b[38;5;28;43mself\u001b[39;49m\u001b[38;5;241;43m.\u001b[39;49m\u001b[43mname\u001b[49m\u001b[43m)\u001b[49m\n\u001b[1;32m   1325\u001b[0m \u001b[38;5;28;01mfor\u001b[39;00m temp_arg \u001b[38;5;129;01min\u001b[39;00m temp_args:\n\u001b[1;32m   1326\u001b[0m     \u001b[38;5;28;01mif\u001b[39;00m \u001b[38;5;28mhasattr\u001b[39m(temp_arg, \u001b[38;5;124m\"\u001b[39m\u001b[38;5;124m_detach\u001b[39m\u001b[38;5;124m\"\u001b[39m):\n",
      "File \u001b[0;32m~/Library/Python/3.9/lib/python/site-packages/pyspark/errors/exceptions/captured.py:185\u001b[0m, in \u001b[0;36mcapture_sql_exception.<locals>.deco\u001b[0;34m(*a, **kw)\u001b[0m\n\u001b[1;32m    181\u001b[0m converted \u001b[38;5;241m=\u001b[39m convert_exception(e\u001b[38;5;241m.\u001b[39mjava_exception)\n\u001b[1;32m    182\u001b[0m \u001b[38;5;28;01mif\u001b[39;00m \u001b[38;5;129;01mnot\u001b[39;00m \u001b[38;5;28misinstance\u001b[39m(converted, UnknownException):\n\u001b[1;32m    183\u001b[0m     \u001b[38;5;66;03m# Hide where the exception came from that shows a non-Pythonic\u001b[39;00m\n\u001b[1;32m    184\u001b[0m     \u001b[38;5;66;03m# JVM exception message.\u001b[39;00m\n\u001b[0;32m--> 185\u001b[0m     \u001b[38;5;28;01mraise\u001b[39;00m converted \u001b[38;5;28;01mfrom\u001b[39;00m \u001b[38;5;28;01mNone\u001b[39;00m\n\u001b[1;32m    186\u001b[0m \u001b[38;5;28;01melse\u001b[39;00m:\n\u001b[1;32m    187\u001b[0m     \u001b[38;5;28;01mraise\u001b[39;00m\n",
      "\u001b[0;31mAnalysisException\u001b[0m: [PATH_ALREADY_EXISTS] Path file:/Users/kurtiswalton/Ironhack/final-project/temp_ids_mad.csv already exists. Set mode as \"overwrite\" to overwrite the existing path."
     ]
    }
   ],
   "source": [
    "orig_mad.printSchema()\n",
    "from pyspark.sql.functions import col, regexp_extract\n",
    "\n",
    "# Use a regular expression to filter out non-numeric 'id' values\n",
    "# Regular expression to match only numeric strings\n",
    "df_numeric_ids = orig_mad.filter(regexp_extract(col(\"id\"), r'^\\d+$', 0) != '')\n",
    "\n",
    "# Show the result to verify the changes\n",
    "df_numeric_ids.show(5)\n",
    "\n",
    "# Optionally, save the cleaned DataFrame to a new CSV file\n",
    "df_numeric_ids.write.csv(\"temp_ids_mad.csv\", header=True)"
   ]
  },
  {
   "cell_type": "code",
   "execution_count": 53,
   "metadata": {},
   "outputs": [
    {
     "name": "stderr",
     "output_type": "stream",
     "text": [
      "                                                                                \r"
     ]
    },
    {
     "data": {
      "text/plain": [
       "26924"
      ]
     },
     "execution_count": 53,
     "metadata": {},
     "output_type": "execute_result"
    }
   ],
   "source": [
    "df_numeric_ids.count()"
   ]
  },
  {
   "cell_type": "code",
   "execution_count": 54,
   "metadata": {},
   "outputs": [
    {
     "name": "stdout",
     "output_type": "stream",
     "text": [
      "root\n",
      " |-- id: long (nullable = true)\n",
      " |-- listing_url: string (nullable = true)\n",
      " |-- name: string (nullable = true)\n",
      " |-- host_id: string (nullable = true)\n",
      " |-- host_name: string (nullable = true)\n",
      " |-- calculated_host_listings_count: string (nullable = true)\n",
      " |-- host_is_superhost: string (nullable = true)\n",
      " |-- license: string (nullable = true)\n",
      " |-- neighbourhood_group_cleansed: string (nullable = true)\n",
      " |-- latitude: string (nullable = true)\n",
      " |-- longitude: string (nullable = true)\n",
      " |-- room_type: string (nullable = true)\n",
      " |-- bedrooms: string (nullable = true)\n",
      " |-- price: string (nullable = true)\n",
      " |-- kitchen: string (nullable = true)\n",
      " |-- patio or balcony: string (nullable = true)\n",
      " |-- elevator: integer (nullable = true)\n",
      " |-- air conditioning: integer (nullable = true)\n",
      " |-- long_term: integer (nullable = true)\n",
      " |-- short_term: integer (nullable = true)\n",
      " |-- possible_long_term: integer (nullable = true)\n",
      " |-- number_of_reviews: integer (nullable = true)\n",
      " |-- review_scores_rating: double (nullable = true)\n",
      "\n",
      "Number of rows: 26924, Number of columns: 23\n"
     ]
    }
   ],
   "source": [
    "# Display the schema of the DataFrame\n",
    "df_mad.printSchema()\n",
    "\n",
    "# Get the number of rows and columns\n",
    "print(f\"Number of rows: {df_mad.count()}, Number of columns: {len(df_mad.columns)}\")"
   ]
  },
  {
   "cell_type": "code",
   "execution_count": 55,
   "metadata": {},
   "outputs": [],
   "source": [
    "# Remove the dollar sign and commas, and convert the column to a numerical format:\n",
    "from pyspark.sql.functions import regexp_replace, col\n",
    "\n",
    "df_mad = df_mad.withColumn(\"price\", regexp_replace(col(\"price\"), \"[\\$,]\", \"\").cast(\"float\"))"
   ]
  },
  {
   "cell_type": "code",
   "execution_count": 56,
   "metadata": {},
   "outputs": [
    {
     "name": "stdout",
     "output_type": "stream",
     "text": [
      "+---+-----------+----+-------+---------+------------------------------+-----------------+-------+----------------------------+--------+---------+---------+--------+-----+-------+----------------+--------+----------------+---------+----------+------------------+-----------------+--------------------+\n",
      "| id|listing_url|name|host_id|host_name|calculated_host_listings_count|host_is_superhost|license|neighbourhood_group_cleansed|latitude|longitude|room_type|bedrooms|price|kitchen|patio or balcony|elevator|air conditioning|long_term|short_term|possible_long_term|number_of_reviews|review_scores_rating|\n",
      "+---+-----------+----+-------+---------+------------------------------+-----------------+-------+----------------------------+--------+---------+---------+--------+-----+-------+----------------+--------+----------------+---------+----------+------------------+-----------------+--------------------+\n",
      "|  0|          0|   0|      0|        4|                             0|              155|  24174|                           7|       1|        0|        0|    2211| 5305|      1|               0|       0|               0|        0|         0|                 0|                0|                5856|\n",
      "+---+-----------+----+-------+---------+------------------------------+-----------------+-------+----------------------------+--------+---------+---------+--------+-----+-------+----------------+--------+----------------+---------+----------+------------------+-----------------+--------------------+\n",
      "\n"
     ]
    }
   ],
   "source": [
    "#  Identify Missing Values\n",
    "from pyspark.sql.functions import col, sum as _sum\n",
    "\n",
    "# Count missing values for each column\n",
    "df_mad.select([_sum(col(c).isNull().cast(\"int\")).alias(c) for c in df_mad.columns]).show()"
   ]
  },
  {
   "cell_type": "code",
   "execution_count": 57,
   "metadata": {},
   "outputs": [
    {
     "name": "stdout",
     "output_type": "stream",
     "text": [
      "+----------------------------+-------------+\n",
      "|Column                      |MissingValues|\n",
      "+----------------------------+-------------+\n",
      "|license                     |24174        |\n",
      "|review_scores_rating        |5856         |\n",
      "|price                       |5305         |\n",
      "|bedrooms                    |2211         |\n",
      "|host_is_superhost           |155          |\n",
      "|neighbourhood_group_cleansed|7            |\n",
      "|host_name                   |4            |\n",
      "|latitude                    |1            |\n",
      "|kitchen                     |1            |\n",
      "+----------------------------+-------------+\n",
      "\n"
     ]
    }
   ],
   "source": [
    "### Trying to make the above more readable\n",
    "\n",
    "from pyspark.sql.functions import col, sum as _sum\n",
    "\n",
    "# Count missing values for each column\n",
    "missing_counts = df_mad.select([\n",
    "    _sum(col(c).isNull().cast(\"int\")).alias(c) for c in df_mad.columns\n",
    "])\n",
    "\n",
    "# Transform the result into a more readable format\n",
    "missing_counts = missing_counts.collect()[0].asDict()\n",
    "\n",
    "# Convert the dictionary to a DataFrame\n",
    "missing_df = spark.createDataFrame(\n",
    "    [(k, v) for k, v in missing_counts.items()],\n",
    "    [\"Column\", \"MissingValues\"]\n",
    ")\n",
    "\n",
    "# Optionally, filter out columns with no missing values and sort by missing value count\n",
    "missing_df = missing_df.filter(col(\"MissingValues\") > 0).orderBy(col(\"MissingValues\").desc())\n",
    "\n",
    "# Show the result\n",
    "missing_df.show(truncate=False)\n",
    "\n",
    "# The dataset has several columns with missing values:\n",
    "\n",
    "# license shows 24174 missing values. We can drop this column\n",
    "# review_scores_rating is missing 5856 times. We can replace these missing values with 0\n",
    "# price: Missing in 5305 entries. Drop or fill in depending on the cases.\n",
    "# bedrooms missing in 2211 cases.  > check for more than one bedroom > mark 1, if less than 1 > mark 0\n",
    "# host_is_superhost missing 155 times. Fill in with 'f'\n",
    "# neighbourhood_group_cleansed: 7 missing > manual review\n",
    "# host_name missing 4 times. Fill with 'no disponible'\n",
    "# latitude missing 1 time > manual review > I have checked the row (id 16270115) and the latitude value is not missing\n",
    "# kitchen missing 1 time > manual review\n"
   ]
  },
  {
   "cell_type": "code",
   "execution_count": 58,
   "metadata": {},
   "outputs": [],
   "source": [
    "# Drop the license Column\n",
    "df_mad = df_mad.drop(\"license\")"
   ]
  },
  {
   "cell_type": "code",
   "execution_count": 59,
   "metadata": {},
   "outputs": [],
   "source": [
    "# Fill review_scores_rating with 0\n",
    "\n",
    "df_mad =df_mad.na.fill({\"review_scores_rating\": 0})"
   ]
  },
  {
   "cell_type": "code",
   "execution_count": 60,
   "metadata": {},
   "outputs": [],
   "source": [
    "# Fill host_name with 'No Disponible'\n",
    "df_mad = df_mad.na.fill({\"host_name\": \"No Disponible\"})"
   ]
  },
  {
   "cell_type": "code",
   "execution_count": 61,
   "metadata": {},
   "outputs": [],
   "source": [
    "# Fill host_is_superhost with 'f'\n",
    "df_mad = df_mad.na.fill({\"host_is_superhost\": \"f\"})"
   ]
  },
  {
   "cell_type": "code",
   "execution_count": 62,
   "metadata": {},
   "outputs": [
    {
     "name": "stdout",
     "output_type": "stream",
     "text": [
      "+------------------+--------------------+--------------------+--------------------+---------+------------------------------+-----------------+----------------------------+---------+-----------------+------------------+---------------+-----+-------+----------------+--------+----------------+---------+----------+------------------+-----------------+--------------------+\n",
      "|                id|         listing_url|                name|             host_id|host_name|calculated_host_listings_count|host_is_superhost|neighbourhood_group_cleansed| latitude|        longitude|         room_type|       bedrooms|price|kitchen|patio or balcony|elevator|air conditioning|long_term|short_term|possible_long_term|number_of_reviews|review_scores_rating|\n",
      "+------------------+--------------------+--------------------+--------------------+---------+------------------------------+-----------------+----------------------------+---------+-----------------+------------------+---------------+-----+-------+----------------+--------+----------------+---------+----------+------------------+-----------------+--------------------+\n",
      "|671019465759187817|https://www.airbn...|\"LUXURY ROOM \"\"GR...| EN MADRID  PARKI...|459598058|                      Liubasha|                4|                        NULL|    Usera|         40.36759|          -3.70564|   Private room|  1.0| $22.00|               1|       0|               0|        1|         1|                 0|                1|                 3.0|\n",
      "|673775001948663555|https://www.airbn...|\"LUXURY ROOM \"\"SI...|IN MADRID PARKING...|459598058|                      Liubasha|                4|                        NULL|    Usera|         40.36958|          -3.70639|   Private room|  1.0| $22.00|               1|       0|               0|        1|         1|                 0|                1|                 2.0|\n",
      "|673871509307459474|https://www.airbn...|\"LUXURY ROOM \"\"BL...| IN MADRID PARKIN...|459598058|                      Liubasha|                4|                        NULL|    Usera|         40.36747|          -3.70464|   Private room|  1.0| $22.00|               1|       0|               0|        1|         1|                 0|                1|                 2.0|\n",
      "|          31672518|https://www.airbn...|\"\"\"Suite Lujan\"\" ...|               Pool\"|  6673480|                      Yolvania|                5|                        NULL|Chamartín|         40.45844|          -3.68172|Entire home/apt|  1.0| $60.00|               1|       0|               1|        1|         1|                 0|                1|                20.0|\n",
      "|          12187235|https://www.airbn...|\"\"\"The little hou...| cozy apartment i...| 33049567|                     José Luis|                7|                        NULL|   Centro|         40.40909|          -3.71029|Entire home/apt|  1.0| $96.00|               1|       0|               0|        0|         0|                 0|                1|                72.0|\n",
      "|          48075156|https://www.airbn...|\"\"\"Amplio estudio...| céntrico y muy l...|144246035|                          Rosa|               14|                        NULL| Chamberí|40.42866134643555|-3.694408893585205|Entire home/apt|  1.0|$110.00|               1|       0|               1|        1|         0|                 0|                1|                11.0|\n",
      "|631090264341908777|https://www.airbn...|\"LUXURY ROOM \"\"WH...| IN  MADRID PARKI...|459598058|                      Liubasha|                4|                        NULL|    Usera|         40.36937|          -3.70743|   Private room| NULL|   NULL|               1|       1|               0|        1|         1|                 0|                1|                 1.0|\n",
      "+------------------+--------------------+--------------------+--------------------+---------+------------------------------+-----------------+----------------------------+---------+-----------------+------------------+---------------+-----+-------+----------------+--------+----------------+---------+----------+------------------+-----------------+--------------------+\n",
      "\n"
     ]
    }
   ],
   "source": [
    "# Check by the URL link to fill in the neighbourhood for missing value\n",
    "\n",
    "# Filter the DataFrame to find the rows with the missing value in 'neighbourhood_group_cleansed'\n",
    "missing_neighbourhood = df_mad.filter(col(\"neighbourhood_group_cleansed\").isNull())\n",
    "\n",
    "# Show the row(s) with the missing value\n",
    "missing_neighbourhood.show()\n",
    "\n",
    "# It can clearly be seen below that there are values present in neighbourhood_group_cleansed for each of these listings. \n",
    "# Unclear why they show as missing values in python.\n",
    "# I will drop these rows to avoid further complications."
   ]
  },
  {
   "cell_type": "code",
   "execution_count": 63,
   "metadata": {},
   "outputs": [
    {
     "name": "stdout",
     "output_type": "stream",
     "text": [
      "+---+-----------+----+-------+---------+------------------------------+-----------------+----------------------------+--------+---------+---------+--------+-----+-------+----------------+--------+----------------+---------+----------+------------------+-----------------+--------------------+\n",
      "| id|listing_url|name|host_id|host_name|calculated_host_listings_count|host_is_superhost|neighbourhood_group_cleansed|latitude|longitude|room_type|bedrooms|price|kitchen|patio or balcony|elevator|air conditioning|long_term|short_term|possible_long_term|number_of_reviews|review_scores_rating|\n",
      "+---+-----------+----+-------+---------+------------------------------+-----------------+----------------------------+--------+---------+---------+--------+-----+-------+----------------+--------+----------------+---------+----------+------------------+-----------------+--------------------+\n",
      "+---+-----------+----+-------+---------+------------------------------+-----------------+----------------------------+--------+---------+---------+--------+-----+-------+----------------+--------+----------------+---------+----------+------------------+-----------------+--------------------+\n",
      "\n"
     ]
    }
   ],
   "source": [
    "# Drop the rows with 'missing' values to avoid further complications.\n",
    "df_mad = df_mad.na.drop(subset=['neighbourhood_group_cleansed'])\n",
    "\n",
    "# Filter the DataFrame to find the rows with the missing value in 'neighbourhood_group_cleansed'\n",
    "missing_neighbourhood = df_mad.filter(col(\"neighbourhood_group_cleansed\").isNull())\n",
    "\n",
    "# Show the row(s) with the missing value\n",
    "missing_neighbourhood.show()"
   ]
  },
  {
   "cell_type": "code",
   "execution_count": 64,
   "metadata": {},
   "outputs": [
    {
     "name": "stdout",
     "output_type": "stream",
     "text": [
      "+--------+-------------------------------------+-----------+--------------+--------------------------+------------------------------+-----------------+----------------------------+--------+---------+---------+--------+-----+-------+----------------+--------+----------------+---------+----------+------------------+-----------------+--------------------+\n",
      "|id      |listing_url                          |name       |host_id       |host_name                 |calculated_host_listings_count|host_is_superhost|neighbourhood_group_cleansed|latitude|longitude|room_type|bedrooms|price|kitchen|patio or balcony|elevator|air conditioning|long_term|short_term|possible_long_term|number_of_reviews|review_scores_rating|\n",
      "+--------+-------------------------------------+-----------+--------------+--------------------------+------------------------------+-----------------+----------------------------+--------+---------+---------+--------+-----+-------+----------------+--------+----------------+---------+----------+------------------+-----------------+--------------------+\n",
      "|16270115|https://www.airbnb.com/rooms/16270115|\"\"\"Loft 4-4| Loft 4-Love\"\"| downtown gardened house.\"|33049567                      |José Luis        |t                           |NULL    |Centro   |40.40902 |-3.71051|NULL |4.0    |$204.00         |1       |1               |0        |0         |0                 |0                |1.0                 |\n",
      "+--------+-------------------------------------+-----------+--------------+--------------------------+------------------------------+-----------------+----------------------------+--------+---------+---------+--------+-----+-------+----------------+--------+----------------+---------+----------+------------------+-----------------+--------------------+\n",
      "\n"
     ]
    }
   ],
   "source": [
    "# Filter rows where the 'latitude' column is null\n",
    "rows_with_missing_latitude = df_mad.filter(col(\"latitude\").isNull())\n",
    "\n",
    "# Show the rows with missing values in 'latitude'\n",
    "rows_with_missing_latitude.show(truncate=False)"
   ]
  },
  {
   "cell_type": "code",
   "execution_count": 65,
   "metadata": {},
   "outputs": [
    {
     "name": "stdout",
     "output_type": "stream",
     "text": [
      "+---+-----------+----+-------+---------+------------------------------+-----------------+----------------------------+--------+---------+---------+--------+-----+-------+----------------+--------+----------------+---------+----------+------------------+-----------------+--------------------+\n",
      "|id |listing_url|name|host_id|host_name|calculated_host_listings_count|host_is_superhost|neighbourhood_group_cleansed|latitude|longitude|room_type|bedrooms|price|kitchen|patio or balcony|elevator|air conditioning|long_term|short_term|possible_long_term|number_of_reviews|review_scores_rating|\n",
      "+---+-----------+----+-------+---------+------------------------------+-----------------+----------------------------+--------+---------+---------+--------+-----+-------+----------------+--------+----------------+---------+----------+------------------+-----------------+--------------------+\n",
      "+---+-----------+----+-------+---------+------------------------------+-----------------+----------------------------+--------+---------+---------+--------+-----+-------+----------------+--------+----------------+---------+----------+------------------+-----------------+--------------------+\n",
      "\n"
     ]
    }
   ],
   "source": [
    "# I have manually checked the row in our cleaned database (id 16270115) and the value for latitude is NOT missing. \n",
    "# Therefore, I will add the value again manually.\n",
    "\n",
    "# Fill 'missing' values in the 'latitude' column with the value present in the dataset\n",
    "df_mad = df_mad.fillna({\"latitude\": 40.40902})\n",
    "\n",
    "# Filter rows where the 'latitude' column is null\n",
    "rows_with_missing_latitude = df_mad.filter(col(\"latitude\").isNull())\n",
    "\n",
    "# Show the rows with missing values in 'latitude'\n",
    "rows_with_missing_latitude.show(truncate=False)"
   ]
  },
  {
   "cell_type": "code",
   "execution_count": 66,
   "metadata": {},
   "outputs": [
    {
     "name": "stdout",
     "output_type": "stream",
     "text": [
      "+---+-----------+----+-------+---------+------------------------------+-----------------+----------------------------+--------+---------+---------+--------+-----+-------+----------------+--------+----------------+---------+----------+------------------+-----------------+--------------------+\n",
      "|id |listing_url|name|host_id|host_name|calculated_host_listings_count|host_is_superhost|neighbourhood_group_cleansed|latitude|longitude|room_type|bedrooms|price|kitchen|patio or balcony|elevator|air conditioning|long_term|short_term|possible_long_term|number_of_reviews|review_scores_rating|\n",
      "+---+-----------+----+-------+---------+------------------------------+-----------------+----------------------------+--------+---------+---------+--------+-----+-------+----------------+--------+----------------+---------+----------+------------------+-----------------+--------------------+\n",
      "+---+-----------+----+-------+---------+------------------------------+-----------------+----------------------------+--------+---------+---------+--------+-----+-------+----------------+--------+----------------+---------+----------+------------------+-----------------+--------------------+\n",
      "\n"
     ]
    }
   ],
   "source": [
    "# Repeat the above for the missing 'kitchen' value, as the dataset shows no missing value in this column\n",
    "\n",
    "# Filter rows where the 'kitchen' column is null\n",
    "rows_with_missing_kitchen = df_mad.filter(col(\"kitchen\").isNull())\n",
    "\n",
    "# Show the rows with missing values in 'kitchen'\n",
    "rows_with_missing_kitchen.show(truncate=False)"
   ]
  },
  {
   "cell_type": "code",
   "execution_count": 67,
   "metadata": {},
   "outputs": [
    {
     "name": "stdout",
     "output_type": "stream",
     "text": [
      "+---+-----------+----+-------+---------+------------------------------+-----------------+----------------------------+--------+---------+---------+--------+-----+-------+----------------+--------+----------------+---------+----------+------------------+-----------------+--------------------+\n",
      "|id |listing_url|name|host_id|host_name|calculated_host_listings_count|host_is_superhost|neighbourhood_group_cleansed|latitude|longitude|room_type|bedrooms|price|kitchen|patio or balcony|elevator|air conditioning|long_term|short_term|possible_long_term|number_of_reviews|review_scores_rating|\n",
      "+---+-----------+----+-------+---------+------------------------------+-----------------+----------------------------+--------+---------+---------+--------+-----+-------+----------------+--------+----------------+---------+----------+------------------+-----------------+--------------------+\n",
      "+---+-----------+----+-------+---------+------------------------------+-----------------+----------------------------+--------+---------+---------+--------+-----+-------+----------------+--------+----------------+---------+----------+------------------+-----------------+--------------------+\n",
      "\n"
     ]
    }
   ],
   "source": [
    "# The dataset entry for id 631090264341908777 shows '1' in the kitchen column.\n",
    "# Therefore I will add the value again manually\n",
    "\n",
    "# Fill missing values in the 'kitchen' column with the value present in the dataset\n",
    "df_mad = df_mad.fillna({\"kitchen\": 1})\n",
    "\n",
    "# Filter rows where the 'kitchen' column is null\n",
    "rows_with_missing_kitchen = df_mad.filter(col(\"kitchen\").isNull())\n",
    "\n",
    "# Show the rows with missing values in 'kitchen'\n",
    "rows_with_missing_kitchen.show(truncate=False)"
   ]
  },
  {
   "cell_type": "code",
   "execution_count": 68,
   "metadata": {},
   "outputs": [
    {
     "name": "stdout",
     "output_type": "stream",
     "text": [
      "+------------+-----------------+--------+----------------+\n",
      "|   room_type|room_type_encoded|bedrooms|bedrooms_encoded|\n",
      "+------------+-----------------+--------+----------------+\n",
      "|Private room|                1|     1.0|               0|\n",
      "|Private room|                1|     1.0|               0|\n",
      "|Private room|                1|     2.0|               1|\n",
      "|Private room|                1|     1.0|               0|\n",
      "|Private room|                1|     1.0|               0|\n",
      "|Private room|                1|     1.0|               0|\n",
      "|Private room|                1|     1.0|               0|\n",
      "|Private room|                1|     1.0|               0|\n",
      "|Private room|                1|     1.0|               0|\n",
      "| Shared room|                0|    NULL|               0|\n",
      "+------------+-----------------+--------+----------------+\n",
      "only showing top 10 rows\n",
      "\n"
     ]
    }
   ],
   "source": [
    "# To fill in \"bedrooms\" columns and also encode 'bedroom' and 'room type' with the following theory\n",
    "\n",
    "# if the type is \"shared bedroom\" or null, we encode it as 0\n",
    "# if the typr is \"private room\" or \"hotel room\", we encode it as 1\n",
    "# and if the type if \"entire home/apt\", we encode it with 2\n",
    "from pyspark.sql.functions import when, col\n",
    "\n",
    "# Apply the Encoding Based on room_type\n",
    "# Apply the encoding to the 'room_type' column\n",
    "df_mad = df_mad.withColumn(\"room_type_encoded\", \n",
    "                   when(col(\"room_type\").isNull(), 0)\n",
    "                   .when(col(\"room_type\") == \"Shared room\", 0)\n",
    "                   .when(col(\"room_type\") == \"Private room\", 1)\n",
    "                   .when(col(\"room_type\") == \"Hotel room\", 1)\n",
    "                   .when(col(\"room_type\") == \"Entire home/apt\", 2)\n",
    "                   .otherwise(0))  # This covers any unexpected or additional room types\n",
    "\n",
    "# Now combine with the 'bedrooms' logic\n",
    "df_mad = df_mad.withColumn(\"bedrooms_encoded\", \n",
    "                   when(col(\"bedrooms\") > 1, 1).otherwise(0))\n",
    "\n",
    "# Show the result to verify the changes\n",
    "df_mad.select(\"room_type\", \"room_type_encoded\", \"bedrooms\", \"bedrooms_encoded\").show(10)\n",
    "\n",
    "# Then remove 'room_type' and 'bedrooms'\n",
    "df_mad = df_mad.drop(\"room_type\")\n",
    "df_mad = df_mad.drop(\"bedrooms\")\n"
   ]
  },
  {
   "cell_type": "code",
   "execution_count": 69,
   "metadata": {},
   "outputs": [],
   "source": [
    "# Drop rows where 'neighbourhood_group_cleansed' is null in df_mad\n",
    "df_mad = df_mad.dropna(subset=[\"neighbourhood_group_cleansed\"])"
   ]
  },
  {
   "cell_type": "code",
   "execution_count": 70,
   "metadata": {},
   "outputs": [],
   "source": [
    "# Fill in \"price\" column with the following theory\n",
    "\n",
    "# 1. Mark the rows where the \"availability_30\" and \"availability_60\" are both '0' in the orig_mad dataframe\n",
    "# 2. Found the correspondent rows by using its \"id\" in df_mad and drop the empty rows\n",
    "# 3. Fill in the rest of the null values with the average price in the same neighbourhood"
   ]
  },
  {
   "cell_type": "code",
   "execution_count": 71,
   "metadata": {},
   "outputs": [
    {
     "name": "stderr",
     "output_type": "stream",
     "text": [
      "                                                                                \r"
     ]
    },
    {
     "data": {
      "text/plain": [
       "43"
      ]
     },
     "execution_count": 71,
     "metadata": {},
     "output_type": "execute_result"
    }
   ],
   "source": [
    "# Load the orig_mad dataframe\n",
    "zero_availability_ids = df_numeric_ids.filter((col(\"availability_30\") == 0) & (col(\"availability_60\") == 0)).select(\"id\")\n",
    "zero_availability_ids.count()"
   ]
  },
  {
   "cell_type": "code",
   "execution_count": 72,
   "metadata": {},
   "outputs": [
    {
     "name": "stderr",
     "output_type": "stream",
     "text": [
      "                                                                                \r"
     ]
    }
   ],
   "source": [
    "# # Convert zero_availability_ids to a list\n",
    "zero_availability_ids_list = [row.id for row in zero_availability_ids.distinct().collect()]\n",
    "\n",
    "# # Filter df_mad to remove rows where id is in zero_availability_ids_list\n",
    "df_mad_filtered = df_mad.filter(~col(\"id\").isin(zero_availability_ids_list))"
   ]
  },
  {
   "cell_type": "code",
   "execution_count": 73,
   "metadata": {},
   "outputs": [
    {
     "data": {
      "text/plain": [
       "26874"
      ]
     },
     "execution_count": 73,
     "metadata": {},
     "output_type": "execute_result"
    }
   ],
   "source": [
    "df_mad_filtered.count()"
   ]
  },
  {
   "cell_type": "code",
   "execution_count": 74,
   "metadata": {},
   "outputs": [
    {
     "name": "stdout",
     "output_type": "stream",
     "text": [
      "+-------------------+----------------------------+-----+\n",
      "|                 id|neighbourhood_group_cleansed|price|\n",
      "+-------------------+----------------------------+-----+\n",
      "|1104967621421098322|                      Retiro| 68.0|\n",
      "| 930941073152690361|          Puente de Vallecas| 16.0|\n",
      "|           51647382|          Puente de Vallecas| 25.0|\n",
      "|1026072412626070839|                 Carabanchel| 26.0|\n",
      "| 766423030884644417|                   Salamanca|100.0|\n",
      "|           52547327|                      Centro| 45.0|\n",
      "| 912133850058274259|                      Centro| 25.0|\n",
      "|           35987869|                  Arganzuela|141.0|\n",
      "|           36412220|                 Carabanchel| 82.0|\n",
      "|           19032176|                     Barajas|101.0|\n",
      "+-------------------+----------------------------+-----+\n",
      "only showing top 10 rows\n",
      "\n"
     ]
    }
   ],
   "source": [
    "from pyspark.sql import functions as F\n",
    "\n",
    "# # Calculate the average price per neighbourhood\n",
    "avg_price_neighbourhood = df_mad_filtered.groupBy(\"neighbourhood_group_cleansed\").agg(F.round(F.mean(\"price\")).alias(\"avg_price\"))\n",
    "\n",
    "# Join the original DataFrame with the average prices DataFrame\n",
    "df_mad_with_avg = df_mad_filtered.join(avg_price_neighbourhood, on=\"neighbourhood_group_cleansed\", how=\"left\")\n",
    "\n",
    "# # Fill missing price values with the calculated average price\n",
    "df_mad_final = df_mad_with_avg.withColumn(\"price\", F.coalesce(col(\"price\"), col(\"avg_price\")))\n",
    "\n",
    "# # Drop the avg_price column as it's no longer needed\n",
    "df_mad_final = df_mad_final.drop(\"avg_price\")\n",
    "\n",
    "# # Show the result to verify the changes\n",
    "df_mad_final.select(\"id\", \"neighbourhood_group_cleansed\", \"price\").show(10)"
   ]
  },
  {
   "cell_type": "code",
   "execution_count": 75,
   "metadata": {},
   "outputs": [
    {
     "data": {
      "text/plain": [
       "26874"
      ]
     },
     "execution_count": 75,
     "metadata": {},
     "output_type": "execute_result"
    }
   ],
   "source": [
    "df_mad_final.count()"
   ]
  },
  {
   "cell_type": "code",
   "execution_count": 76,
   "metadata": {},
   "outputs": [
    {
     "name": "stdout",
     "output_type": "stream",
     "text": [
      "+----------------------------+---+-----------+----+-------+---------+------------------------------+-----------------+--------+---------+-----+-------+----------------+--------+----------------+---------+----------+------------------+-----------------+--------------------+-----------------+----------------+\n",
      "|neighbourhood_group_cleansed| id|listing_url|name|host_id|host_name|calculated_host_listings_count|host_is_superhost|latitude|longitude|price|kitchen|patio or balcony|elevator|air conditioning|long_term|short_term|possible_long_term|number_of_reviews|review_scores_rating|room_type_encoded|bedrooms_encoded|\n",
      "+----------------------------+---+-----------+----+-------+---------+------------------------------+-----------------+--------+---------+-----+-------+----------------+--------+----------------+---------+----------+------------------+-----------------+--------------------+-----------------+----------------+\n",
      "|                           0|  0|          0|   0|      0|        0|                             0|                0|       0|        0|    1|      0|               0|       0|               0|        0|         0|                 0|                0|                   0|                0|               0|\n",
      "+----------------------------+---+-----------+----+-------+---------+------------------------------+-----------------+--------+---------+-----+-------+----------------+--------+----------------+---------+----------+------------------+-----------------+--------------------+-----------------+----------------+\n",
      "\n"
     ]
    }
   ],
   "source": [
    "# Count missing values for each column\n",
    "df_mad_final.select([_sum(col(c).isNull().cast(\"int\")).alias(c) for c in df_mad_final.columns]).show()"
   ]
  },
  {
   "cell_type": "code",
   "execution_count": 77,
   "metadata": {},
   "outputs": [
    {
     "name": "stdout",
     "output_type": "stream",
     "text": [
      "+----------------------------+--------+--------------------+-----------+--------------+--------------------+------------------------------+-----------------+--------+---------+-----+-------+----------------+--------+----------------+---------+----------+------------------+-----------------+--------------------+-----------------+----------------+\n",
      "|neighbourhood_group_cleansed|      id|         listing_url|       name|       host_id|           host_name|calculated_host_listings_count|host_is_superhost|latitude|longitude|price|kitchen|patio or balcony|elevator|air conditioning|long_term|short_term|possible_long_term|number_of_reviews|review_scores_rating|room_type_encoded|bedrooms_encoded|\n",
      "+----------------------------+--------+--------------------+-----------+--------------+--------------------+------------------------------+-----------------+--------+---------+-----+-------+----------------+--------+----------------+---------+----------+------------------+-----------------+--------------------+-----------------+----------------+\n",
      "|                           t|16270115|https://www.airbn...|\"\"\"Loft 4-4| Loft 4-Love\"\"| downtown gardene...|                      33049567|        José Luis|40.40902|   Centro| NULL|    4.0|         $204.00|       1|               1|        0|         0|                 0|                0|                 1.0|                0|               0|\n",
      "+----------------------------+--------+--------------------+-----------+--------------+--------------------+------------------------------+-----------------+--------+---------+-----+-------+----------------+--------+----------------+---------+----------+------------------+-----------------+--------------------+-----------------+----------------+\n",
      "\n"
     ]
    }
   ],
   "source": [
    "from pyspark.sql.functions import col\n",
    "\n",
    "# Create a condition to check for nulls in any column\n",
    "condition = None\n",
    "for c in df_mad_final.columns:\n",
    "    if condition is None:\n",
    "        condition = col(c).isNull()\n",
    "    else:\n",
    "        condition = condition | col(c).isNull()\n",
    "\n",
    "# Filter rows where the condition is met (i.e., any column is null)\n",
    "missing_data = df_mad_final.filter(condition)\n",
    "\n",
    "# Show the rows with missing values\n",
    "missing_data.show()"
   ]
  },
  {
   "cell_type": "code",
   "execution_count": 78,
   "metadata": {},
   "outputs": [
    {
     "name": "stdout",
     "output_type": "stream",
     "text": [
      "+----------------------------+---+-----------+----+-------+---------+------------------------------+-----------------+--------+---------+-----+-------+----------------+--------+----------------+---------+----------+------------------+-----------------+--------------------+-----------------+----------------+\n",
      "|neighbourhood_group_cleansed|id |listing_url|name|host_id|host_name|calculated_host_listings_count|host_is_superhost|latitude|longitude|price|kitchen|patio or balcony|elevator|air conditioning|long_term|short_term|possible_long_term|number_of_reviews|review_scores_rating|room_type_encoded|bedrooms_encoded|\n",
      "+----------------------------+---+-----------+----+-------+---------+------------------------------+-----------------+--------+---------+-----+-------+----------------+--------+----------------+---------+----------+------------------+-----------------+--------------------+-----------------+----------------+\n",
      "+----------------------------+---+-----------+----+-------+---------+------------------------------+-----------------+--------+---------+-----+-------+----------------+--------+----------------+---------+----------+------------------+-----------------+--------------------+-----------------+----------------+\n",
      "\n"
     ]
    }
   ],
   "source": [
    "# I have manually checked the row in our cleaned database (id 16270115) and the value for price is NOT missing. \n",
    "# Therefore, I will add the value again manually.\n",
    "\n",
    "# Fill 'missing' values in the 'price' column with the value present in the dataset\n",
    "df_mad_final = df_mad_final.fillna({\"price\": 204})\n",
    "\n",
    "# Filter rows where the 'price' column is null\n",
    "rows_with_missing_price = df_mad_final.filter(col(\"price\").isNull())\n",
    "\n",
    "# Show the rows with missing values in 'price'\n",
    "rows_with_missing_price.show(truncate=False)"
   ]
  },
  {
   "cell_type": "code",
   "execution_count": 79,
   "metadata": {},
   "outputs": [
    {
     "name": "stdout",
     "output_type": "stream",
     "text": [
      "+----------------------------+---+-----------+----+-------+---------+------------------------------+-----------------+--------+---------+-----+-------+----------------+--------+----------------+---------+----------+------------------+-----------------+--------------------+-----------------+----------------+\n",
      "|neighbourhood_group_cleansed| id|listing_url|name|host_id|host_name|calculated_host_listings_count|host_is_superhost|latitude|longitude|price|kitchen|patio or balcony|elevator|air conditioning|long_term|short_term|possible_long_term|number_of_reviews|review_scores_rating|room_type_encoded|bedrooms_encoded|\n",
      "+----------------------------+---+-----------+----+-------+---------+------------------------------+-----------------+--------+---------+-----+-------+----------------+--------+----------------+---------+----------+------------------+-----------------+--------------------+-----------------+----------------+\n",
      "+----------------------------+---+-----------+----+-------+---------+------------------------------+-----------------+--------+---------+-----+-------+----------------+--------+----------------+---------+----------+------------------+-----------------+--------------------+-----------------+----------------+\n",
      "\n"
     ]
    }
   ],
   "source": [
    "from pyspark.sql.functions import col\n",
    "\n",
    "# Create a condition to check for nulls in any column\n",
    "condition = None\n",
    "for c in df_mad_final.columns:\n",
    "    if condition is None:\n",
    "        condition = col(c).isNull()\n",
    "    else:\n",
    "        condition = condition | col(c).isNull()\n",
    "\n",
    "# Filter rows where the condition is met (i.e., any column is null)\n",
    "missing_data = df_mad_final.filter(condition)\n",
    "\n",
    "# Show the rows with missing values\n",
    "missing_data.show()"
   ]
  },
  {
   "cell_type": "code",
   "execution_count": 80,
   "metadata": {},
   "outputs": [
    {
     "name": "stderr",
     "output_type": "stream",
     "text": [
      "                                                                                \r"
     ]
    }
   ],
   "source": [
    "# Coalesce the DataFrame to a single partition\n",
    "df_mad_final_coalesced = df_mad_final.coalesce(1)\n",
    "\n",
    "# Save the DataFrame as a single CSV file\n",
    "df_mad_final_coalesced.write.mode(\"overwrite\").csv(\"cleaned_listings_mad-coalesced.csv\", header=True)\n"
   ]
  },
  {
   "cell_type": "code",
   "execution_count": null,
   "metadata": {},
   "outputs": [],
   "source": [
    "# Save the cleaned final DataFrame to a new CSV file, overwriting if it exists\n",
    "df_mad_final.write.mode(\"overwrite\").csv(\"cleaned_listings_mad.csv\", header=True)"
   ]
  },
  {
   "cell_type": "code",
   "execution_count": null,
   "metadata": {},
   "outputs": [],
   "source": [
    "spark.stop()"
   ]
  },
  {
   "cell_type": "code",
   "execution_count": null,
   "metadata": {},
   "outputs": [],
   "source": []
  }
 ],
 "metadata": {
  "kernelspec": {
   "display_name": "Python 3 (ipykernel)",
   "language": "python",
   "name": "python3"
  },
  "language_info": {
   "codemirror_mode": {
    "name": "ipython",
    "version": 3
   },
   "file_extension": ".py",
   "mimetype": "text/x-python",
   "name": "python",
   "nbconvert_exporter": "python",
   "pygments_lexer": "ipython3",
   "version": "3.9.6"
  }
 },
 "nbformat": 4,
 "nbformat_minor": 4
}
