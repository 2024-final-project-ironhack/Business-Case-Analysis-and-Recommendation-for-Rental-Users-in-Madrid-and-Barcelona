{
 "cells": [
  {
   "cell_type": "code",
   "execution_count": 2,
   "metadata": {},
   "outputs": [],
   "source": [
    "# import libraries and convert to dataframe\n",
    "\n",
    "import pandas as pd\n",
    "from sklearn.cluster import DBSCAN\n",
    "from sklearn.preprocessing import StandardScaler\n",
    "from sklearn.linear_model import LinearRegression\n",
    "from sklearn.metrics import mean_squared_error\n",
    "from sklearn.model_selection import train_test_split\n",
    "\n",
    "# import dataframes\n",
    "\n",
    "\n",
    "df_bcn = pd.read_csv('Datasets/Final_cleaned_dataset/labled_features_bcn.csv', on_bad_lines='skip')\n",
    "df_mad = pd.read_csv('Datasets/Final_cleaned_dataset/labled_features_mad.csv', on_bad_lines='skip')"
   ]
  },
  {
   "cell_type": "code",
   "execution_count": 3,
   "metadata": {},
   "outputs": [],
   "source": [
    "from scipy import stats\n",
    "import numpy as np\n",
    "from sklearn.preprocessing import StandardScaler\n",
    "\n",
    "# Calculate z-scores for price\n",
    "z_scores_bcn = np.abs(stats.zscore(df_bcn['price']))\n",
    "z_scores_mad = np.abs(stats.zscore(df_mad['price']))\n",
    "\n",
    "# Define a threshold\n",
    "threshold = 3\n",
    "\n",
    "# Remove outliers\n",
    "df_bcn = df_bcn[(z_scores_bcn < threshold)]\n",
    "df_mad = df_mad[(z_scores_mad < threshold)]\n",
    "\n",
    "# Find and remove rows where 'neighbourhood' is \"Sant Andreu\" or \"Gracias\" and 'distance to city center' is less than 1 km\n",
    "df_bcn = df_bcn[~((df_bcn['neighbourhood_group_cleansed'] == 'Sant Andreu') & (df_bcn['distance_from_city_center'] == '<1 km'))]\n",
    "df_bcn = df_bcn[~((df_bcn['neighbourhood_group_cleansed'] == 'Gràcia') & (df_bcn['distance_from_city_center'] == '<1 km'))]\n",
    "\n",
    "from sklearn.preprocessing import StandardScaler\n",
    "\n",
    "# Select only the continuous numerical columns to normalize\n",
    "continuous_columns_bcn = ['price', 'distance_from_city_center', 'number_of_reviews', 'review_scores_rating']\n",
    "continuous_columns_mad = ['price', 'distance_from_city_center', 'number_of_reviews', 'review_scores_rating']\n",
    "\n",
    "# Initialize the scaler\n",
    "scaler = StandardScaler()\n",
    "\n",
    "# Normalize only the continuous columns\n",
    "df_bcn[continuous_columns_bcn] = scaler.fit_transform(df_bcn[continuous_columns_bcn])\n",
    "df_mad[continuous_columns_mad] = scaler.fit_transform(df_mad[continuous_columns_mad])\n",
    "\n",
    "# Leave the binary and ordinal encoded variables as they are\n",
    "binary_columns = ['host_is_superhost', 'kitchen', 'patio or balcony', 'elevator', 'air conditioning']\n",
    "ordinal_columns = ['bedrooms_encoded', 'room_type_encoded']\n",
    "\n",
    "# No need to scale these columns\n",
    "df_bcn[binary_columns + ordinal_columns] = df_bcn[binary_columns + ordinal_columns]\n",
    "df_mad[binary_columns + ordinal_columns] = df_mad[binary_columns + ordinal_columns]"
   ]
  },
  {
   "cell_type": "code",
   "execution_count": 4,
   "metadata": {},
   "outputs": [],
   "source": [
    "df_bcn['host_is_superhost'] = df_bcn['host_is_superhost'].apply(lambda x: 1 if x == 't' else 0) \n",
    "df_mad['host_is_superhost'] = df_mad['host_is_superhost'].apply(lambda x: 1 if x == 't' else 0)"
   ]
  },
  {
   "cell_type": "markdown",
   "metadata": {},
   "source": [
    "### Update Feature and Target Variables"
   ]
  },
  {
   "cell_type": "code",
   "execution_count": 5,
   "metadata": {},
   "outputs": [],
   "source": [
    "# Features for clustering and regression\n",
    "# For Barcelona\n",
    "X_bcn = df_bcn[['distance_from_city_center', 'host_is_superhost', 'kitchen', 'patio or balcony',\n",
    "                'elevator', 'air conditioning', 'room_type_encoded', 'bedrooms_encoded',\n",
    "                'number_of_reviews', 'review_scores_rating']]\n",
    "y_bcn = df_bcn['price']\n",
    "\n",
    "# For Madrid\n",
    "X_mad = df_mad[['distance_from_city_center', 'host_is_superhost', 'kitchen', 'patio or balcony',\n",
    "                'elevator', 'air conditioning', 'room_type_encoded', 'bedrooms_encoded',\n",
    "                'number_of_reviews', 'review_scores_rating']]\n",
    "y_mad = df_mad['price']\n",
    "\n",
    "# Standardize the data before clustering\n",
    "scaler = StandardScaler()\n",
    "X_bcn_scaled = scaler.fit_transform(X_bcn)\n",
    "X_mad_scaled = scaler.fit_transform(X_mad)\n",
    "\n",
    "# Apply DBSCAN for clustering\n",
    "############COMENT NEEDED\n",
    "dbscan_bcn = DBSCAN(eps=0.5, min_samples=5)\n",
    "clusters_bcn = dbscan_bcn.fit_predict(X_bcn_scaled)\n",
    "\n",
    "dbscan_mad = DBSCAN(eps=0.5, min_samples=5)\n",
    "clusters_mad = dbscan_mad.fit_predict(X_mad_scaled)\n",
    "\n",
    "# Add the cluster labels to the original datasets using .loc\n",
    "X_bcn = X_bcn.copy()  # Ensure you're working with a copy of the DataFrame\n",
    "X_bcn.loc[:, 'cluster'] = clusters_bcn\n",
    "\n",
    "X_mad = X_mad.copy()  # Ensure you're working with a copy of the DataFrame\n",
    "X_mad.loc[:, 'cluster'] = clusters_mad\n",
    "\n"
   ]
  },
  {
   "cell_type": "code",
   "execution_count": 6,
   "metadata": {},
   "outputs": [],
   "source": [
    "# Split the data into training and testing sets\n",
    "X_bcn_train, X_bcn_test, y_bcn_train, y_bcn_test = train_test_split(X_bcn, y_bcn, test_size=0.3, random_state=42)\n",
    "X_mad_train, X_mad_test, y_mad_train, y_mad_test = train_test_split(X_mad, y_mad, test_size=0.3, random_state=42)\n"
   ]
  },
  {
   "cell_type": "code",
   "execution_count": 7,
   "metadata": {},
   "outputs": [
    {
     "name": "stdout",
     "output_type": "stream",
     "text": [
      "MSE Barcelona: 0.8051334764651235\n",
      "MSE Madrid: 0.7359847049981425\n"
     ]
    }
   ],
   "source": [
    "# Fit the linear regression model for Barcelona\n",
    "model_bcn = LinearRegression()\n",
    "model_bcn.fit(X_bcn_train, y_bcn_train)\n",
    "\n",
    "# Fit the linear regression model for Madrid\n",
    "model_mad = LinearRegression()\n",
    "model_mad.fit(X_mad_train, y_mad_train)\n",
    "\n",
    "# Predictions\n",
    "y_bcn_pred = model_bcn.predict(X_bcn_test)\n",
    "y_mad_pred = model_mad.predict(X_mad_test)\n",
    "\n",
    "# Evaluate the model\n",
    "mse_bcn = mean_squared_error(y_bcn_test, y_bcn_pred)\n",
    "mse_mad = mean_squared_error(y_mad_test, y_mad_pred)\n",
    "\n",
    "print(f'MSE Barcelona: {mse_bcn}')\n",
    "print(f'MSE Madrid: {mse_mad}')"
   ]
  },
  {
   "cell_type": "code",
   "execution_count": 8,
   "metadata": {},
   "outputs": [
    {
     "name": "stdout",
     "output_type": "stream",
     "text": [
      "R^2 for Barcelona model: 0.24201038930024665\n",
      "R^2 for Madrid model: 0.25734659653293146\n"
     ]
    }
   ],
   "source": [
    "from sklearn.metrics import r2_score\n",
    "\n",
    "# Calculate R^2 for the Barcelona model\n",
    "r2_bcn = r2_score(y_bcn_test, y_bcn_pred)\n",
    "print(f'R^2 for Barcelona model: {r2_bcn}')\n",
    "\n",
    "# Calculate R^2 for the Madrid model\n",
    "r2_mad = r2_score(y_mad_test, y_mad_pred)\n",
    "print(f'R^2 for Madrid model: {r2_mad}')\n",
    "\n"
   ]
  },
  {
   "cell_type": "code",
   "execution_count": 9,
   "metadata": {},
   "outputs": [
    {
     "name": "stdout",
     "output_type": "stream",
     "text": [
      "Barcelona Model R^2 (Training): 0.2271760435415715\n",
      "Barcelona Model R^2 (Testing): 0.24201038930024665\n",
      "Madrid Model R^2 (Training): 0.26803739599890863\n",
      "Madrid Model R^2 (Testing): 0.25734659653293146\n",
      "Barcelona Model MSE (Testing): 0.8051334764651235\n",
      "Madrid Model MSE (Testing): 0.7359847049981425\n"
     ]
    }
   ],
   "source": [
    "from sklearn.metrics import r2_score, mean_squared_error\n",
    "from sklearn.linear_model import LinearRegression\n",
    "from sklearn.model_selection import train_test_split\n",
    "\n",
    "# Assuming you have already split your data into training and testing sets:\n",
    "# X_bcn_train, X_bcn_test, y_bcn_train, y_bcn_test\n",
    "# X_mad_train, X_mad_test, y_mad_train, y_mad_test\n",
    "\n",
    "# Fit the linear regression model for Barcelona\n",
    "model_bcn = LinearRegression()\n",
    "model_bcn.fit(X_bcn_train, y_bcn_train)\n",
    "\n",
    "# Fit the linear regression model for Madrid\n",
    "model_mad = LinearRegression()\n",
    "model_mad.fit(X_mad_train, y_mad_train)\n",
    "\n",
    "# Predictions\n",
    "y_bcn_train_pred = model_bcn.predict(X_bcn_train)\n",
    "y_bcn_test_pred = model_bcn.predict(X_bcn_test)\n",
    "y_mad_train_pred = model_mad.predict(X_mad_train)\n",
    "y_mad_test_pred = model_mad.predict(X_mad_test)\n",
    "\n",
    "# Calculate R^2 for training and testing data\n",
    "r2_bcn_train = r2_score(y_bcn_train, y_bcn_train_pred)\n",
    "r2_bcn_test = r2_score(y_bcn_test, y_bcn_test_pred)\n",
    "r2_mad_train = r2_score(y_mad_train, y_mad_train_pred)\n",
    "r2_mad_test = r2_score(y_mad_test, y_mad_test_pred)\n",
    "\n",
    "# Calculate MSE for testing data\n",
    "mse_bcn = mean_squared_error(y_bcn_test, y_bcn_test_pred)\n",
    "mse_mad = mean_squared_error(y_mad_test, y_mad_test_pred)\n",
    "\n",
    "# Print results\n",
    "print(f'Barcelona Model R^2 (Training): {r2_bcn_train}')\n",
    "print(f'Barcelona Model R^2 (Testing): {r2_bcn_test}')\n",
    "print(f'Madrid Model R^2 (Training): {r2_mad_train}')\n",
    "print(f'Madrid Model R^2 (Testing): {r2_mad_test}')\n",
    "\n",
    "print(f'Barcelona Model MSE (Testing): {mse_bcn}')\n",
    "print(f'Madrid Model MSE (Testing): {mse_mad}')\n"
   ]
  },
  {
   "cell_type": "code",
   "execution_count": 10,
   "metadata": {},
   "outputs": [
    {
     "name": "stdout",
     "output_type": "stream",
     "text": [
      "Barcelona Model Coefficients:\n",
      "distance_from_city_center: -0.17\n",
      "host_is_superhost: -0.00\n",
      "kitchen: -0.22\n",
      "patio or balcony: -0.02\n",
      "elevator: 0.20\n",
      "air conditioning: 0.21\n",
      "room_type_encoded: 0.27\n",
      "bedrooms_encoded: 0.49\n",
      "number_of_reviews: 0.01\n",
      "review_scores_rating: 0.01\n",
      "cluster: -0.00\n",
      "Intercept: -0.66\n",
      "\n",
      "Madrid Model Coefficients:\n",
      "distance_from_city_center: -0.17\n",
      "host_is_superhost: 0.06\n",
      "kitchen: -0.23\n",
      "patio or balcony: 0.13\n",
      "elevator: 0.17\n",
      "air conditioning: 0.19\n",
      "room_type_encoded: 0.39\n",
      "bedrooms_encoded: 0.69\n",
      "number_of_reviews: -0.08\n",
      "review_scores_rating: -0.03\n",
      "cluster: -0.00\n",
      "Intercept: -0.85\n"
     ]
    }
   ],
   "source": [
    "# Barcelona Coefficients\n",
    "coef_bcn = model_bcn.coef_\n",
    "intercept_bcn = model_bcn.intercept_\n",
    "\n",
    "print(\"Barcelona Model Coefficients:\")\n",
    "for feature, coef in zip(X_bcn.columns, coef_bcn):\n",
    "    print(f\"{feature}: {coef:.2f}\")\n",
    "print(f\"Intercept: {intercept_bcn:.2f}\")\n",
    "\n",
    "# Madrid Coefficients\n",
    "coef_mad = model_mad.coef_\n",
    "intercept_mad = model_mad.intercept_\n",
    "\n",
    "print(\"\\nMadrid Model Coefficients:\")\n",
    "for feature, coef in zip(X_mad.columns, coef_mad):\n",
    "    print(f\"{feature}: {coef:.2f}\")\n",
    "print(f\"Intercept: {intercept_mad:.2f}\")"
   ]
  }
 ],
 "metadata": {
  "kernelspec": {
   "display_name": "Python 3",
   "language": "python",
   "name": "python3"
  },
  "language_info": {
   "codemirror_mode": {
    "name": "ipython",
    "version": 3
   },
   "file_extension": ".py",
   "mimetype": "text/x-python",
   "name": "python",
   "nbconvert_exporter": "python",
   "pygments_lexer": "ipython3",
   "version": "3.11.3"
  }
 },
 "nbformat": 4,
 "nbformat_minor": 2
}
