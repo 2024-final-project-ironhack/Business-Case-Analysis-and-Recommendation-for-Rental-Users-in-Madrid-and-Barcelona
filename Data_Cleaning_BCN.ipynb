{
 "cells": [
  {
   "cell_type": "code",
   "execution_count": 27,
   "metadata": {},
   "outputs": [
    {
     "name": "stderr",
     "output_type": "stream",
     "text": [
      "24/08/14 13:15:55 WARN Utils: Service 'SparkUI' could not bind on port 4040. Attempting port 4041.\n"
     ]
    }
   ],
   "source": [
    "from pyspark.sql import SparkSession\n",
    "import pandas as pd\n",
    "\n",
    "# Initialize a Spark session\n",
    "spark = SparkSession.builder.appName(\"AirbnbPriceFilling\").getOrCreate()\n",
    "\n",
    "# Cargar dataset de Madrid\n",
    "# Load your datasets into Spark DataFrames\n",
    "orig_bcn = spark.read.csv('datasets/datasets_originales/listings-detailed-bcn-original.csv', header=True, inferSchema=True, multiLine=True, sep=',', quote='\"', escape='\\\\')\n",
    "df_bcn = spark.read.csv('datasets/listings_prepared_bcn.csv', header=True, inferSchema=True)"
   ]
  },
  {
   "cell_type": "code",
   "execution_count": 28,
   "metadata": {},
   "outputs": [
    {
     "name": "stdout",
     "output_type": "stream",
     "text": [
      "+------+--------------------+--------------------+-------+--------------+------------------------------+-----------------+--------------------+----------------------------+-----------------+-----------------+---------------+--------+-------+-------+----------------+--------+----------------+---------+----------+------------------+-----------------+--------------------+\n",
      "|    id|         listing_url|                name|host_id|     host_name|calculated_host_listings_count|host_is_superhost|             license|neighbourhood_group_cleansed|         latitude|        longitude|      room_type|bedrooms|  price|kitchen|patio or balcony|elevator|air conditioning|long_term|short_term|possible_long_term|number_of_reviews|review_scores_rating|\n",
      "+------+--------------------+--------------------+-------+--------------+------------------------------+-----------------+--------------------+----------------------------+-----------------+-----------------+---------------+--------+-------+-------+----------------+--------+----------------+---------+----------+------------------+-----------------+--------------------+\n",
      "|269467|https://www.airbn...|Sunny and quiet L...|1411775|      Jeremies|                             3|                f|         HUTB-001129|                    Eixample|         41.40181|           2.1761|Entire home/apt|     1.0|$176.00|      1|               1|       0|               1|        0|         0|                 1|               90|                4.74|\n",
      "|270197|https://www.airbn...|*monthly stays* 4...|1414702|        Ferran|                            27|                f|N/A SOLO ESTANCIA...|                Ciutat Vella|         41.37936|          2.17376|Entire home/apt|     4.0| $74.00|      1|               0|       0|               0|        1|         0|                 1|                2|                 4.0|\n",
      "| 18674|https://www.airbn...|Huge flat for 8 p...|  71615| Mireia  Maria|                            27|                f|         HUTB-002062|                    Eixample|         41.40556|          2.17262|Entire home/apt|     3.0|$257.00|      1|               1|       1|               0|        0|         0|                 1|               41|                4.35|\n",
      "|272282|https://www.airbn...|CHARMING, VERY SP...|1425070|           Mar|                             1|                t|          HUTB003208|                    Eixample|         41.38347|          2.15802|Entire home/apt|     3.0|   NULL|      1|               1|       1|               1|        0|         0|                 1|              414|                4.92|\n",
      "| 23197|https://www.airbn...|Forum CCIB DeLuxe...|  90417|Etain (Marnie)|                             1|                f|          HUTB005057|                  Sant Martí|41.41243172529066|2.219750335269476|Entire home/apt|     3.0|$249.00|      1|               1|       1|               0|        0|         0|                 1|               78|                4.79|\n",
      "+------+--------------------+--------------------+-------+--------------+------------------------------+-----------------+--------------------+----------------------------+-----------------+-----------------+---------------+--------+-------+-------+----------------+--------+----------------+---------+----------+------------------+-----------------+--------------------+\n",
      "only showing top 5 rows\n",
      "\n"
     ]
    }
   ],
   "source": [
    "df_bcn.show(5)"
   ]
  },
  {
   "cell_type": "code",
   "execution_count": 29,
   "metadata": {},
   "outputs": [
    {
     "name": "stdout",
     "output_type": "stream",
     "text": [
      "root\n",
      " |-- id: string (nullable = true)\n",
      " |-- listing_url: string (nullable = true)\n",
      " |-- scrape_id: string (nullable = true)\n",
      " |-- last_scraped: string (nullable = true)\n",
      " |-- source: string (nullable = true)\n",
      " |-- name: string (nullable = true)\n",
      " |-- description: string (nullable = true)\n",
      " |-- neighborhood_overview: string (nullable = true)\n",
      " |-- picture_url: string (nullable = true)\n",
      " |-- host_id: string (nullable = true)\n",
      " |-- host_url: string (nullable = true)\n",
      " |-- host_name: string (nullable = true)\n",
      " |-- host_since: string (nullable = true)\n",
      " |-- host_location: string (nullable = true)\n",
      " |-- host_about: string (nullable = true)\n",
      " |-- host_response_time: string (nullable = true)\n",
      " |-- host_response_rate: string (nullable = true)\n",
      " |-- host_acceptance_rate: string (nullable = true)\n",
      " |-- host_is_superhost: string (nullable = true)\n",
      " |-- host_thumbnail_url: string (nullable = true)\n",
      " |-- host_picture_url: string (nullable = true)\n",
      " |-- host_neighbourhood: string (nullable = true)\n",
      " |-- host_listings_count: string (nullable = true)\n",
      " |-- host_total_listings_count: string (nullable = true)\n",
      " |-- host_verifications: string (nullable = true)\n",
      " |-- host_has_profile_pic: string (nullable = true)\n",
      " |-- host_identity_verified: string (nullable = true)\n",
      " |-- neighbourhood: string (nullable = true)\n",
      " |-- neighbourhood_cleansed: string (nullable = true)\n",
      " |-- neighbourhood_group_cleansed: string (nullable = true)\n",
      " |-- latitude: string (nullable = true)\n",
      " |-- longitude: string (nullable = true)\n",
      " |-- property_type: string (nullable = true)\n",
      " |-- room_type: string (nullable = true)\n",
      " |-- accommodates: string (nullable = true)\n",
      " |-- bathrooms: string (nullable = true)\n",
      " |-- bathrooms_text: string (nullable = true)\n",
      " |-- bedrooms: string (nullable = true)\n",
      " |-- beds: string (nullable = true)\n",
      " |-- amenities: string (nullable = true)\n",
      " |-- price: string (nullable = true)\n",
      " |-- minimum_nights: string (nullable = true)\n",
      " |-- maximum_nights: string (nullable = true)\n",
      " |-- minimum_minimum_nights: string (nullable = true)\n",
      " |-- maximum_minimum_nights: string (nullable = true)\n",
      " |-- minimum_maximum_nights: string (nullable = true)\n",
      " |-- maximum_maximum_nights: string (nullable = true)\n",
      " |-- minimum_nights_avg_ntm: string (nullable = true)\n",
      " |-- maximum_nights_avg_ntm: string (nullable = true)\n",
      " |-- calendar_updated: string (nullable = true)\n",
      " |-- has_availability: string (nullable = true)\n",
      " |-- availability_30: string (nullable = true)\n",
      " |-- availability_60: string (nullable = true)\n",
      " |-- availability_90: string (nullable = true)\n",
      " |-- availability_365: string (nullable = true)\n",
      " |-- calendar_last_scraped: string (nullable = true)\n",
      " |-- number_of_reviews: string (nullable = true)\n",
      " |-- number_of_reviews_ltm: string (nullable = true)\n",
      " |-- number_of_reviews_l30d: string (nullable = true)\n",
      " |-- first_review: string (nullable = true)\n",
      " |-- last_review: string (nullable = true)\n",
      " |-- review_scores_rating: string (nullable = true)\n",
      " |-- review_scores_accuracy: string (nullable = true)\n",
      " |-- review_scores_cleanliness: string (nullable = true)\n",
      " |-- review_scores_checkin: string (nullable = true)\n",
      " |-- review_scores_communication: string (nullable = true)\n",
      " |-- review_scores_location: string (nullable = true)\n",
      " |-- review_scores_value: string (nullable = true)\n",
      " |-- license: string (nullable = true)\n",
      " |-- instant_bookable: string (nullable = true)\n",
      " |-- calculated_host_listings_count: string (nullable = true)\n",
      " |-- calculated_host_listings_count_entire_homes: string (nullable = true)\n",
      " |-- calculated_host_listings_count_private_rooms: string (nullable = true)\n",
      " |-- calculated_host_listings_count_shared_rooms: string (nullable = true)\n",
      " |-- reviews_per_month: string (nullable = true)\n",
      "\n",
      "+------+--------------------+--------------+------------+---------------+--------------------+--------------------+---------------------+--------------------+--------------------+--------------------+--------------+--------------------+----------------+--------------------+------------------+--------------------+--------------------+-----------------+--------------------+--------------------+--------------------+--------------------+-------------------------+------------------+--------------------+----------------------+--------------------+----------------------+----------------------------+--------------------+-----------------+------------------+---------------+------------------+---------------+--------------+--------+-------+--------------------+--------------------+--------------------+--------------------+----------------------+----------------------+----------------------+----------------------+----------------------+----------------------+--------------------+--------------------+--------------------+--------------------+--------------------+--------------------+---------------------+--------------------+---------------------+----------------------+-----------------+-----------------+--------------------+----------------------+-------------------------+---------------------+---------------------------+----------------------+--------------------+--------------------+--------------------+------------------------------+-------------------------------------------+--------------------------------------------+-------------------------------------------+-----------------+\n",
      "|    id|         listing_url|     scrape_id|last_scraped|         source|                name|         description|neighborhood_overview|         picture_url|             host_id|            host_url|     host_name|          host_since|   host_location|          host_about|host_response_time|  host_response_rate|host_acceptance_rate|host_is_superhost|  host_thumbnail_url|    host_picture_url|  host_neighbourhood| host_listings_count|host_total_listings_count|host_verifications|host_has_profile_pic|host_identity_verified|       neighbourhood|neighbourhood_cleansed|neighbourhood_group_cleansed|            latitude|        longitude|     property_type|      room_type|      accommodates|      bathrooms|bathrooms_text|bedrooms|   beds|           amenities|               price|      minimum_nights|      maximum_nights|minimum_minimum_nights|maximum_minimum_nights|minimum_maximum_nights|maximum_maximum_nights|minimum_nights_avg_ntm|maximum_nights_avg_ntm|    calendar_updated|    has_availability|     availability_30|     availability_60|     availability_90|    availability_365|calendar_last_scraped|   number_of_reviews|number_of_reviews_ltm|number_of_reviews_l30d|     first_review|      last_review|review_scores_rating|review_scores_accuracy|review_scores_cleanliness|review_scores_checkin|review_scores_communication|review_scores_location| review_scores_value|             license|    instant_bookable|calculated_host_listings_count|calculated_host_listings_count_entire_homes|calculated_host_listings_count_private_rooms|calculated_host_listings_count_shared_rooms|reviews_per_month|\n",
      "+------+--------------------+--------------+------------+---------------+--------------------+--------------------+---------------------+--------------------+--------------------+--------------------+--------------+--------------------+----------------+--------------------+------------------+--------------------+--------------------+-----------------+--------------------+--------------------+--------------------+--------------------+-------------------------+------------------+--------------------+----------------------+--------------------+----------------------+----------------------------+--------------------+-----------------+------------------+---------------+------------------+---------------+--------------+--------+-------+--------------------+--------------------+--------------------+--------------------+----------------------+----------------------+----------------------+----------------------+----------------------+----------------------+--------------------+--------------------+--------------------+--------------------+--------------------+--------------------+---------------------+--------------------+---------------------+----------------------+-----------------+-----------------+--------------------+----------------------+-------------------------+---------------------+---------------------------+----------------------+--------------------+--------------------+--------------------+------------------------------+-------------------------------------------+--------------------------------------------+-------------------------------------------+-----------------+\n",
      "|269467|https://www.airbn...|20240615011618|  2024-06-15|    city scrape|Sunny and quiet L...|The apartment is ...|                 NULL|https://a0.muscac...|             1411775|https://www.airbn...|      Jeremies|          2011-11-16|Barcelona, Spain|We are Ok Apartme...|    within an hour|                100%|                 88%|                f|https://a0.muscac...|https://a0.muscac...|  La Sagrada Família|                   5|                        7|['email', 'phone']|                   t|                     t|                NULL|    la Sagrada Família|                    Eixample|            41.40181|           2.1761|       Entire loft|Entire home/apt|                 2|            1.0|        1 bath|       1|      1|       \"[\"\"Kitchen\"\"| \"\"Patio or balco...| \"\"Host greets you\"\"|      \"\"Hair dryer\"\"|      \"\"Coffee maker\"\"|        \"\"Essentials\"\"|    \"\"Cooking basics\"\"|            \"\"Washer\"\"|      \"\"Refrigerator\"\"|           \"\"Hangers\"\"|      \"\"Dishwasher\"\"|            \"\"Iron\"\"| \"\"Dishes and sil...|            \"\"Wifi\"\"|         \"\"Heating\"\"|           \"\"Stove\"\"|  \"\"Central air co...| \"\"Dedicated work...|        \"\"Hot water\"\"|              \"\"Oven\"\"|    \"\"Microwave\"\"|         \"\"TV\"\"]\"|             $176.00|                     7|                      760|                    7|                          7|                   760|                 760|                 7.0|               760.0|                          NULL|                                          t|                                           0|                                          0|                0|\n",
      "|270197|https://www.airbn...|20240615011618|  2024-06-15|    city scrape|*monthly stays* 4...|Rented only for m...|                 NULL|https://a0.muscac...|             1414702|https://www.airbn...|        Ferran|          2011-11-16|Barcelona, Spain|Hello, everyone!\\...|    within an hour|                 98%|                 97%|                f|https://a0.muscac...|https://a0.muscac...|            El Raval|                  36|                      112|['email', 'phone']|                   t|                     t|                NULL|              el Raval|                Ciutat Vella|            41.37936|          2.17376|Entire rental unit|Entire home/apt|                 6|            1.5|     1.5 baths|       4|      5|       \"[\"\"Kitchen\"\"|          \"\"Washer\"\"| \"\"Smoking allowed\"\"|            \"\"Wifi\"\"|              \"\"TV\"\"]\"|                $74.00|                    32|                   760|                    32|                    32|                 760|                 760|                32.0|               760.0|                NULL|                   t|                    0|                   0|                    0|                     0|       2024-06-15|                2|                   0|                     0|               2016-07-03|           2016-08-13|                        4.0|                   5.0|                 4.5|                 5.0|                 5.0|                           5.0|                                        4.5|                        N/A SOLO ESTANCIA...|                                          f|               27|\n",
      "| 18674|https://www.airbn...|20240615011618|  2024-06-15|    city scrape|Huge flat for 8 p...|110m2 apartment t...| Apartment in Barc...|https://a0.muscac...|               71615|https://www.airbn...| Mireia  Maria|          2010-01-19|Barcelona, Spain|We are Mireia (47...|    within an hour|                 95%|                 85%|                f|https://a0.muscac...|https://a0.muscac...|  la Sagrada Família|                  41|                       45|['email', 'phone']|                   t|                     t|Barcelona, CT, Spain|    la Sagrada Família|                    Eixample|            41.40556|          2.17262|Entire rental unit|Entire home/apt|                 8|            2.0|       2 baths|       3|      6|\"[\"\"Pack \\u2019n ...| \"\"Free street pa...|         \"\"Kitchen\"\"| \"\"Host greets you\"\"|   \"\"City skyline v...|          \"\"Elevator\"\"|              \"\"Crib\"\"|        \"\"Hair dryer\"\"|   \"\"AC - split typ...|      \"\"Coffee maker\"\"|      \"\"Essentials\"\"| \"\"Private patio ...|    \"\"Refrigerator\"\"|         \"\"Shampoo\"\"| \"\"Paid parking o...|         \"\"Hangers\"\"|  \"\"Free washer \\u...|            \"\"Iron\"\"|  \"\"Dishes and sil...|        \"\"30 inch TV\"\"|         \"\"Wifi\"\"|      \"\"Heating\"\"|     \"\"Hot water\"\"]\"|               $257.00|                        1|                 1125|                          1|                     4|                1125|                1125|                 2.1|                        1125.0|                                       NULL|                                           t|                                         10|               36|\n",
      "|272282|https://www.airbn...|20240615011618|  2024-06-15|previous scrape|CHARMING, VERY SP...|Very spacious apa...| \"Eixample is famo...| two of Gaudí's c...| take in the glor...|https://a0.muscac...|       1425070|https://www.airbn...|             Mar|          2011-11-20|  Barcelona, Spain|I hope you feel a...|                 N/A|              N/A|                 98%|                   t|https://a0.muscac...|https://a0.muscac...|     La Nova Esquerra ...|                 2|                   2|    ['email', 'phone']|                   t|                     t|        Barcelona, Catalu...|l'Antiga Esquerra...|         Eixample|          41.38347|        2.15802|Entire rental unit|Entire home/apt|             8|    NULL|2 baths|                   3|                NULL|\"[\"\"Pack \\u2019n ...|         \"\"Kitchen\"\"|      \"\"Dining table\"\"|   \"\"Host greets you\"\"|          \"\"Elevator\"\"|   \"\"Room-darkening...|   \"\"Carbon monoxid...|              \"\"Crib\"\"| \"\"Extra pillows ...|      \"\"Hair dryer\"\"| \"\"Air conditioni...| \"\"Long term stay...| \"\"TV with standa...|      \"\"Essentials\"\"|  \"\"Hot water kett...| \"\"Private patio ...|   \"\"Cooking basics\"\"|            \"\"Washer\"\"|    \"\"Baby bath\"\"| \"\"Refrigerator\"\"|     \"\"Pocket wifi\"\"|           \"\"Shampoo\"\"|         \"\"Game console\"\"|          \"\"Bathtub\"\"|        \"\"Children\\u2019...|           \"\"Hangers\"\"| \"\"Children\\u2019...| \"\"Luggage dropof...|      \"\"Dishwasher\"\"|                      \"\"Iron\"\"|                        \"\"Fire extinguis...|                         \"\"Dishes and sil...|                            \"\"Ceiling fan\"\"|   \"\"Bed linens\"\"|\n",
      "| 23197|https://www.airbn...|20240615011618|  2024-06-15|    city scrape|Forum CCIB DeLuxe...|Beautiful spaciou...| Strategically loc...|https://a0.muscac...|               90417|https://www.airbn...|Etain (Marnie)|          2010-03-09|Catalonia, Spain|Hi there, \\nI'm m...|    within an hour|                100%|                 87%|                f|https://a0.muscac...|https://a0.muscac...|El Besòs i el Mar...|                   6|                       13|['email', 'phone']|                   t|                     t|Sant Adria de Bes...|  el Besòs i el Mar...|                  Sant Martí|   41.41243172529066|2.219750335269476|Entire rental unit|Entire home/apt|                 5|            2.0|       2 baths|       3|      4|\"[\"\"Free street p...| \"\"Neutral body s...| \"\"Cleaning produ...|         \"\"Kitchen\"\"|      \"\"Dining table\"\"|   \"\"Host greets you\"\"|   \"\"City skyline v...|          \"\"Elevator\"\"|   \"\"Room-darkening...|   \"\"43 inch HDTV w...|      \"\"Hair dryer\"\"| \"\"AC - split typ...| \"\"Books and read...| \"\"Long term stay...|      \"\"Essentials\"\"| \"\"Hot water kett...|  \"\"Private patio ...| \"\"Private backya...|   \"\"Cooking basics\"\"|        \"\"Waterfront\"\"| \"\"Wine glasses\"\"|      \"\"Toaster\"\"| \"\"Private entran...|      \"\"Refrigerator\"\"|              \"\"Freezer\"\"|  \"\"Drying rack fo...|                \"\"Hangers\"\"|   \"\"Free washer \\u...|      \"\"Dishwasher\"\"|            \"\"Iron\"\"| \"\"Fire extinguis...|           \"\"Dishes and sil...|                             \"\"Shower gel\"\"|                             \"\"Ceiling fan\"\"|                             \"\"Bed linens\"\"|         \"\"Wifi\"\"|\n",
      "+------+--------------------+--------------+------------+---------------+--------------------+--------------------+---------------------+--------------------+--------------------+--------------------+--------------+--------------------+----------------+--------------------+------------------+--------------------+--------------------+-----------------+--------------------+--------------------+--------------------+--------------------+-------------------------+------------------+--------------------+----------------------+--------------------+----------------------+----------------------------+--------------------+-----------------+------------------+---------------+------------------+---------------+--------------+--------+-------+--------------------+--------------------+--------------------+--------------------+----------------------+----------------------+----------------------+----------------------+----------------------+----------------------+--------------------+--------------------+--------------------+--------------------+--------------------+--------------------+---------------------+--------------------+---------------------+----------------------+-----------------+-----------------+--------------------+----------------------+-------------------------+---------------------+---------------------------+----------------------+--------------------+--------------------+--------------------+------------------------------+-------------------------------------------+--------------------------------------------+-------------------------------------------+-----------------+\n",
      "only showing top 5 rows\n",
      "\n"
     ]
    },
    {
     "name": "stderr",
     "output_type": "stream",
     "text": [
      "                                                                                \r"
     ]
    }
   ],
   "source": [
    "orig_bcn.printSchema()\n",
    "from pyspark.sql.functions import col, regexp_extract\n",
    "\n",
    "# Use a regular expression to filter out non-numeric 'id' values\n",
    "# Regular expression to match only numeric strings\n",
    "df_numeric_ids = orig_bcn.filter(regexp_extract(col(\"id\"), r'^\\d+$', 0) != '')\n",
    "\n",
    "# Show the result to verify the changes\n",
    "df_numeric_ids.show(5)\n",
    "\n",
    "# Optionally, save the cleaxned DataFrame to a new CSV file\n",
    "df_numeric_ids.write.csv(\"temp_ids_bcn.csv\", header=True)"
   ]
  },
  {
   "cell_type": "code",
   "execution_count": 30,
   "metadata": {},
   "outputs": [
    {
     "data": {
      "text/plain": [
       "18925"
      ]
     },
     "execution_count": 30,
     "metadata": {},
     "output_type": "execute_result"
    }
   ],
   "source": [
    "df_numeric_ids.count()"
   ]
  },
  {
   "cell_type": "code",
   "execution_count": 31,
   "metadata": {},
   "outputs": [
    {
     "name": "stdout",
     "output_type": "stream",
     "text": [
      "root\n",
      " |-- id: long (nullable = true)\n",
      " |-- listing_url: string (nullable = true)\n",
      " |-- name: string (nullable = true)\n",
      " |-- host_id: string (nullable = true)\n",
      " |-- host_name: string (nullable = true)\n",
      " |-- calculated_host_listings_count: string (nullable = true)\n",
      " |-- host_is_superhost: string (nullable = true)\n",
      " |-- license: string (nullable = true)\n",
      " |-- neighbourhood_group_cleansed: string (nullable = true)\n",
      " |-- latitude: string (nullable = true)\n",
      " |-- longitude: double (nullable = true)\n",
      " |-- room_type: string (nullable = true)\n",
      " |-- bedrooms: string (nullable = true)\n",
      " |-- price: string (nullable = true)\n",
      " |-- kitchen: string (nullable = true)\n",
      " |-- patio or balcony: integer (nullable = true)\n",
      " |-- elevator: integer (nullable = true)\n",
      " |-- air conditioning: integer (nullable = true)\n",
      " |-- long_term: integer (nullable = true)\n",
      " |-- short_term: integer (nullable = true)\n",
      " |-- possible_long_term: integer (nullable = true)\n",
      " |-- number_of_reviews: integer (nullable = true)\n",
      " |-- review_scores_rating: double (nullable = true)\n",
      "\n",
      "Number of rows: 18925, Number of columns: 23\n"
     ]
    }
   ],
   "source": [
    "# Display the schema of the DataFrame\n",
    "df_bcn.printSchema()\n",
    "\n",
    "# Get the number of rows and columns\n",
    "print(f\"Number of rows: {df_bcn.count()}, Number of columns: {len(df_bcn.columns)}\")"
   ]
  },
  {
   "cell_type": "code",
   "execution_count": 32,
   "metadata": {},
   "outputs": [
    {
     "name": "stderr",
     "output_type": "stream",
     "text": [
      "<>:4: SyntaxWarning: invalid escape sequence '\\$'\n",
      "<>:4: SyntaxWarning: invalid escape sequence '\\$'\n",
      "/var/folders/t3/2pbngt7x2rxdwml4ql51pbt80000gn/T/ipykernel_96916/2430768631.py:4: SyntaxWarning: invalid escape sequence '\\$'\n",
      "  df_bcn = df_bcn.withColumn(\"price\", regexp_replace(col(\"price\"), \"[\\$,]\", \"\").cast(\"float\"))\n"
     ]
    }
   ],
   "source": [
    "# Remove the dollar sign and commas, and convert the column to a numerical format:\n",
    "from pyspark.sql.functions import regexp_replace, col\n",
    "\n",
    "df_bcn = df_bcn.withColumn(\"price\", regexp_replace(col(\"price\"), \"[\\$,]\", \"\").cast(\"float\"))"
   ]
  },
  {
   "cell_type": "code",
   "execution_count": 33,
   "metadata": {},
   "outputs": [
    {
     "name": "stdout",
     "output_type": "stream",
     "text": [
      "+---+-----------+----+-------+---------+------------------------------+-----------------+-------+----------------------------+--------+---------+---------+--------+-----+-------+----------------+--------+----------------+---------+----------+------------------+-----------------+--------------------+\n",
      "| id|listing_url|name|host_id|host_name|calculated_host_listings_count|host_is_superhost|license|neighbourhood_group_cleansed|latitude|longitude|room_type|bedrooms|price|kitchen|patio or balcony|elevator|air conditioning|long_term|short_term|possible_long_term|number_of_reviews|review_scores_rating|\n",
      "+---+-----------+----+-------+---------+------------------------------+-----------------+-------+----------------------------+--------+---------+---------+--------+-----+-------+----------------+--------+----------------+---------+----------+------------------+-----------------+--------------------+\n",
      "|  0|          0|   0|      0|        2|                             0|              124|   6137|                           1|       0|        0|        0|    1882| 3736|      0|               0|       0|               0|        0|         0|                 0|                0|                4784|\n",
      "+---+-----------+----+-------+---------+------------------------------+-----------------+-------+----------------------------+--------+---------+---------+--------+-----+-------+----------------+--------+----------------+---------+----------+------------------+-----------------+--------------------+\n",
      "\n"
     ]
    }
   ],
   "source": [
    "#  Identify Missing Values\n",
    "from pyspark.sql.functions import col, sum as _sum\n",
    "\n",
    "# Count missing values for each column\n",
    "df_bcn.select([_sum(col(c).isNull().cast(\"int\")).alias(c) for c in df_bcn.columns]).show()\n",
    "\n",
    "# The dataset has several columns with missing values:\n",
    "\n",
    "# host_name: Missing in 2 entries > fill in with 'No Disponible'\n",
    "# host_is_superhost: Missing in 124 entries. > Fill in with f;\n",
    "# license: Missing in 6137 entries (almost all of them). This column might be dropped unless it's crucial for your analysis.\n",
    "# neighbourhood_group_cleansed: 1 missing > manual review\n",
    "# bedrooms: Missing in 1882 entries. > check for more than one bedroom > mark 1, if less than 1 > mark 0\n",
    "# price: Missing in 3736 entries. Drop or fill in depending on the cases.\n",
    "# review_scores_rating: Missing in 5,856 entries. > fill in with 0"
   ]
  },
  {
   "cell_type": "code",
   "execution_count": 34,
   "metadata": {},
   "outputs": [],
   "source": [
    "# Fill host_name with 'No Disponible'\n",
    "df_bcn = df_bcn.na.fill({\"host_name\": \"No Disponible\"})"
   ]
  },
  {
   "cell_type": "code",
   "execution_count": 35,
   "metadata": {},
   "outputs": [],
   "source": [
    "# Fill host_is_superhost with 'f'\n",
    "df_bcn = df_bcn.na.fill({\"host_is_superhost\": \"f\"})"
   ]
  },
  {
   "cell_type": "code",
   "execution_count": 36,
   "metadata": {},
   "outputs": [],
   "source": [
    "# Drop the license Column\n",
    "df_bcn = df_bcn.drop(\"license\")"
   ]
  },
  {
   "cell_type": "code",
   "execution_count": 37,
   "metadata": {},
   "outputs": [
    {
     "name": "stdout",
     "output_type": "stream",
     "text": [
      "+--------+--------------------+----------------+--------------------+---------+------------------------------+-----------------+----------------------------+-------------------+---------+---------+---------------+-----+-------+----------------+--------+----------------+---------+----------+------------------+-----------------+--------------------+\n",
      "|      id|         listing_url|            name|             host_id|host_name|calculated_host_listings_count|host_is_superhost|neighbourhood_group_cleansed|           latitude|longitude|room_type|       bedrooms|price|kitchen|patio or balcony|elevator|air conditioning|long_term|short_term|possible_long_term|number_of_reviews|review_scores_rating|\n",
      "+--------+--------------------+----------------+--------------------+---------+------------------------------+-----------------+----------------------------+-------------------+---------+---------+---------------+-----+-------+----------------+--------+----------------+---------+----------+------------------+-----------------+--------------------+\n",
      "|27217399|https://www.airbn...|\"\"\"CanPirotBcn\"\"| Cute  rural cott...|  7648663|                Emma & Nicolás|                1|                        NULL|Sarrià-Sant Gervasi|41.425678| 2.097075|Entire home/apt|  2.0|$125.00|               1|       1|               0|        0|         0|                 0|                1|                15.0|\n",
      "+--------+--------------------+----------------+--------------------+---------+------------------------------+-----------------+----------------------------+-------------------+---------+---------+---------------+-----+-------+----------------+--------+----------------+---------+----------+------------------+-----------------+--------------------+\n",
      "\n"
     ]
    }
   ],
   "source": [
    "# Check by the URL link to fill in the neighbourhood for missing value\n",
    "\n",
    "# Filter the DataFrame to find the row with the missing value in 'neighbourhood_group_cleansed'\n",
    "missing_neighbourhood = df_bcn.filter(col(\"neighbourhood_group_cleansed\").isNull())\n",
    "\n",
    "# Show the row(s) with the missing value\n",
    "missing_neighbourhood.show()"
   ]
  },
  {
   "cell_type": "code",
   "execution_count": 38,
   "metadata": {},
   "outputs": [],
   "source": [
    "# Drop the id = 27217399 as it only provides long term rental and it not available for the next 6 months\n",
    "df_bcn = df_bcn.na.drop(subset=['neighbourhood_group_cleansed'])"
   ]
  },
  {
   "cell_type": "code",
   "execution_count": 39,
   "metadata": {},
   "outputs": [
    {
     "name": "stdout",
     "output_type": "stream",
     "text": [
      "+---------------+-----------------+--------+----------------+\n",
      "|      room_type|room_type_encoded|bedrooms|bedrooms_encoded|\n",
      "+---------------+-----------------+--------+----------------+\n",
      "|Entire home/apt|                2|     1.0|               0|\n",
      "|Entire home/apt|                2|     4.0|               1|\n",
      "|Entire home/apt|                2|     3.0|               1|\n",
      "|Entire home/apt|                2|     3.0|               1|\n",
      "|Entire home/apt|                2|     3.0|               1|\n",
      "|Entire home/apt|                2|     2.0|               1|\n",
      "|Entire home/apt|                2|     1.0|               0|\n",
      "|Entire home/apt|                2|     1.0|               0|\n",
      "|Entire home/apt|                2|     2.0|               1|\n",
      "|Entire home/apt|                2|     2.0|               1|\n",
      "+---------------+-----------------+--------+----------------+\n",
      "only showing top 10 rows\n",
      "\n"
     ]
    }
   ],
   "source": [
    "# To fill in \"bedrooms\" columns and also encode 'bedroom' and 'room type' with the following thoery\n",
    "\n",
    "# if the type is \"shared bedroom\" or null, we encode it as 0\n",
    "# if the typr is \"private room\" or \"hotel room\", we encode it as 1\n",
    "# and if the type if \"entire home/apt\", we encode it with 2\n",
    "from pyspark.sql.functions import when, col\n",
    "\n",
    "# Apply the Encoding Based on room_type\n",
    "# Apply the encoding to the 'room_type' column\n",
    "df_bcn = df_bcn.withColumn(\"room_type_encoded\", \n",
    "                   when(col(\"room_type\").isNull(), 0)\n",
    "                   .when(col(\"room_type\") == \"Shared room\", 0)\n",
    "                   .when(col(\"room_type\") == \"Private room\", 1)\n",
    "                   .when(col(\"room_type\") == \"Hotel room\", 1)\n",
    "                   .when(col(\"room_type\") == \"Entire home/apt\", 2)\n",
    "                   .otherwise(0))  # This covers any unexpected or additional room types\n",
    "\n",
    "# Now combine with the 'bedrooms' logic\n",
    "df_bcn = df_bcn.withColumn(\"bedrooms_encoded\", \n",
    "                   when(col(\"bedrooms\") > 1, 1).otherwise(0))\n",
    "\n",
    "# Show the result to verify the changes\n",
    "df_bcn.select(\"room_type\", \"room_type_encoded\", \"bedrooms\", \"bedrooms_encoded\").show(10)\n",
    "\n",
    "# Then remove 'room_type' and 'bedrooms'\n",
    "df_bcn = df_bcn.drop(\"room_type\")\n",
    "df_bcn = df_bcn.drop(\"bedrooms\")\n"
   ]
  },
  {
   "cell_type": "code",
   "execution_count": 40,
   "metadata": {},
   "outputs": [],
   "source": [
    "# Fill review_scores_rating with 0\n",
    "\n",
    "df_bcn =df_bcn.na.fill({\"review_scores_rating\": 0})"
   ]
  },
  {
   "cell_type": "code",
   "execution_count": 41,
   "metadata": {},
   "outputs": [],
   "source": [
    "# Fill in \"price\" column with the following theory\n",
    "\n",
    "# 1. Mark the rows where the \"availaility_30\" and \"availableity_60\" are both '0' in the orig_bcn dataframe\n",
    "# 2. Found the correspondent rows by using its \"id\" in df_bcn and drop the entrie rows\n",
    "# 3. Fill in the rest of the null values with the everage price in the same neighbourhood"
   ]
  },
  {
   "cell_type": "code",
   "execution_count": 42,
   "metadata": {},
   "outputs": [
    {
     "data": {
      "text/plain": [
       "26"
      ]
     },
     "execution_count": 42,
     "metadata": {},
     "output_type": "execute_result"
    }
   ],
   "source": [
    "# Load the orig_bcn dataframe\n",
    "zero_availability_ids = df_numeric_ids.filter((col(\"availability_30\") == 0) & (col(\"availability_60\") == 0)).select(\"id\")\n",
    "zero_availability_ids.count()"
   ]
  },
  {
   "cell_type": "code",
   "execution_count": 43,
   "metadata": {},
   "outputs": [],
   "source": [
    "# # Convert zero_availability_ids to a list\n",
    "zero_availability_ids_list = [row.id for row in zero_availability_ids.distinct().collect()]\n",
    "\n",
    "# # Filter df_bcn to remove rows where id is in zero_availability_ids_list\n",
    "df_bcn_filtered = df_bcn.filter(~col(\"id\").isin(zero_availability_ids_list))"
   ]
  },
  {
   "cell_type": "code",
   "execution_count": 44,
   "metadata": {},
   "outputs": [
    {
     "data": {
      "text/plain": [
       "18898"
      ]
     },
     "execution_count": 44,
     "metadata": {},
     "output_type": "execute_result"
    }
   ],
   "source": [
    "df_bcn_filtered.count()"
   ]
  },
  {
   "cell_type": "code",
   "execution_count": 45,
   "metadata": {},
   "outputs": [
    {
     "name": "stdout",
     "output_type": "stream",
     "text": [
      "+------+----------------------------+-----+\n",
      "|    id|neighbourhood_group_cleansed|price|\n",
      "+------+----------------------------+-----+\n",
      "|269467|                    Eixample|176.0|\n",
      "|270197|                Ciutat Vella| 74.0|\n",
      "| 18674|                    Eixample|257.0|\n",
      "|272282|                    Eixample|239.0|\n",
      "| 23197|                  Sant Martí|249.0|\n",
      "| 32711|                      Gràcia|240.0|\n",
      "|273229|                    Eixample|126.0|\n",
      "| 34241|                Ciutat Vella|229.0|\n",
      "|273932|                    Eixample|281.0|\n",
      "|274221|                Ciutat Vella|393.0|\n",
      "+------+----------------------------+-----+\n",
      "only showing top 10 rows\n",
      "\n"
     ]
    }
   ],
   "source": [
    "from pyspark.sql import functions as F\n",
    "\n",
    "# # Calculate the average price per neighbourhood\n",
    "avg_price_neighbourhood = df_bcn_filtered.groupBy(\"neighbourhood_group_cleansed\").agg(F.round(F.mean(\"price\")).alias(\"avg_price\"))\n",
    "\n",
    "# Join the original DataFrame with the average prices DataFrame\n",
    "df_bcn_with_avg = df_bcn_filtered.join(avg_price_neighbourhood, on=\"neighbourhood_group_cleansed\", how=\"left\")\n",
    "\n",
    "# # Fill missing price values with the calculated average price\n",
    "df_bcn_final = df_bcn_with_avg.withColumn(\"price\", F.coalesce(col(\"price\"), col(\"avg_price\")))\n",
    "\n",
    "# # Drop the avg_price column as it's no longer needed\n",
    "df_bcn_final = df_bcn_final.drop(\"avg_price\")\n",
    "\n",
    "# # Show the result to verify the changes\n",
    "df_bcn_final.select(\"id\", \"neighbourhood_group_cleansed\", \"price\").show(10)"
   ]
  },
  {
   "cell_type": "code",
   "execution_count": 46,
   "metadata": {},
   "outputs": [
    {
     "data": {
      "text/plain": [
       "18898"
      ]
     },
     "execution_count": 46,
     "metadata": {},
     "output_type": "execute_result"
    }
   ],
   "source": [
    "df_bcn_final.count()"
   ]
  },
  {
   "cell_type": "code",
   "execution_count": 47,
   "metadata": {},
   "outputs": [
    {
     "name": "stdout",
     "output_type": "stream",
     "text": [
      "+----------------------------+---+-----------+----+-------+---------+------------------------------+-----------------+--------+---------+-----+-------+----------------+--------+----------------+---------+----------+------------------+-----------------+--------------------+-----------------+----------------+\n",
      "|neighbourhood_group_cleansed| id|listing_url|name|host_id|host_name|calculated_host_listings_count|host_is_superhost|latitude|longitude|price|kitchen|patio or balcony|elevator|air conditioning|long_term|short_term|possible_long_term|number_of_reviews|review_scores_rating|room_type_encoded|bedrooms_encoded|\n",
      "+----------------------------+---+-----------+----+-------+---------+------------------------------+-----------------+--------+---------+-----+-------+----------------+--------+----------------+---------+----------+------------------+-----------------+--------------------+-----------------+----------------+\n",
      "|                           0|  0|          0|   0|      0|        0|                             0|                0|       0|        0|    0|      0|               0|       0|               0|        0|         0|                 0|                0|                   0|                0|               0|\n",
      "+----------------------------+---+-----------+----+-------+---------+------------------------------+-----------------+--------+---------+-----+-------+----------------+--------+----------------+---------+----------+------------------+-----------------+--------------------+-----------------+----------------+\n",
      "\n"
     ]
    }
   ],
   "source": [
    "# Count missing values for each column\n",
    "df_bcn_final.select([_sum(col(c).isNull().cast(\"int\")).alias(c) for c in df_bcn_final.columns]).show()"
   ]
  },
  {
   "cell_type": "code",
   "execution_count": 48,
   "metadata": {},
   "outputs": [],
   "source": [
    "# Save the cleaned dinal DataFrame to a new CSV file\n",
    "df_bcn_final.write.csv(\"cleaned_listing_bcn.csv\", header=True)"
   ]
  },
  {
   "cell_type": "code",
   "execution_count": 49,
   "metadata": {},
   "outputs": [],
   "source": [
    "spark.stop()"
   ]
  },
  {
   "cell_type": "code",
   "execution_count": null,
   "metadata": {},
   "outputs": [],
   "source": []
  }
 ],
 "metadata": {
  "kernelspec": {
   "display_name": "Python 3",
   "language": "python",
   "name": "python3"
  },
  "language_info": {
   "codemirror_mode": {
    "name": "ipython",
    "version": 3
   },
   "file_extension": ".py",
   "mimetype": "text/x-python",
   "name": "python",
   "nbconvert_exporter": "python",
   "pygments_lexer": "ipython3",
   "version": "3.12.3"
  }
 },
 "nbformat": 4,
 "nbformat_minor": 2
}
