{
 "cells": [
  {
   "cell_type": "code",
   "execution_count": 8,
   "metadata": {},
   "outputs": [
    {
     "data": {
      "text/plain": [
       "(  neighbourhood_group_cleansed;id;listing_url;name;host_id;host_name;calculated_host_listings_count;host_is_superhost;latitude;longitude;price;kitchen;patio or balcony;elevator;air conditioning;long_term;short_term;possible_long_term;number_of_reviews;review_scores_rating;room_type_encoded;bedrooms_encoded\n",
       " 0  Eixample;269467;https://www.airbnb.com/rooms/2...                                                                                                                                                                                                                                                               \n",
       " 1  Ciutat Vella;270197;https://www.airbnb.com/roo...                                                                                                                                                                                                                                                               \n",
       " 2  Eixample;18674;https://www.airbnb.com/rooms/18...                                                                                                                                                                                                                                                               \n",
       " 3  Eixample;272282;https://www.airbnb.com/rooms/2...                                                                                                                                                                                                                                                               \n",
       " 4  Sant Martí;23197;https://www.airbnb.com/rooms/...                                                                                                                                                                                                                                                               ,\n",
       " Index(['neighbourhood_group_cleansed;id;listing_url;name;host_id;host_name;calculated_host_listings_count;host_is_superhost;latitude;longitude;price;kitchen;patio or balcony;elevator;air conditioning;long_term;short_term;possible_long_term;number_of_reviews;review_scores_rating;room_type_encoded;bedrooms_encoded'], dtype='object'))"
      ]
     },
     "execution_count": 8,
     "metadata": {},
     "output_type": "execute_result"
    }
   ],
   "source": [
    "import pandas as pd\n",
    "\n",
    "# Load the dataset\n",
    "file_path = 'datasets/Final_cleaned_dataset/bcn_final_cleaned_data_csv.csv'\n",
    "df_bcn = pd.read_csv(file_path)\n",
    "\n",
    "# Display the first few rows and the column names\n",
    "df_bcn.head(), df_bcn.columns\n"
   ]
  },
  {
   "cell_type": "code",
   "execution_count": 11,
   "metadata": {},
   "outputs": [
    {
     "data": {
      "text/plain": [
       "(  neighbourhood_group_cleansed;id;listing_url;name;host_id;host_name;calculated_host_listings_count;host_is_superhost;latitude;longitude;price;kitchen;patio or balcony;elevator;air conditioning;long_term;short_term;possible_long_term;number_of_reviews;review_scores_rating;room_type_encoded;bedrooms_encoded\n",
       " 0  Latina;892453;https://www.airbnb.com/rooms/892...                                                                                                                                                                                                                                                               \n",
       " 1  Centro;19307692;https://www.airbnb.com/rooms/1...                                                                                                                                                                                                                                                               \n",
       " 2  Chamberí;21941840;https://www.airbnb.com/rooms...                                                                                                                                                                                                                                                               \n",
       " 3  Salamanca;27281907;https://www.airbnb.com/room...                                                                                                                                                                                                                                                               \n",
       " 4  Salamanca;34698877;https://www.airbnb.com/room...                                                                                                                                                                                                                                                               ,\n",
       " Index(['neighbourhood_group_cleansed;id;listing_url;name;host_id;host_name;calculated_host_listings_count;host_is_superhost;latitude;longitude;price;kitchen;patio or balcony;elevator;air conditioning;long_term;short_term;possible_long_term;number_of_reviews;review_scores_rating;room_type_encoded;bedrooms_encoded'], dtype='object'))"
      ]
     },
     "execution_count": 11,
     "metadata": {},
     "output_type": "execute_result"
    }
   ],
   "source": [
    "file_path2 = 'datasets/Final_cleaned_dataset/mad_final_cleaned_data_csv.csv'\n",
    "df_mad = pd.read_csv(file_path2)\n",
    "\n",
    "# Display the first few rows and the column names\n",
    "df_mad.head(), df_mad.columns"
   ]
  },
  {
   "cell_type": "code",
   "execution_count": null,
   "metadata": {},
   "outputs": [],
   "source": []
  }
 ],
 "metadata": {
  "kernelspec": {
   "display_name": "Python 3",
   "language": "python",
   "name": "python3"
  },
  "language_info": {
   "codemirror_mode": {
    "name": "ipython",
    "version": 3
   },
   "file_extension": ".py",
   "mimetype": "text/x-python",
   "name": "python",
   "nbconvert_exporter": "python",
   "pygments_lexer": "ipython3",
   "version": "3.12.3"
  }
 },
 "nbformat": 4,
 "nbformat_minor": 2
}
