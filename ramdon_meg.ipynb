{
 "cells": [
  {
   "cell_type": "code",
   "execution_count": null,
   "metadata": {},
   "outputs": [],
   "source": [
    "import pandas as pd\n",
    "\n",
    "df = pd.read_csv('Datasets/Final_cleaned_dataset/part-00000-d38f1508-e7ff-486d-972c-feeebe182c7b-c000.csv', on_bad_lines='skip', sep=\";\")"
   ]
  },
  {
   "cell_type": "code",
   "execution_count": null,
   "metadata": {},
   "outputs": [],
   "source": [
    "df.head()"
   ]
  },
  {
   "cell_type": "code",
   "execution_count": null,
   "metadata": {},
   "outputs": [],
   "source": [
    "import pandas as pd\n",
    "import seaborn as sns\n",
    "import matplotlib.pyplot as plt\n",
    "\n",
    "# List of column names (adjust these according to your dataset)\n",
    "column_names = [\n",
    "    'neighbourhood_group_cleansed', 'id', 'listing_url', 'name', 'host_id', 'host_name',\n",
    "    'calculated_host_listings_count', 'host_is_superhost', 'latitude', 'longitude',\n",
    "    'price', 'kitchen', 'patio or balcony', 'elevator', 'air conditioning',\n",
    "    'long_term', 'short_term', 'possible_long_term', 'number_of_reviews', 'review_scores_rating'\n",
    "]\n",
    "\n",
    "# Load the dataset and assign column names\n",
    "df_bcn = pd.read_csv('Datasets/data_cleaning_temporary/listings_prepared_bcn.csv', header=None, names=column_names)\n",
    "\n",
    "# Create a heatmap to visualize missing values\n",
    "plt.figure(figsize=(10, 6))\n",
    "sns.heatmap(df_bcn.isnull(), cbar=False, cmap=\"viridis\", yticklabels=True)\n",
    "\n",
    "plt.title('Heatmap of Missing Values')\n",
    "plt.show()\n"
   ]
  }
 ],
 "metadata": {
  "kernelspec": {
   "display_name": "Python 3",
   "language": "python",
   "name": "python3"
  },
  "language_info": {
   "codemirror_mode": {
    "name": "ipython",
    "version": 3
   },
   "file_extension": ".py",
   "mimetype": "text/x-python",
   "name": "python",
   "nbconvert_exporter": "python",
   "pygments_lexer": "ipython3",
   "version": "3.12.3"
  }
 },
 "nbformat": 4,
 "nbformat_minor": 2
}
