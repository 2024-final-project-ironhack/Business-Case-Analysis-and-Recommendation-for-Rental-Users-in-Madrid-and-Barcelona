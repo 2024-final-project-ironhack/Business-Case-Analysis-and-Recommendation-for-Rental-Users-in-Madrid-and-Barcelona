{
 "cells": [
  {
   "cell_type": "code",
   "execution_count": 5,
   "metadata": {},
   "outputs": [],
   "source": [
    "import pandas as pd\n",
    "\n",
    "df = pd.read_csv('Datasets/Final_cleaned_dataset/mad_final_cleaned_data_csv.csv', on_bad_lines='skip', sep=\";\")"
   ]
  },
  {
   "cell_type": "code",
   "execution_count": 7,
   "metadata": {},
   "outputs": [
    {
     "name": "stdout",
     "output_type": "stream",
     "text": [
      "<class 'pandas.core.frame.DataFrame'>\n",
      "MultiIndex: 21971 entries, ('neighbourhood_group_cleansed', 'id', 'listing_url', 'name', 'host_id', 'host_name', 'calculated_host_listings_count', 'host_is_superhost', 'latitude', 'longitude', 'price', 'kitchen', 'patio or balcony', 'elevator', 'air conditioning', 'long_term', 'short_term', 'possible_long_term', 'number_of_reviews', 'review_scores_rating', 'room_type_encoded') to ('Centro', '655448045703760486', 'https://www.airbnb.com/rooms/655448045703760486', 'Precioso apartamento en el centro.', '394687867', 'Jorge', '66', 'f', '40.42035', '-3.71053', '131.0', '1', '0', '1', '1', '0', '0', '1', '46', '4.59', '2')\n",
      "Data columns (total 1 columns):\n",
      " #   Column                      Non-Null Count  Dtype \n",
      "---  ------                      --------------  ----- \n",
      " 0   mad_final_cleaned_data_csv  21971 non-null  object\n",
      "dtypes: object(1)\n",
      "memory usage: 4.6+ MB\n"
     ]
    }
   ],
   "source": [
    "df.info()"
   ]
  }
 ],
 "metadata": {
  "kernelspec": {
   "display_name": "Python 3",
   "language": "python",
   "name": "python3"
  },
  "language_info": {
   "codemirror_mode": {
    "name": "ipython",
    "version": 3
   },
   "file_extension": ".py",
   "mimetype": "text/x-python",
   "name": "python",
   "nbconvert_exporter": "python",
   "pygments_lexer": "ipython3",
   "version": "3.12.3"
  }
 },
 "nbformat": 4,
 "nbformat_minor": 2
}
