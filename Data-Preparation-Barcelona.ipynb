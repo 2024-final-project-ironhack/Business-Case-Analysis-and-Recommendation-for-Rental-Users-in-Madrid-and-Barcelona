{
 "cells": [
  {
   "cell_type": "code",
   "execution_count": 1,
   "id": "c59eefe0-1425-4a22-929d-0c24a470e952",
   "metadata": {},
   "outputs": [],
   "source": [
    "import matplotlib.pyplot as plt\n",
    "import numpy as np\n",
    "import pandas as pd\n",
    "import seaborn as sns"
   ]
  },
  {
   "cell_type": "code",
   "execution_count": 3,
   "id": "2bc2f3d7-2629-4b94-8e93-30e69cf4df3d",
   "metadata": {},
   "outputs": [
    {
     "name": "stdout",
     "output_type": "stream",
     "text": [
      "       id                          listing_url       scrape_id last_scraped  \\\n",
      "0  269467  https://www.airbnb.com/rooms/269467  20240615011618   2024-06-15   \n",
      "1  270197  https://www.airbnb.com/rooms/270197  20240615011618   2024-06-15   \n",
      "2   18674   https://www.airbnb.com/rooms/18674  20240615011618   2024-06-15   \n",
      "3  272282  https://www.airbnb.com/rooms/272282  20240615011618   2024-06-15   \n",
      "4   23197   https://www.airbnb.com/rooms/23197  20240615011618   2024-06-15   \n",
      "\n",
      "            source                                               name  \\\n",
      "0      city scrape       Sunny and quiet Loft next to Sagrada Familia   \n",
      "1      city scrape    *monthly stays* 4 Bedroom Apartment near Rambla   \n",
      "2      city scrape    Huge flat for 8 people close to Sagrada Familia   \n",
      "3  previous scrape             CHARMING, VERY SPACIOUS & BEST LOCATED   \n",
      "4      city scrape  Forum CCIB DeLuxe, Spacious, Large Balcony, relax   \n",
      "\n",
      "                                         description  \\\n",
      "0  The apartment is a cosy open space with 65 m2....   \n",
      "1  Rented only for monthly periods. 4 bedroom apa...   \n",
      "2  110m2 apartment to rent in Barcelona. Located ...   \n",
      "3  Very spacious apartment located in a modernist...   \n",
      "4  Beautiful spacious apartment, large terrace, 5...   \n",
      "\n",
      "                               neighborhood_overview  \\\n",
      "0                                                NaN   \n",
      "1                                                NaN   \n",
      "2  Apartment in Barcelona located in the heart of...   \n",
      "3  Eixample is famous for being home to the major...   \n",
      "4  Strategically located in the Parc del Fòrum, a...   \n",
      "\n",
      "                                         picture_url  host_id  ...  \\\n",
      "0  https://a0.muscache.com/pictures/a6445a90-94eb...  1411775  ...   \n",
      "1  https://a0.muscache.com/pictures/69907440-d8df...  1414702  ...   \n",
      "2  https://a0.muscache.com/pictures/13031453/413c...    71615  ...   \n",
      "3  https://a0.muscache.com/pictures/monet/Select-...  1425070  ...   \n",
      "4  https://a0.muscache.com/pictures/miso/Hosting-...    90417  ...   \n",
      "\n",
      "  review_scores_communication review_scores_location review_scores_value  \\\n",
      "0                        4.79                   4.81                4.67   \n",
      "1                        5.00                   5.00                4.50   \n",
      "2                        4.68                   4.78                4.30   \n",
      "3                        4.96                   4.84                4.80   \n",
      "4                        4.99                   4.62                4.64   \n",
      "\n",
      "                        license instant_bookable  \\\n",
      "0                   HUTB-001129                t   \n",
      "1  N/A SOLO ESTANCIAS MENSUALES                f   \n",
      "2                   HUTB-002062                t   \n",
      "3                    HUTB003208                f   \n",
      "4                    HUTB005057                f   \n",
      "\n",
      "  calculated_host_listings_count calculated_host_listings_count_entire_homes  \\\n",
      "0                              3                                           3   \n",
      "1                             27                                          27   \n",
      "2                             27                                          27   \n",
      "3                              1                                           1   \n",
      "4                              1                                           1   \n",
      "\n",
      "  calculated_host_listings_count_private_rooms  \\\n",
      "0                                            0   \n",
      "1                                            0   \n",
      "2                                            0   \n",
      "3                                            0   \n",
      "4                                            0   \n",
      "\n",
      "  calculated_host_listings_count_shared_rooms reviews_per_month  \n",
      "0                                           0              1.15  \n",
      "1                                           0              0.02  \n",
      "2                                           0              0.30  \n",
      "3                                           0              2.84  \n",
      "4                                           0              0.48  \n",
      "\n",
      "[5 rows x 75 columns]\n"
     ]
    }
   ],
   "source": [
    "df = pd.read_csv(\"data/Barcelona/listings-detailed-bcn.csv\")\n",
    "print(df.head())"
   ]
  },
  {
   "cell_type": "code",
   "execution_count": 4,
   "id": "0447c699-c87e-4566-81e3-2c361780e6b5",
   "metadata": {},
   "outputs": [
    {
     "data": {
      "text/plain": [
       "Index(['id', 'listing_url', 'scrape_id', 'last_scraped', 'source', 'name',\n",
       "       'description', 'neighborhood_overview', 'picture_url', 'host_id',\n",
       "       'host_url', 'host_name', 'host_since', 'host_location', 'host_about',\n",
       "       'host_response_time', 'host_response_rate', 'host_acceptance_rate',\n",
       "       'host_is_superhost', 'host_thumbnail_url', 'host_picture_url',\n",
       "       'host_neighbourhood', 'host_listings_count',\n",
       "       'host_total_listings_count', 'host_verifications',\n",
       "       'host_has_profile_pic', 'host_identity_verified', 'neighbourhood',\n",
       "       'neighbourhood_cleansed', 'neighbourhood_group_cleansed', 'latitude',\n",
       "       'longitude', 'property_type', 'room_type', 'accommodates', 'bathrooms',\n",
       "       'bathrooms_text', 'bedrooms', 'beds', 'amenities', 'price',\n",
       "       'minimum_nights', 'maximum_nights', 'minimum_minimum_nights',\n",
       "       'maximum_minimum_nights', 'minimum_maximum_nights',\n",
       "       'maximum_maximum_nights', 'minimum_nights_avg_ntm',\n",
       "       'maximum_nights_avg_ntm', 'calendar_updated', 'has_availability',\n",
       "       'availability_30', 'availability_60', 'availability_90',\n",
       "       'availability_365', 'calendar_last_scraped', 'number_of_reviews',\n",
       "       'number_of_reviews_ltm', 'number_of_reviews_l30d', 'first_review',\n",
       "       'last_review', 'review_scores_rating', 'review_scores_accuracy',\n",
       "       'review_scores_cleanliness', 'review_scores_checkin',\n",
       "       'review_scores_communication', 'review_scores_location',\n",
       "       'review_scores_value', 'license', 'instant_bookable',\n",
       "       'calculated_host_listings_count',\n",
       "       'calculated_host_listings_count_entire_homes',\n",
       "       'calculated_host_listings_count_private_rooms',\n",
       "       'calculated_host_listings_count_shared_rooms', 'reviews_per_month'],\n",
       "      dtype='object')"
      ]
     },
     "execution_count": 4,
     "metadata": {},
     "output_type": "execute_result"
    }
   ],
   "source": [
    "df.columns"
   ]
  },
  {
   "cell_type": "code",
   "execution_count": 17,
   "id": "7ee73641-561c-4a6f-b2e2-09fb8abae1b4",
   "metadata": {},
   "outputs": [
    {
     "data": {
      "text/plain": [
       "id                                                int64\n",
       "listing_url                                      object\n",
       "scrape_id                                         int64\n",
       "last_scraped                                     object\n",
       "source                                           object\n",
       "                                                 ...   \n",
       "calculated_host_listings_count                    int64\n",
       "calculated_host_listings_count_entire_homes       int64\n",
       "calculated_host_listings_count_private_rooms      int64\n",
       "calculated_host_listings_count_shared_rooms       int64\n",
       "reviews_per_month                               float64\n",
       "Length: 75, dtype: object"
      ]
     },
     "execution_count": 17,
     "metadata": {},
     "output_type": "execute_result"
    }
   ],
   "source": [
    "df.dtypes"
   ]
  },
  {
   "cell_type": "code",
   "execution_count": 18,
   "id": "f998d003-e530-499b-b5e8-a77e74218922",
   "metadata": {},
   "outputs": [
    {
     "data": {
      "text/plain": [
       "18925"
      ]
     },
     "execution_count": 18,
     "metadata": {},
     "output_type": "execute_result"
    }
   ],
   "source": [
    "# Count total IDs in df\n",
    "df['host_id'].count()"
   ]
  },
  {
   "cell_type": "code",
   "execution_count": 19,
   "id": "adbd2fb4-95a3-48bb-a37a-7c60f05f41a5",
   "metadata": {},
   "outputs": [
    {
     "data": {
      "text/plain": [
       "7161"
      ]
     },
     "execution_count": 19,
     "metadata": {},
     "output_type": "execute_result"
    }
   ],
   "source": [
    "# Count unique IDs in df\n",
    "df['host_id'].nunique()"
   ]
  },
  {
   "cell_type": "code",
   "execution_count": 20,
   "id": "fba4d5ca-56b7-4a48-a8df-f1cefea3a440",
   "metadata": {},
   "outputs": [
    {
     "data": {
      "text/plain": [
       "array(['Entire home/apt', 'Private room', 'Hotel room', 'Shared room'],\n",
       "      dtype=object)"
      ]
     },
     "execution_count": 20,
     "metadata": {},
     "output_type": "execute_result"
    }
   ],
   "source": [
    "# See unique values in room_type column\n",
    "df['room_type'].unique()"
   ]
  },
  {
   "cell_type": "code",
   "execution_count": 21,
   "id": "bf3db5ce-0a5a-435a-a5a4-f12b1551f00a",
   "metadata": {},
   "outputs": [
    {
     "data": {
      "text/plain": [
       "room_type\n",
       "Entire home/apt    11217\n",
       "Private room        7436\n",
       "Shared room          151\n",
       "Hotel room           121\n",
       "Name: count, dtype: int64"
      ]
     },
     "execution_count": 21,
     "metadata": {},
     "output_type": "execute_result"
    }
   ],
   "source": [
    "# Count number of each value in room_type column\n",
    "df[\"room_type\"].value_counts()"
   ]
  },
  {
   "cell_type": "code",
   "execution_count": 22,
   "id": "d809b3a1-918a-4984-ad58-fc1495aa50d4",
   "metadata": {},
   "outputs": [
    {
     "data": {
      "text/plain": [
       "room_type\n",
       "Entire home/apt    59.270806\n",
       "Private room       39.291942\n",
       "Shared room         0.797886\n",
       "Hotel room          0.639366\n",
       "Name: proportion, dtype: float64"
      ]
     },
     "execution_count": 22,
     "metadata": {},
     "output_type": "execute_result"
    }
   ],
   "source": [
    "# View the above as percentages of the total\n",
    "df[\"room_type\"].value_counts(normalize=True) * 100"
   ]
  },
  {
   "cell_type": "code",
   "execution_count": 23,
   "id": "35879700-4bba-47f5-afd2-3177d9a62970",
   "metadata": {},
   "outputs": [
    {
     "data": {
      "text/plain": [
       "array([nan, 'Barcelona, CT, Spain', 'Barcelona, Catalunya, Spain',\n",
       "       'Sant Adria de Besos, Barcelona, Spain',\n",
       "       'Barcelona, Catalonia, Spain', 'Barcelona, Ca, Spain',\n",
       "       'Barcelona, Spain', 'Barcelona, Cataluña, Catalonia, Spain',\n",
       "       'Barcelona , Catalonia, Spain', 'Barcelona, Cataluna, Spain',\n",
       "       'Barcelona, BARCELONA, Spain',\n",
       "       \"L'Hospitalet de Llobregat, Catalunya, Spain\",\n",
       "       'Hospitalet de Llobregat, CT, Spain',\n",
       "       'Sagrada Familia, Barcelona, Catalonia, Spain',\n",
       "       'El Masnou, Catalonia, Spain', 'Barcelona, barcelona, Spain',\n",
       "       'Barcelona, Katalonien, Spain', 'BARCELONA, city, Spain',\n",
       "       'barcelona, Barcelona, Spain', 'Барселона, Barcelona, Spain',\n",
       "       'Барселона, Каталония, Spain', 'Spain',\n",
       "       'Barcelona , Catalunya, Spain', '3-1, Barcelona, Spain',\n",
       "       'Sant Adrià de Besòs, Catalonia, Spain', 'Bcn, Spain',\n",
       "       'Barcelona , Barcelona, Spain',\n",
       "       'Barcelona, Barcelona (España), Spain',\n",
       "       'Barcelona El RAVAL , Catalonia, Spain',\n",
       "       'Barcelona, Catalugna, Spain',\n",
       "       'Barcelona, Catalunya, ES, Barcelona, Spain',\n",
       "       'Gotico, Barcelona, Catalonia, Spain',\n",
       "       'Sant Adrià de Besòs, Catalunya, Spain', 'Catalunya , Spain',\n",
       "       'Ciutat Vella, Catalunya, Spain', 'Barcelona, Tetuan, Spain',\n",
       "       'BARCELONA, Spain', '., Barcelona, Spain',\n",
       "       'Sant Adrià De Besòs, Catalunya, Spain', 'Barcelona, ., Spain',\n",
       "       'BARCELONA, SPAIN, Spain', 'Barcelona, SPAGNA, Spain',\n",
       "       'Barcelona,, Cataluña,, Spain', '*, Barcelona, Spain',\n",
       "       'Sant Adrià de Besòs, Spain', 'Barcelona, *, Spain',\n",
       "       'Barcelona , CT, Spain', 'Eixample, Barcelona, Spain',\n",
       "       'BARCELONA, Catalunya, Spain', 'Barcelona, CATALUNYA, Spain',\n",
       "       'Barcelona Ciutat Vella, Barcelona, Spain',\n",
       "       'Barcelona, España, Spain', 'Casanova, Castilla y León, Spain',\n",
       "       'BCN, Spain', 'Gràcia, Barcelona, Spain'], dtype=object)"
      ]
     },
     "execution_count": 23,
     "metadata": {},
     "output_type": "execute_result"
    }
   ],
   "source": [
    "# See unique values in neighbourhood column\n",
    "df['neighbourhood'].unique()"
   ]
  },
  {
   "cell_type": "code",
   "execution_count": 24,
   "id": "f03f6c3d-72fa-4b6a-a10e-aab76b54ff2a",
   "metadata": {},
   "outputs": [
    {
     "data": {
      "text/plain": [
       "neighbourhood\n",
       "Barcelona, Catalunya, Spain                     8086\n",
       "Barcelona, Catalonia, Spain                     1167\n",
       "Barcelona, Spain                                 479\n",
       "Barcelona, CT, Spain                             182\n",
       "BARCELONA, city, Spain                            67\n",
       "Barcelona, Cataluña, Catalonia, Spain             50\n",
       "Sant Adrià de Besòs, Catalunya, Spain             12\n",
       "BARCELONA, Spain                                  10\n",
       "L'Hospitalet de Llobregat, Catalunya, Spain       10\n",
       "Barcelona, Ca, Spain                               8\n",
       "Barcelona, ., Spain                                8\n",
       "Barcelona , Catalunya, Spain                       7\n",
       "Barcelona , Barcelona, Spain                       6\n",
       "., Barcelona, Spain                                6\n",
       "Barcelona, barcelona, Spain                        5\n",
       "BARCELONA, SPAIN, Spain                            4\n",
       "Spain                                              3\n",
       "Barcelona, CATALUNYA, Spain                        3\n",
       "Eixample, Barcelona, Spain                         3\n",
       "Barcelona, BARCELONA, Spain                        3\n",
       "Барселона, Barcelona, Spain                        3\n",
       "barcelona, Barcelona, Spain                        3\n",
       "Barcelona, Cataluna, Spain                         2\n",
       "Barcelona , Catalonia, Spain                       2\n",
       "Gotico, Barcelona, Catalonia, Spain                2\n",
       "*, Barcelona, Spain                                2\n",
       "Барселона, Каталония, Spain                        2\n",
       "Barcelona, *, Spain                                2\n",
       "Casanova, Castilla y León, Spain                   1\n",
       "Barcelona , CT, Spain                              1\n",
       "Barcelona, España, Spain                           1\n",
       "BARCELONA, Catalunya, Spain                        1\n",
       "Barcelona,, Cataluña,, Spain                       1\n",
       "Barcelona, SPAGNA, Spain                           1\n",
       "Barcelona Ciutat Vella, Barcelona, Spain           1\n",
       "BCN, Spain                                         1\n",
       "Sant Adrià de Besòs, Spain                         1\n",
       "Barcelona El RAVAL , Catalonia, Spain              1\n",
       "Sant Adrià De Besòs, Catalunya, Spain              1\n",
       "Barcelona, Tetuan, Spain                           1\n",
       "Ciutat Vella, Catalunya, Spain                     1\n",
       "Catalunya , Spain                                  1\n",
       "Barcelona, Catalunya, ES, Barcelona, Spain         1\n",
       "Barcelona, Catalugna, Spain                        1\n",
       "Barcelona, Barcelona (España), Spain               1\n",
       "Bcn, Spain                                         1\n",
       "Sant Adrià de Besòs, Catalonia, Spain              1\n",
       "3-1, Barcelona, Spain                              1\n",
       "Barcelona, Katalonien, Spain                       1\n",
       "El Masnou, Catalonia, Spain                        1\n",
       "Sagrada Familia, Barcelona, Catalonia, Spain       1\n",
       "Hospitalet de Llobregat, CT, Spain                 1\n",
       "Sant Adria de Besos, Barcelona, Spain              1\n",
       "Gràcia, Barcelona, Spain                           1\n",
       "Name: count, dtype: int64"
      ]
     },
     "execution_count": 24,
     "metadata": {},
     "output_type": "execute_result"
    }
   ],
   "source": [
    "# Count number of each value in neighbourhood column\n",
    "df[\"neighbourhood\"].value_counts()"
   ]
  },
  {
   "cell_type": "code",
   "execution_count": 25,
   "id": "eb9b7232-785f-4c46-8379-bd63eabc9c0d",
   "metadata": {},
   "outputs": [
    {
     "name": "stdout",
     "output_type": "stream",
     "text": [
      "   host_id       host_name  calculated_host_listings_count host_is_superhost  \\\n",
      "0  1411775        Jeremies                               3                 f   \n",
      "1  1414702          Ferran                              27                 f   \n",
      "2    71615   Mireia  Maria                              27                 f   \n",
      "3  1425070             Mar                               1                 t   \n",
      "4    90417  Etain (Marnie)                               1                 f   \n",
      "\n",
      "                           listing_url      id  \\\n",
      "0  https://www.airbnb.com/rooms/269467  269467   \n",
      "1  https://www.airbnb.com/rooms/270197  270197   \n",
      "2   https://www.airbnb.com/rooms/18674   18674   \n",
      "3  https://www.airbnb.com/rooms/272282  272282   \n",
      "4   https://www.airbnb.com/rooms/23197   23197   \n",
      "\n",
      "                                                name  \\\n",
      "0       Sunny and quiet Loft next to Sagrada Familia   \n",
      "1    *monthly stays* 4 Bedroom Apartment near Rambla   \n",
      "2    Huge flat for 8 people close to Sagrada Familia   \n",
      "3             CHARMING, VERY SPACIOUS & BEST LOCATED   \n",
      "4  Forum CCIB DeLuxe, Spacious, Large Balcony, relax   \n",
      "\n",
      "  neighbourhood_group_cleansed   latitude  longitude  ... number_of_reviews  \\\n",
      "0                     Eixample  41.401810    2.17610  ...                90   \n",
      "1                 Ciutat Vella  41.379360    2.17376  ...                 2   \n",
      "2                     Eixample  41.405560    2.17262  ...                41   \n",
      "3                     Eixample  41.383470    2.15802  ...               414   \n",
      "4                   Sant Martí  41.412432    2.21975  ...                78   \n",
      "\n",
      "   review_scores_rating                       license  kitchen  \\\n",
      "0                  4.74                   HUTB-001129        1   \n",
      "1                  4.00  N/A SOLO ESTANCIAS MENSUALES        1   \n",
      "2                  4.35                   HUTB-002062        1   \n",
      "3                  4.92                    HUTB003208        1   \n",
      "4                  4.79                    HUTB005057        1   \n",
      "\n",
      "   patio or balcony elevator  air conditioning  long_term  short_term  \\\n",
      "0                 1        0                 1          0           0   \n",
      "1                 0        0                 0          1           0   \n",
      "2                 1        1                 0          0           0   \n",
      "3                 1        1                 1          0           0   \n",
      "4                 1        1                 0          0           0   \n",
      "\n",
      "   possible_long_term  \n",
      "0                   1  \n",
      "1                   1  \n",
      "2                   1  \n",
      "3                   1  \n",
      "4                   1  \n",
      "\n",
      "[5 rows x 23 columns]\n"
     ]
    }
   ],
   "source": [
    "#Crear nuevo dataset con menos columnas\n",
    "\n",
    "# Creating the new DataFrame with the required columns\n",
    "listings_prepared_bcn = df[['host_id', 'host_name', 'calculated_host_listings_count', \n",
    "                            'host_is_superhost', 'listing_url', 'id', 'name', \n",
    "                            'neighbourhood_group_cleansed', 'latitude', 'longitude', \n",
    "                            'room_type', 'bedrooms', 'price', 'number_of_reviews', \n",
    "                            'review_scores_rating', 'license']].copy()\n",
    "\n",
    "# Adding 'kitchen', 'patio or balcony', 'elevator', 'air conditioning' columns based on 'amenities'\n",
    "listings_prepared_bcn['kitchen'] = df['amenities'].str.contains('kitchen', case=False, na=False).astype(int)\n",
    "listings_prepared_bcn['patio or balcony'] = df['amenities'].str.contains('patio|balcony', case=False, na=False).astype(int)\n",
    "listings_prepared_bcn['elevator'] = df['amenities'].str.contains('elevator', case=False, na=False).astype(int)\n",
    "listings_prepared_bcn['air conditioning'] = df['amenities'].str.contains('air conditioning', case=False, na=False).astype(int)\n",
    "\n",
    "# Adding 'long_term', 'short_term', 'possible_long_term' columns based on 'minimum_nights' and 'maximum_nights'\n",
    "listings_prepared_bcn['long_term'] = (df['minimum_nights'] > 31).astype(int)\n",
    "listings_prepared_bcn['short_term'] = (df['maximum_nights'] <= 31).astype(int)\n",
    "listings_prepared_bcn['possible_long_term'] = ((df['minimum_nights'] >= 1) & (df['maximum_nights'] >= 31)).astype(int)\n",
    "\n",
    "# Display the first few rows of the new dataframe\n",
    "print(listings_prepared_bcn.head())\n"
   ]
  },
  {
   "cell_type": "code",
   "execution_count": 26,
   "id": "02952265-5822-4d6f-91b0-de7731a14852",
   "metadata": {},
   "outputs": [],
   "source": [
    "# Export the DataFrame to an Excel file\n",
    "listings_prepared_bcn.to_excel('listings_prepared_bcn.xlsx', index=False)"
   ]
  },
  {
   "cell_type": "code",
   "execution_count": 27,
   "id": "7fe87951-79ce-4baa-a240-90e299decc53",
   "metadata": {},
   "outputs": [
    {
     "name": "stdout",
     "output_type": "stream",
     "text": [
      "       id                          listing_url  \\\n",
      "0  269467  https://www.airbnb.com/rooms/269467   \n",
      "1  270197  https://www.airbnb.com/rooms/270197   \n",
      "2   18674   https://www.airbnb.com/rooms/18674   \n",
      "3  272282  https://www.airbnb.com/rooms/272282   \n",
      "4   23197   https://www.airbnb.com/rooms/23197   \n",
      "\n",
      "                                                name  host_id       host_name  \\\n",
      "0       Sunny and quiet Loft next to Sagrada Familia  1411775        Jeremies   \n",
      "1    *monthly stays* 4 Bedroom Apartment near Rambla  1414702          Ferran   \n",
      "2    Huge flat for 8 people close to Sagrada Familia    71615   Mireia  Maria   \n",
      "3             CHARMING, VERY SPACIOUS & BEST LOCATED  1425070             Mar   \n",
      "4  Forum CCIB DeLuxe, Spacious, Large Balcony, relax    90417  Etain (Marnie)   \n",
      "\n",
      "   calculated_host_listings_count host_is_superhost  \\\n",
      "0                               3                 f   \n",
      "1                              27                 f   \n",
      "2                              27                 f   \n",
      "3                               1                 t   \n",
      "4                               1                 f   \n",
      "\n",
      "                        license neighbourhood_group_cleansed   latitude  ...  \\\n",
      "0                   HUTB-001129                     Eixample  41.401810  ...   \n",
      "1  N/A SOLO ESTANCIAS MENSUALES                 Ciutat Vella  41.379360  ...   \n",
      "2                   HUTB-002062                     Eixample  41.405560  ...   \n",
      "3                    HUTB003208                     Eixample  41.383470  ...   \n",
      "4                    HUTB005057                   Sant Martí  41.412432  ...   \n",
      "\n",
      "     price kitchen  patio or balcony elevator  air conditioning  long_term  \\\n",
      "0  $176.00       1                 1        0                 1          0   \n",
      "1   $74.00       1                 0        0                 0          1   \n",
      "2  $257.00       1                 1        1                 0          0   \n",
      "3      NaN       1                 1        1                 1          0   \n",
      "4  $249.00       1                 1        1                 0          0   \n",
      "\n",
      "   short_term  possible_long_term  number_of_reviews  review_scores_rating  \n",
      "0           0                   1                 90                  4.74  \n",
      "1           0                   1                  2                  4.00  \n",
      "2           0                   1                 41                  4.35  \n",
      "3           0                   1                414                  4.92  \n",
      "4           0                   1                 78                  4.79  \n",
      "\n",
      "[5 rows x 23 columns]\n"
     ]
    }
   ],
   "source": [
    "# Reordering the columns\n",
    "ordered_columns = [\n",
    "    'id', 'listing_url', 'name', 'host_id', 'host_name', 'calculated_host_listings_count', \n",
    "    'host_is_superhost', 'license', 'neighbourhood_group_cleansed', 'latitude', \n",
    "    'longitude', 'room_type', 'bedrooms', 'price', 'kitchen', 'patio or balcony', \n",
    "    'elevator', 'air conditioning', 'long_term', 'short_term', 'possible_long_term', \n",
    "    'number_of_reviews', 'review_scores_rating'\n",
    "]\n",
    "\n",
    "# Apply the new order to the DataFrame\n",
    "listings_prepared_bcn = listings_prepared_mad[ordered_columns]\n",
    "\n",
    "# Display the first few rows of the reordered DataFrame\n",
    "print(listings_prepared_bcn.head())\n",
    "\n",
    "# Export the reordered DataFrame to a CSV file\n",
    "listings_prepared_bcn.to_csv('listings_prepared_bcn.csv', index=False)"
   ]
  },
  {
   "cell_type": "code",
   "execution_count": null,
   "id": "bd03f42b-03ad-46dd-bdb2-3fad6d85c18a",
   "metadata": {},
   "outputs": [],
   "source": []
  }
 ],
 "metadata": {
  "kernelspec": {
   "display_name": "Python 3 (ipykernel)",
   "language": "python",
   "name": "python3"
  },
  "language_info": {
   "codemirror_mode": {
    "name": "ipython",
    "version": 3
   },
   "file_extension": ".py",
   "mimetype": "text/x-python",
   "name": "python",
   "nbconvert_exporter": "python",
   "pygments_lexer": "ipython3",
   "version": "3.9.6"
  }
 },
 "nbformat": 4,
 "nbformat_minor": 5
}
