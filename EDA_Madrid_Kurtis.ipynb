{
 "cells": [
  {
   "cell_type": "code",
   "execution_count": 22,
   "metadata": {},
   "outputs": [],
   "source": [
    "from pyspark.sql import SparkSession\n",
    "\n",
    "# Initialize Spark session\n",
    "spark = SparkSession.builder \\\n",
    "    .appName(\"Airbnb EDA\") \\\n",
    "    .getOrCreate()"
   ]
  },
  {
   "cell_type": "code",
   "execution_count": 42,
   "metadata": {},
   "outputs": [
    {
     "name": "stdout",
     "output_type": "stream",
     "text": [
      "+----------------------------+-------------------+--------------------+--------------------+---------+---------------+------------------------------+-----------------+-----------------+-------------------+-----+-------+----------------+--------+----------------+---------+----------+------------------+-----------------+--------------------+-----------------+----------------+\n",
      "|neighbourhood_group_cleansed|                 id|         listing_url|                name|  host_id|      host_name|calculated_host_listings_count|host_is_superhost|         latitude|          longitude|price|kitchen|patio or balcony|elevator|air conditioning|long_term|short_term|possible_long_term|number_of_reviews|review_scores_rating|room_type_encoded|bedrooms_encoded|\n",
      "+----------------------------+-------------------+--------------------+--------------------+---------+---------------+------------------------------+-----------------+-----------------+-------------------+-----+-------+----------------+--------+----------------+---------+----------+------------------+-----------------+--------------------+-----------------+----------------+\n",
      "|                      Retiro|1104967621421098322|https://www.airbn...|Habitación de luj...|565307927|       Carolina|                             1|                f|       40.4069796|         -3.6750154| 68.0|      0|               0|       0|               0|        0|         1|                 0|                2|                 4.5|                1|               0|\n",
      "|          Puente de Vallecas| 930941073152690361|https://www.airbn...|habitación para p...|442944608| Jonathan Jesus|                             2|                f|          40.3921|           -3.67003| 16.0|      0|               0|       0|               0|        0|         0|                 1|                3|                 5.0|                1|               0|\n",
      "|          Puente de Vallecas|           51647382|https://www.airbn...|Buenos Aires en M...|252336445|          Norma|                             2|                f|         40.39511|           -3.67143| 25.0|      1|               0|       0|               0|        0|         0|                 1|              186|                4.67|                1|               1|\n",
      "|                 Carabanchel|1026072412626070839|https://www.airbn...|Habitación Madrid...|545435841|     Gean Piero|                             1|                f|40.39555483922258|-3.7164371179819233| 26.0|      1|               0|       0|               0|        0|         0|                 1|                1|                 5.0|                1|               0|\n",
      "|                   Salamanca| 766423030884644417|https://www.airbn...|habitación para t...|  3882456|Gabriela CHÁVEZ|                             1|                f|         40.43045|            -3.6721|100.0|      1|               0|       0|               1|        0|         1|                 0|                0|                 0.0|                1|               0|\n",
      "+----------------------------+-------------------+--------------------+--------------------+---------+---------------+------------------------------+-----------------+-----------------+-------------------+-----+-------+----------------+--------+----------------+---------+----------+------------------+-----------------+--------------------+-----------------+----------------+\n",
      "only showing top 5 rows\n",
      "\n"
     ]
    }
   ],
   "source": [
    "# Define the directory path to the cleaned CSV files\n",
    "file_path = \"datasets/Final_cleaned_dataset/mad_final_cleaned_data_csv.csv\"\n",
    "\n",
    "# Load the cleaned data from the directory\n",
    "df_mad = spark.read.csv(file_path, header=True, inferSchema=True)\n",
    "\n",
    "df_mad.createOrReplaceTempView(\"airbnb_listings\")\n",
    "\n",
    "df_mad.show(5)"
   ]
  },
  {
   "cell_type": "code",
   "execution_count": 43,
   "metadata": {},
   "outputs": [
    {
     "name": "stdout",
     "output_type": "stream",
     "text": [
      "root\n",
      " |-- neighbourhood_group_cleansed: string (nullable = true)\n",
      " |-- id: long (nullable = true)\n",
      " |-- listing_url: string (nullable = true)\n",
      " |-- name: string (nullable = true)\n",
      " |-- host_id: string (nullable = true)\n",
      " |-- host_name: string (nullable = true)\n",
      " |-- calculated_host_listings_count: string (nullable = true)\n",
      " |-- host_is_superhost: string (nullable = true)\n",
      " |-- latitude: string (nullable = true)\n",
      " |-- longitude: double (nullable = true)\n",
      " |-- price: double (nullable = true)\n",
      " |-- kitchen: string (nullable = true)\n",
      " |-- patio or balcony: integer (nullable = true)\n",
      " |-- elevator: integer (nullable = true)\n",
      " |-- air conditioning: integer (nullable = true)\n",
      " |-- long_term: integer (nullable = true)\n",
      " |-- short_term: integer (nullable = true)\n",
      " |-- possible_long_term: integer (nullable = true)\n",
      " |-- number_of_reviews: integer (nullable = true)\n",
      " |-- review_scores_rating: double (nullable = true)\n",
      " |-- room_type_encoded: integer (nullable = true)\n",
      " |-- bedrooms_encoded: integer (nullable = true)\n",
      "\n"
     ]
    }
   ],
   "source": [
    "# Display the schema to verify data types\n",
    "df_mad.printSchema()"
   ]
  },
  {
   "cell_type": "code",
   "execution_count": 44,
   "metadata": {},
   "outputs": [
    {
     "name": "stderr",
     "output_type": "stream",
     "text": [
      "[Stage 98:=============================>                            (1 + 1) / 2]\r"
     ]
    },
    {
     "name": "stdout",
     "output_type": "stream",
     "text": [
      "+-------+----------------------------+--------------------+--------------------+--------------------+--------------------+--------------+------------------------------+-----------------+--------------------+-------------------+-----------------+-------------------+-------------------+-------------------+-------------------+-------------------+-------------------+-------------------+------------------+--------------------+------------------+------------------+\n",
      "|summary|neighbourhood_group_cleansed|                  id|         listing_url|                name|             host_id|     host_name|calculated_host_listings_count|host_is_superhost|            latitude|          longitude|            price|            kitchen|   patio or balcony|           elevator|   air conditioning|          long_term|         short_term| possible_long_term| number_of_reviews|review_scores_rating| room_type_encoded|  bedrooms_encoded|\n",
      "+-------+----------------------------+--------------------+--------------------+--------------------+--------------------+--------------+------------------------------+-----------------+--------------------+-------------------+-----------------+-------------------+-------------------+-------------------+-------------------+-------------------+-------------------+-------------------+------------------+--------------------+------------------+------------------+\n",
      "|  count|                       26873|               26873|               26873|               26873|               26873|         26873|                         26873|            26873|               26873|              26873|            26873|              26873|              26873|              26873|              26873|              26873|              26873|              26873|             26873|               26873|             26873|             26873|\n",
      "|   mean|                        NULL|5.276244191458251...|                NULL|   373.6666666666667|2.3764619451987198E8|   1.8174176E8|            27.630916939565346|              2.0|  40.421636631729605| -3.692429013306703|136.8754511963681| 0.9067058648407265|0.21508577382502883|0.44126074498567336| 0.5877646708592267|0.02426227068060879|0.15301603840285788| 0.8533844379116585|44.257284263014924|  3.6586134782123416|1.6304841290514642|0.2974360882670338|\n",
      "| stddev|                        NULL|4.833383434416568...|                NULL|   645.4776009540017| 1.954435675896757E8|          NULL|             62.19264448673779|             NULL|0.023542854211678163| 0.2704872052215677|268.5689458209769|0.29084959604616073|0.41088948178719636| 0.4965469513418306|0.49224625876821426|0.15386518085320947| 0.3600096572837739|0.35372884412873123| 83.58524552484097|  2.0964308256393567|0.5112134736051615|0.4571385327008052|\n",
      "|    min|                  Arganzuela|               21853|https://www.airbn...|!!! LAST MINUTE !...|           100028019|      (Mateo )|                             1|                2|   40.33139673018308|-3.8330714277148017|              5.0|            $735.00|                  0|                  0|                  0|                  0|                  0|                  0|                 0|                 0.0|                 0|                 0|\n",
      "|    max|                  Villaverde| 1178999049049764954|https://www.airbn...|🔑🔑🔑Deyanira 59...|  BILLIARD 4 groups\"|马德里欧拉旅社|                      Casa Mia|                t|              Centro|           40.41226|          21000.0|                  1|                  1|                  1|                  1|                  1|                  1|                  1|              1060|               126.0|                 2|                 1|\n",
      "+-------+----------------------------+--------------------+--------------------+--------------------+--------------------+--------------+------------------------------+-----------------+--------------------+-------------------+-----------------+-------------------+-------------------+-------------------+-------------------+-------------------+-------------------+-------------------+------------------+--------------------+------------------+------------------+\n",
      "\n"
     ]
    },
    {
     "name": "stderr",
     "output_type": "stream",
     "text": [
      "                                                                                \r"
     ]
    }
   ],
   "source": [
    " df_mad.describe().show()"
   ]
  },
  {
   "cell_type": "markdown",
   "metadata": {},
   "source": [
    "## Summary of Columns:\n",
    "    neighbourhood_group_cleansed: The neighborhood where the listing is located.\n",
    "    id: Unique identifier for the listing.\n",
    "    listing_url: URL of the listing.\n",
    "    name: Name of the listing.\n",
    "    host_id: Unique identifier for the host.\n",
    "    host_name: Name of the host.\n",
    "    calculated_host_listings_count: Number of listings managed by the host.\n",
    "    host_is_superhost: Whether the host is a superhost (a trusted, highly-rated host).\n",
    "    latitude & longitude: Geographic coordinates of the listing.\n",
    "    price: Price per night for the listing.\n",
    "    kitchen: Indicates if the listing has a kitchen.\n",
    "    patio or balcony, elevator, air conditioning: Amenities available in the listing.\n",
    "    long_term, short_term, possible_long_term: Indicates if the listing is available for long or short term.\n",
    "    number_of_reviews: Number of reviews the listing has received.\n",
    "    review_scores_rating: Average rating of the listing.\n",
    "    room_type_encoded: Encoded value representing the type of room (e.g., entire home, private room).\n",
    "    bedrooms_encoded: Encoded value indicating if the listing has more than one bedroom."
   ]
  },
  {
   "cell_type": "code",
   "execution_count": 48,
   "metadata": {},
   "outputs": [
    {
     "data": {
      "text/plain": [
       "['neighbourhood_group_cleansed',\n",
       " 'id',\n",
       " 'listing_url',\n",
       " 'name',\n",
       " 'host_id',\n",
       " 'host_name',\n",
       " 'calculated_host_listings_count',\n",
       " 'host_is_superhost',\n",
       " 'latitude',\n",
       " 'longitude',\n",
       " 'price',\n",
       " 'kitchen',\n",
       " 'patio or balcony',\n",
       " 'elevator',\n",
       " 'air conditioning',\n",
       " 'long_term',\n",
       " 'short_term',\n",
       " 'possible_long_term',\n",
       " 'number_of_reviews',\n",
       " 'review_scores_rating',\n",
       " 'room_type_encoded',\n",
       " 'bedrooms_encoded']"
      ]
     },
     "execution_count": 48,
     "metadata": {},
     "output_type": "execute_result"
    }
   ],
   "source": [
    "df_mad.columns"
   ]
  },
  {
   "cell_type": "markdown",
   "metadata": {},
   "source": [
    "## 1. Basic Descriptive Statistics:"
   ]
  },
  {
   "cell_type": "code",
   "execution_count": 49,
   "metadata": {},
   "outputs": [
    {
     "name": "stdout",
     "output_type": "stream",
     "text": [
      "+-------+-----------------+------------------+--------------------+\n",
      "|summary|            price| number_of_reviews|review_scores_rating|\n",
      "+-------+-----------------+------------------+--------------------+\n",
      "|  count|            26873|             26873|               26873|\n",
      "|   mean|136.8754511963681|44.257284263014924|  3.6586134782123416|\n",
      "| stddev|268.5689458209769| 83.58524552484097|  2.0964308256393567|\n",
      "|    min|              5.0|                 0|                 0.0|\n",
      "|    max|          21000.0|              1060|               126.0|\n",
      "+-------+-----------------+------------------+--------------------+\n",
      "\n"
     ]
    }
   ],
   "source": [
    "# Get an overview of numeric columns such as price, number_of_reviews, and review_scores_rating.\n",
    "df_mad.describe([\"price\", \"number_of_reviews\", \"review_scores_rating\"]).show()"
   ]
  },
  {
   "cell_type": "markdown",
   "metadata": {},
   "source": [
    "## 2. Neighborhood Analysis:\n",
    "### 2.1 Top Neighborhoods by Listing Count:"
   ]
  },
  {
   "cell_type": "code",
   "execution_count": 50,
   "metadata": {},
   "outputs": [
    {
     "name": "stdout",
     "output_type": "stream",
     "text": [
      "+----------------------------+-----+\n",
      "|neighbourhood_group_cleansed|count|\n",
      "+----------------------------+-----+\n",
      "|                      Centro|11281|\n",
      "|                    Chamberí| 1800|\n",
      "|                   Salamanca| 1733|\n",
      "|                      Tetuán| 1605|\n",
      "|                  Arganzuela| 1404|\n",
      "|                 Carabanchel|  988|\n",
      "|                      Retiro|  941|\n",
      "|               Ciudad Lineal|  925|\n",
      "|                   Chamartín|  868|\n",
      "|          Puente de Vallecas|  823|\n",
      "|                      Latina|  773|\n",
      "|           Moncloa - Aravaca|  727|\n",
      "|                       Usera|  610|\n",
      "|        San Blas - Canill...|  584|\n",
      "|                   Hortaleza|  531|\n",
      "|        Fuencarral - El P...|  412|\n",
      "|                  Villaverde|  260|\n",
      "|                   Moratalaz|  195|\n",
      "|                     Barajas|  195|\n",
      "|           Villa de Vallecas|  134|\n",
      "+----------------------------+-----+\n",
      "only showing top 20 rows\n",
      "\n"
     ]
    }
   ],
   "source": [
    "df_mad.groupBy(\"neighbourhood_group_cleansed\").count().orderBy(\"count\", ascending=False).show()"
   ]
  },
  {
   "cell_type": "markdown",
   "metadata": {},
   "source": [
    "### 2.2 Average Price by Neighborhood:"
   ]
  },
  {
   "cell_type": "code",
   "execution_count": 51,
   "metadata": {},
   "outputs": [
    {
     "name": "stdout",
     "output_type": "stream",
     "text": [
      "+----------------------------+------------------+\n",
      "|neighbourhood_group_cleansed|        avg(price)|\n",
      "+----------------------------+------------------+\n",
      "|                   Salamanca|177.08424697057126|\n",
      "|                      Centro|157.27426646573886|\n",
      "|                      Tetuán|145.66230529595015|\n",
      "|                   Hortaleza|142.91337099811676|\n",
      "|                  Arganzuela| 141.0462962962963|\n",
      "|                   Chamartín| 129.2258064516129|\n",
      "|                    Chamberí|127.67611111111111|\n",
      "|        San Blas - Canill...|125.88356164383562|\n",
      "|                      Retiro|122.25398512221041|\n",
      "|           Moncloa - Aravaca|  121.353507565337|\n",
      "|          Puente de Vallecas|111.86391251518833|\n",
      "|                     Barajas|100.93333333333334|\n",
      "|               Ciudad Lineal| 98.71675675675675|\n",
      "|        Fuencarral - El P...| 95.23543689320388|\n",
      "|                 Carabanchel| 82.37348178137651|\n",
      "|                       Usera| 73.94590163934426|\n",
      "|           Villa de Vallecas| 72.67164179104478|\n",
      "|                   Moratalaz| 71.96410256410256|\n",
      "|                  Villaverde| 71.86153846153846|\n",
      "|                      Latina| 69.77490297542045|\n",
      "+----------------------------+------------------+\n",
      "only showing top 20 rows\n",
      "\n"
     ]
    }
   ],
   "source": [
    "df_mad.groupBy(\"neighbourhood_group_cleansed\").agg({\"price\": \"mean\"}).orderBy(\"avg(price)\", ascending=False).show()"
   ]
  },
  {
   "cell_type": "markdown",
   "metadata": {},
   "source": [
    "## 3. Price Distribution:"
   ]
  },
  {
   "cell_type": "code",
   "execution_count": 52,
   "metadata": {},
   "outputs": [
    {
     "name": "stdout",
     "output_type": "stream",
     "text": [
      "+-------+-----------------+\n",
      "|summary|            price|\n",
      "+-------+-----------------+\n",
      "|  count|            26873|\n",
      "|   mean|136.8754511963681|\n",
      "| stddev|268.5689458209769|\n",
      "|    min|              5.0|\n",
      "|    25%|             70.0|\n",
      "|    50%|            112.0|\n",
      "|    75%|            157.0|\n",
      "|    max|          21000.0|\n",
      "+-------+-----------------+\n",
      "\n"
     ]
    }
   ],
   "source": [
    "df_mad.select(\"price\").summary().show()"
   ]
  },
  {
   "cell_type": "markdown",
   "metadata": {
    "vscode": {
     "languageId": "bat"
    }
   },
   "source": [
    "## 4.  Review Analysis:\n",
    "### 4.1 Review Scores Distribution:"
   ]
  },
  {
   "cell_type": "code",
   "execution_count": 53,
   "metadata": {},
   "outputs": [
    {
     "name": "stdout",
     "output_type": "stream",
     "text": [
      "+--------------------+-----+\n",
      "|review_scores_rating|count|\n",
      "+--------------------+-----+\n",
      "|                 0.0| 5822|\n",
      "|                 1.0|   71|\n",
      "|                 1.5|    2|\n",
      "|                1.67|    1|\n",
      "|                1.75|    1|\n",
      "|                 2.0|   61|\n",
      "|                2.33|    2|\n",
      "|                 2.4|    1|\n",
      "|                 2.5|   24|\n",
      "|                 2.6|    1|\n",
      "|                2.67|    6|\n",
      "|                2.86|    1|\n",
      "|                 3.0|  143|\n",
      "|                3.13|    1|\n",
      "|                3.14|    1|\n",
      "|                3.17|    3|\n",
      "|                 3.2|    4|\n",
      "|                3.22|    1|\n",
      "|                3.25|   11|\n",
      "|                3.29|    1|\n",
      "+--------------------+-----+\n",
      "only showing top 20 rows\n",
      "\n"
     ]
    }
   ],
   "source": [
    "df_mad.groupBy(\"review_scores_rating\").count().orderBy(\"review_scores_rating\").show()"
   ]
  },
  {
   "cell_type": "code",
   "execution_count": 54,
   "metadata": {},
   "outputs": [
    {
     "name": "stdout",
     "output_type": "stream",
     "text": [
      "+----------------------------+-------------------------+\n",
      "|neighbourhood_group_cleansed|avg(review_scores_rating)|\n",
      "+----------------------------+-------------------------+\n",
      "|                     VT-2282|                    126.0|\n",
      "|                      Centro|        3.896200691428062|\n",
      "|                   Hortaleza|       3.7812994350282496|\n",
      "|                  Arganzuela|        3.744444444444445|\n",
      "|          Puente de Vallecas|       3.6881652490887014|\n",
      "|                      Retiro|        3.657492029755581|\n",
      "|                     Barajas|       3.6524615384615378|\n",
      "|                      Latina|       3.6012160413971577|\n",
      "|                 Carabanchel|        3.591072874493933|\n",
      "|               Ciudad Lineal|       3.5673621621621625|\n",
      "|                      Tetuán|        3.534647975077887|\n",
      "|                   Salamanca|       3.4532487016733975|\n",
      "|        Fuencarral - El P...|       3.4328883495145623|\n",
      "|                       Usera|       3.4282622950819697|\n",
      "|           Moncloa - Aravaca|        3.402228335625861|\n",
      "|                   Chamartín|       3.4001036866359455|\n",
      "|           Villa de Vallecas|        3.361194029850746|\n",
      "|                   Moratalaz|        3.328307692307692|\n",
      "|                  Villaverde|        3.216038461538462|\n",
      "|        San Blas - Canill...|        3.214452054794519|\n",
      "+----------------------------+-------------------------+\n",
      "only showing top 20 rows\n",
      "\n"
     ]
    }
   ],
   "source": [
    "# 4.2 Average Review Scores by Neighborhood:\n",
    "df_mad.groupBy(\"neighbourhood_group_cleansed\").agg({\"review_scores_rating\": \"mean\"}).orderBy(\"avg(review_scores_rating)\", ascending=False).show()"
   ]
  },
  {
   "cell_type": "code",
   "execution_count": 55,
   "metadata": {},
   "outputs": [
    {
     "name": "stdout",
     "output_type": "stream",
     "text": [
      "+--------------------+\n",
      "|         correlation|\n",
      "+--------------------+\n",
      "|-0.01640629518843...|\n",
      "+--------------------+\n",
      "\n"
     ]
    }
   ],
   "source": [
    "# There is no correlation between price and number of reviews\n",
    "\n",
    "from pyspark.sql.functions import corr\n",
    "\n",
    "df_mad.select(corr(\"price\", \"number_of_reviews\").alias(\"correlation\")).show()"
   ]
  },
  {
   "cell_type": "markdown",
   "metadata": {},
   "source": [
    "## 5.  Amenities Analysis:\n",
    "### Count of Listings with Specific Amenities:"
   ]
  },
  {
   "cell_type": "code",
   "execution_count": 56,
   "metadata": {},
   "outputs": [
    {
     "name": "stdout",
     "output_type": "stream",
     "text": [
      "+-------+----------------+--------+----------------+-----+\n",
      "|kitchen|air conditioning|elevator|patio or balcony|count|\n",
      "+-------+----------------+--------+----------------+-----+\n",
      "|      0|               1|       1|               0|  497|\n",
      "|      0|               0|       0|               0|  704|\n",
      "|      0|               0|       1|               0|  330|\n",
      "|      1|               0|       0|               0| 5083|\n",
      "|      1|               1|       0|               0| 6127|\n",
      "|      0|               0|       1|               1|   94|\n",
      "|      1|               0|       1|               0| 2664|\n",
      "|      0|               1|       0|               1|   61|\n",
      "|      0|               1|       1|               1|   54|\n",
      "|      1|               1|       1|               1| 2103|\n",
      "|      1|               1|       0|               1| 1264|\n",
      "|      0|               0|       0|               1|   96|\n",
      "|      1|               0|       1|               1| 1098|\n",
      "|      0|               1|       0|               0|  671|\n",
      "|      1|               1|       1|               0| 5017|\n",
      "|      1|               0|       0|               1| 1009|\n",
      "|$735.00|               1|       1|               1|    1|\n",
      "+-------+----------------+--------+----------------+-----+\n",
      "\n"
     ]
    }
   ],
   "source": [
    "df_mad.groupBy(\"kitchen\", \"air conditioning\", \"elevator\", \"patio or balcony\").count().show()"
   ]
  },
  {
   "cell_type": "markdown",
   "metadata": {},
   "source": [
    "## 6. Room Type:"
   ]
  },
  {
   "cell_type": "markdown",
   "metadata": {},
   "source": [
    "### Distribution of listings by Room Type:"
   ]
  },
  {
   "cell_type": "code",
   "execution_count": 57,
   "metadata": {},
   "outputs": [
    {
     "name": "stdout",
     "output_type": "stream",
     "text": [
      "+-----------------+-------------+\n",
      "|room_type_encoded|listing_count|\n",
      "+-----------------+-------------+\n",
      "|                2|        17324|\n",
      "|                1|         9168|\n",
      "|                0|          381|\n",
      "+-----------------+-------------+\n",
      "\n"
     ]
    }
   ],
   "source": [
    "df_mad.groupBy(\"room_type_encoded\") \\\n",
    "    .count() \\\n",
    "    .withColumnRenamed(\"count\", \"listing_count\") \\\n",
    "    .orderBy(\"listing_count\", ascending=False) \\\n",
    "    .show()"
   ]
  },
  {
   "cell_type": "markdown",
   "metadata": {},
   "source": [
    "### Average Price by Room Type:"
   ]
  },
  {
   "cell_type": "code",
   "execution_count": 58,
   "metadata": {},
   "outputs": [
    {
     "name": "stdout",
     "output_type": "stream",
     "text": [
      "+-----------------+------------------+\n",
      "|room_type_encoded|        avg(price)|\n",
      "+-----------------+------------------+\n",
      "|                2|162.75906257215425|\n",
      "|                0|104.83464566929133|\n",
      "|                1|  89.2969022687609|\n",
      "+-----------------+------------------+\n",
      "\n"
     ]
    }
   ],
   "source": [
    "df_mad.groupBy(\"room_type_encoded\").agg({\"price\": \"mean\"}).orderBy(\"avg(price)\", ascending=False).show()"
   ]
  },
  {
   "cell_type": "markdown",
   "metadata": {},
   "source": [
    "### Average Price by Room Type and Number of Bedroooms:"
   ]
  },
  {
   "cell_type": "code",
   "execution_count": 59,
   "metadata": {},
   "outputs": [
    {
     "name": "stdout",
     "output_type": "stream",
     "text": [
      "+-----------------+----------------+------------------+\n",
      "|room_type_encoded|bedrooms_encoded|         avg_price|\n",
      "+-----------------+----------------+------------------+\n",
      "|                0|               0|102.34840425531915|\n",
      "|                0|               1|             291.8|\n",
      "|                1|               0| 87.04648152506472|\n",
      "|                1|               1|117.84029850746269|\n",
      "|                2|               0|130.97321607035778|\n",
      "|                2|               1| 206.2202787646898|\n",
      "+-----------------+----------------+------------------+\n",
      "\n"
     ]
    }
   ],
   "source": [
    "df_mad.groupBy(\"room_type_encoded\", \"bedrooms_encoded\") \\\n",
    "    .agg({\"price\": \"avg\"}) \\\n",
    "    .withColumnRenamed(\"avg(price)\", \"avg_price\") \\\n",
    "    .orderBy(\"room_type_encoded\", \"bedrooms_encoded\") \\\n",
    "    .show()"
   ]
  },
  {
   "cell_type": "markdown",
   "metadata": {},
   "source": [
    "## 7. Host Analysis:\n",
    "### 7.1 Superhost vs. Price:"
   ]
  },
  {
   "cell_type": "code",
   "execution_count": 60,
   "metadata": {},
   "outputs": [
    {
     "name": "stdout",
     "output_type": "stream",
     "text": [
      "+-----------------+------------------+\n",
      "|host_is_superhost|        avg(price)|\n",
      "+-----------------+------------------+\n",
      "|                f|137.46706762505502|\n",
      "|                t|135.01168042361002|\n",
      "|                2|               5.0|\n",
      "+-----------------+------------------+\n",
      "\n"
     ]
    }
   ],
   "source": [
    "df_mad.groupBy(\"host_is_superhost\").agg({\"price\": \"mean\"}).orderBy(\"avg(price)\", ascending=False).show()"
   ]
  },
  {
   "cell_type": "markdown",
   "metadata": {},
   "source": [
    "### 7.2 Host Listings Count:"
   ]
  },
  {
   "cell_type": "code",
   "execution_count": 61,
   "metadata": {},
   "outputs": [
    {
     "name": "stdout",
     "output_type": "stream",
     "text": [
      "+------------------------------+------------------+\n",
      "|calculated_host_listings_count|        avg(price)|\n",
      "+------------------------------+------------------+\n",
      "|                            75|350.49333333333334|\n",
      "|                            10|287.97352941176473|\n",
      "|                            43|284.48837209302326|\n",
      "|                           115|280.04347826086956|\n",
      "|                            50|            267.08|\n",
      "|                            89| 227.1123595505618|\n",
      "|                            63|226.36507936507937|\n",
      "|                            36|215.01388888888889|\n",
      "|                            34|213.51470588235293|\n",
      "|                            59|203.38983050847457|\n",
      "|                           289|203.17301038062283|\n",
      "|                            47| 183.7659574468085|\n",
      "|                            30|178.23333333333332|\n",
      "|                            16|             174.5|\n",
      "|                            28| 173.6547619047619|\n",
      "|                           290|163.09310344827585|\n",
      "|                            23| 162.8695652173913|\n",
      "|                            35|161.71428571428572|\n",
      "|                            22| 161.2556818181818|\n",
      "|                            26|157.36263736263737|\n",
      "+------------------------------+------------------+\n",
      "only showing top 20 rows\n",
      "\n"
     ]
    }
   ],
   "source": [
    "df_mad.groupBy(\"calculated_host_listings_count\").agg({\"price\": \"mean\"}).orderBy(\"avg(price)\", ascending=False).show()"
   ]
  },
  {
   "cell_type": "markdown",
   "metadata": {},
   "source": [
    "## Geographic Distribution of Listings:"
   ]
  },
  {
   "cell_type": "code",
   "execution_count": 41,
   "metadata": {},
   "outputs": [],
   "source": [
    "# Collect latitude and longitude data for visualization\n",
    "geo_data = df_mad.select(\"latitude\", \"longitude\").toPandas()\n",
    "\n",
    "# Save to CSV or another format for use in visualization tools\n",
    "geo_data.to_csv(\"geographic_distribution.csv\", index=False)"
   ]
  },
  {
   "cell_type": "code",
   "execution_count": 90,
   "metadata": {},
   "outputs": [],
   "source": [
    "# Stop the Spark session\n",
    "spark.stop()"
   ]
  },
  {
   "cell_type": "code",
   "execution_count": null,
   "metadata": {},
   "outputs": [],
   "source": []
  }
 ],
 "metadata": {
  "kernelspec": {
   "display_name": "Python 3 (ipykernel)",
   "language": "python",
   "name": "python3"
  },
  "language_info": {
   "codemirror_mode": {
    "name": "ipython",
    "version": 3
   },
   "file_extension": ".py",
   "mimetype": "text/x-python",
   "name": "python",
   "nbconvert_exporter": "python",
   "pygments_lexer": "ipython3",
   "version": "3.9.6"
  }
 },
 "nbformat": 4,
 "nbformat_minor": 4
}
