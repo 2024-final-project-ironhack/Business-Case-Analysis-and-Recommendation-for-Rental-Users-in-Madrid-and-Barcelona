{
 "cells": [
  {
   "cell_type": "markdown",
   "metadata": {},
   "source": [
    "### Exploratory data analysis of Madrid"
   ]
  },
  {
   "cell_type": "markdown",
   "metadata": {},
   "source": [
    "In this section, we perform an Exploratory Data Analysis (EDA) on the Madrid dataset to understand the underlying patterns, trends, and characteristics of the rental market in the city. Given Madrid's significant influx of tourists, especially in central areas, this analysis aims to identify key factors influencing rental prices, occupancy rates, and the distribution of tourist accommodations.\n",
    "\n",
    "The EDA will explore various features, including location data, pricing trends, and the impact of amenities, to provide a comprehensive overview of the rental landscape in Madrid.\n",
    "\n",
    "Summary of the Content:\n",
    "\n",
    "1. Basic Descriptive Statistics\n",
    "\n",
    "2. Neighborhood Analysis\n",
    "\n",
    "    2.1 Top Neighborhoods\n",
    "    2.2 Average Price by Neighborhood\n",
    "\n",
    "3. Price Distribution\n",
    "\n",
    "4. Review Analysis\n",
    "\n",
    "    4.1 Distribution of Scores\n",
    "\n",
    "5. Amenities Analysis\n",
    "\n",
    "    5.1 Count of Listings with Specific Amenities\n",
    "\n",
    "6. Room Type vs. Price\n",
    "\n",
    "    6.1 Average Price by Room Type\n",
    "\n",
    "7. Host Analysis\n",
    "\n",
    "    7.1 Superhost vs. Price\n",
    "    7.2 Number of Listings per Host"
   ]
  },
  {
   "cell_type": "code",
   "execution_count": 9,
   "metadata": {},
   "outputs": [],
   "source": [
    "from pyspark.sql import SparkSession\n",
    "\n",
    "# Initialize Spark session\n",
    "spark = SparkSession.builder \\\n",
    "    .appName(\"Airbnb EDA\") \\\n",
    "    .getOrCreate()"
   ]
  },
  {
   "cell_type": "code",
   "execution_count": 10,
   "metadata": {},
   "outputs": [
    {
     "name": "stdout",
     "output_type": "stream",
     "text": [
      "+----------------------------+-------------------+--------------------+--------------------+---------+---------------+------------------------------+-----------------+-----------------+-------------------+-----+-------+----------------+--------+----------------+---------+----------+------------------+-----------------+--------------------+-----------------+----------------+\n",
      "|neighbourhood_group_cleansed|                 id|         listing_url|                name|  host_id|      host_name|calculated_host_listings_count|host_is_superhost|         latitude|          longitude|price|kitchen|patio or balcony|elevator|air conditioning|long_term|short_term|possible_long_term|number_of_reviews|review_scores_rating|room_type_encoded|bedrooms_encoded|\n",
      "+----------------------------+-------------------+--------------------+--------------------+---------+---------------+------------------------------+-----------------+-----------------+-------------------+-----+-------+----------------+--------+----------------+---------+----------+------------------+-----------------+--------------------+-----------------+----------------+\n",
      "|                      Retiro|1104967621421098322|https://www.airbn...|Habitación de luj...|565307927|       Carolina|                             1|                f|       40.4069796|         -3.6750154| 68.0|      0|               0|       0|               0|        0|         1|                 0|              2.0|                 4.5|                1|               0|\n",
      "|          Puente de Vallecas| 930941073152690361|https://www.airbn...|habitación para p...|442944608| Jonathan Jesus|                             2|                f|          40.3921|           -3.67003| 16.0|      0|               0|       0|               0|        0|         0|                 1|              3.0|                 5.0|                1|               0|\n",
      "|          Puente de Vallecas|           51647382|https://www.airbn...|Buenos Aires en M...|252336445|          Norma|                             2|                f|         40.39511|           -3.67143| 25.0|      1|               0|       0|               0|        0|         0|                 1|            186.0|                4.67|                1|               1|\n",
      "|                 Carabanchel|1026072412626070839|https://www.airbn...|Habitación Madrid...|545435841|     Gean Piero|                             1|                f|40.39555483922258|-3.7164371179819233| 26.0|      1|               0|       0|               0|        0|         0|                 1|              1.0|                 5.0|                1|               0|\n",
      "|                   Salamanca| 766423030884644417|https://www.airbn...|habitación para t...|  3882456|Gabriela CHÁVEZ|                             1|                f|         40.43045|            -3.6721|100.0|      1|               0|       0|               1|        0|         1|                 0|              0.0|                 0.0|                1|               0|\n",
      "+----------------------------+-------------------+--------------------+--------------------+---------+---------------+------------------------------+-----------------+-----------------+-------------------+-----+-------+----------------+--------+----------------+---------+----------+------------------+-----------------+--------------------+-----------------+----------------+\n",
      "only showing top 5 rows\n",
      "\n"
     ]
    }
   ],
   "source": [
    "# Load the cleaned data from the directory\n",
    "file_path = \"Datasets/Final_Cleaned_Dataset/mad_final_cleaned_date.csv\"\n",
    "\n",
    "df_mad = spark.read.csv(file_path, header=True, inferSchema=True, sep=';')\n",
    "\n",
    "df_mad.createOrReplaceTempView(\"airbnb_listings\")\n",
    "\n",
    "df_mad.show(5)"
   ]
  },
  {
   "cell_type": "code",
   "execution_count": 11,
   "metadata": {},
   "outputs": [
    {
     "name": "stdout",
     "output_type": "stream",
     "text": [
      "root\n",
      " |-- neighbourhood_group_cleansed: string (nullable = true)\n",
      " |-- id: long (nullable = true)\n",
      " |-- listing_url: string (nullable = true)\n",
      " |-- name: string (nullable = true)\n",
      " |-- host_id: string (nullable = true)\n",
      " |-- host_name: string (nullable = true)\n",
      " |-- calculated_host_listings_count: string (nullable = true)\n",
      " |-- host_is_superhost: string (nullable = true)\n",
      " |-- latitude: double (nullable = true)\n",
      " |-- longitude: double (nullable = true)\n",
      " |-- price: double (nullable = true)\n",
      " |-- kitchen: integer (nullable = true)\n",
      " |-- patio or balcony: integer (nullable = true)\n",
      " |-- elevator: integer (nullable = true)\n",
      " |-- air conditioning: integer (nullable = true)\n",
      " |-- long_term: integer (nullable = true)\n",
      " |-- short_term: integer (nullable = true)\n",
      " |-- possible_long_term: integer (nullable = true)\n",
      " |-- number_of_reviews: double (nullable = true)\n",
      " |-- review_scores_rating: double (nullable = true)\n",
      " |-- room_type_encoded: integer (nullable = true)\n",
      " |-- bedrooms_encoded: integer (nullable = true)\n",
      "\n"
     ]
    }
   ],
   "source": [
    "# Display the schema to verify data types\n",
    "df_mad.printSchema()"
   ]
  },
  {
   "cell_type": "code",
   "execution_count": 12,
   "metadata": {},
   "outputs": [
    {
     "name": "stderr",
     "output_type": "stream",
     "text": [
      "24/08/23 22:17:05 WARN SparkStringUtils: Truncated the string representation of a plan since it was too large. This behavior can be adjusted by setting 'spark.sql.debug.maxToStringFields'.\n",
      "[Stage 15:=============================>                            (1 + 1) / 2]\r"
     ]
    },
    {
     "name": "stdout",
     "output_type": "stream",
     "text": [
      "+-------+----------------------------+--------------------+--------------------+--------------------+--------------------+--------------+------------------------------+-----------------+-------------------+-------------------+-----------------+-------------------+-------------------+-------------------+------------------+--------------------+------------------+-------------------+------------------+--------------------+------------------+-------------------+\n",
      "|summary|neighbourhood_group_cleansed|                  id|         listing_url|                name|             host_id|     host_name|calculated_host_listings_count|host_is_superhost|           latitude|          longitude|            price|            kitchen|   patio or balcony|           elevator|  air conditioning|           long_term|        short_term| possible_long_term| number_of_reviews|review_scores_rating| room_type_encoded|   bedrooms_encoded|\n",
      "+-------+----------------------------+--------------------+--------------------+--------------------+--------------------+--------------+------------------------------+-----------------+-------------------+-------------------+-----------------+-------------------+-------------------+-------------------+------------------+--------------------+------------------+-------------------+------------------+--------------------+------------------+-------------------+\n",
      "|  count|                       26873|               26873|               26873|               26873|               26765|         26765|                         26765|            26765|              26765|              26765|            26765|              26765|              26765|              26765|             26765|               26765|             26765|              26765|             26765|               26765|             26765|              26764|\n",
      "|   mean|                        NULL|5.276244191458248...|                NULL|                NULL|2.3795029332887462E8|           1.0|            27.671499028545806|         40.43926| 40.419970140335685|-3.6891121708852643|136.8807771343172| 0.9066317952549972|0.21457126844759947|0.44098636278722214|0.5877078273865123|0.024360171866243226|0.1529983186997945| 0.8551840089669345|44.096166635531475|   3.650783485895769|1.6296282458434523|0.29752652817217157|\n",
      "| stddev|                        NULL|4.833383434416566...|                NULL|                NULL| 1.955046206541023E8|          NULL|             62.28250242214635|             NULL|0.27056898172393834|  0.811563903701188|269.0122879453736|0.29095316795001974| 0.4105322595267575| 0.4965144523633816|0.4922564275812706|  0.1541675773465921|0.3599926042580219|0.45622503222777044| 83.49385005383789|  1.9611256892786988|0.5115430690589486|0.45717863320896557|\n",
      "|    min|                  Arganzuela|               21853|https://www.airbn...|!!! LAST MINUTE !...|           100028019|      (Mateo )|                             1|         40.43926|            -3.6756|-3.8330714277148017|              1.0|                  0|                  0|                  0|                 0|                   0|                 0|                  0|               0.0|                 0.0|                 0|                  0|\n",
      "|    max|                  Villaverde| 1178999049049764954|https://www.airbn...|🔑🔑🔑Deyanira 59...|               Susan|马德里欧拉旅社|                             f|                t|           40.53553|              129.0|          21000.0|                  1|                  1|                  1|                 1|                   1|                 1|                 48|            1060.0|                 5.0|                 2|                  1|\n",
      "+-------+----------------------------+--------------------+--------------------+--------------------+--------------------+--------------+------------------------------+-----------------+-------------------+-------------------+-----------------+-------------------+-------------------+-------------------+------------------+--------------------+------------------+-------------------+------------------+--------------------+------------------+-------------------+\n",
      "\n"
     ]
    },
    {
     "name": "stderr",
     "output_type": "stream",
     "text": [
      "                                                                                \r"
     ]
    }
   ],
   "source": [
    "df_mad.describe().show()"
   ]
  },
  {
   "cell_type": "markdown",
   "metadata": {},
   "source": [
    "## Summary of Columns:\n",
    "    neighbourhood_group_cleansed: The neighborhood where the listing is located.\n",
    "    id: Unique identifier for the listing.\n",
    "    listing_url: URL of the listing.\n",
    "    name: Name of the listing.\n",
    "    host_id: Unique identifier for the host.\n",
    "    host_name: Name of the host.\n",
    "    calculated_host_listings_count: Number of listings managed by the host.\n",
    "    host_is_superhost: Whether the host is a superhost (a trusted, highly-rated host).\n",
    "    latitude & longitude: Geographic coordinates of the listing.\n",
    "    price: Price per night for the listing.\n",
    "    kitchen: Indicates if the listing has a kitchen.\n",
    "    patio or balcony, elevator, air conditioning: Amenities available in the listing.\n",
    "    long_term, short_term, possible_long_term: Indicates if the listing is available for long or short term.\n",
    "    number_of_reviews: Number of reviews the listing has received.\n",
    "    review_scores_rating: Average rating of the listing.\n",
    "    room_type_encoded: Encoded value representing the type of room (e.g., entire home, private room).\n",
    "    bedrooms_encoded: Encoded value indicating if the listing has more than one bedroom."
   ]
  },
  {
   "cell_type": "code",
   "execution_count": 13,
   "metadata": {},
   "outputs": [
    {
     "data": {
      "text/plain": [
       "['neighbourhood_group_cleansed',\n",
       " 'id',\n",
       " 'listing_url',\n",
       " 'name',\n",
       " 'host_id',\n",
       " 'host_name',\n",
       " 'calculated_host_listings_count',\n",
       " 'host_is_superhost',\n",
       " 'latitude',\n",
       " 'longitude',\n",
       " 'price',\n",
       " 'kitchen',\n",
       " 'patio or balcony',\n",
       " 'elevator',\n",
       " 'air conditioning',\n",
       " 'long_term',\n",
       " 'short_term',\n",
       " 'possible_long_term',\n",
       " 'number_of_reviews',\n",
       " 'review_scores_rating',\n",
       " 'room_type_encoded',\n",
       " 'bedrooms_encoded']"
      ]
     },
     "execution_count": 13,
     "metadata": {},
     "output_type": "execute_result"
    }
   ],
   "source": [
    "df_mad.columns"
   ]
  },
  {
   "cell_type": "markdown",
   "metadata": {},
   "source": [
    "## 1. Basic Descriptive Statistics:"
   ]
  },
  {
   "cell_type": "code",
   "execution_count": 14,
   "metadata": {},
   "outputs": [
    {
     "name": "stdout",
     "output_type": "stream",
     "text": [
      "+-------+-----------------+------------------+--------------------+\n",
      "|summary|            price| number_of_reviews|review_scores_rating|\n",
      "+-------+-----------------+------------------+--------------------+\n",
      "|  count|            26765|             26765|               26765|\n",
      "|   mean|136.8807771343172|44.096166635531475|   3.650783485895769|\n",
      "| stddev|269.0122879453736| 83.49385005383789|  1.9611256892786988|\n",
      "|    min|              1.0|               0.0|                 0.0|\n",
      "|    max|          21000.0|            1060.0|                 5.0|\n",
      "+-------+-----------------+------------------+--------------------+\n",
      "\n"
     ]
    }
   ],
   "source": [
    "# Get an overview of numeric columns such as price, number_of_reviews, and review_scores_rating\n",
    "df_mad.describe([\"price\", \"number_of_reviews\", \"review_scores_rating\"]).show()"
   ]
  },
  {
   "cell_type": "markdown",
   "metadata": {},
   "source": [
    "## 2. Neighborhood Analysis:\n",
    "### 2.1 Top Neighborhoods by Listing Count:"
   ]
  },
  {
   "cell_type": "code",
   "execution_count": 15,
   "metadata": {},
   "outputs": [
    {
     "name": "stdout",
     "output_type": "stream",
     "text": [
      "+----------------------------+-----+\n",
      "|neighbourhood_group_cleansed|count|\n",
      "+----------------------------+-----+\n",
      "|                      Centro|11282|\n",
      "|                    Chamberí| 1800|\n",
      "|                   Salamanca| 1733|\n",
      "|                      Tetuán| 1605|\n",
      "|                  Arganzuela| 1404|\n",
      "|                 Carabanchel|  988|\n",
      "|                      Retiro|  941|\n",
      "|               Ciudad Lineal|  925|\n",
      "|                   Chamartín|  868|\n",
      "|          Puente de Vallecas|  823|\n",
      "|                      Latina|  773|\n",
      "|           Moncloa - Aravaca|  727|\n",
      "|                       Usera|  610|\n",
      "|        San Blas - Canill...|  584|\n",
      "|                   Hortaleza|  531|\n",
      "|        Fuencarral - El P...|  412|\n",
      "|                  Villaverde|  260|\n",
      "|                   Moratalaz|  195|\n",
      "|                     Barajas|  195|\n",
      "|           Villa de Vallecas|  134|\n",
      "+----------------------------+-----+\n",
      "only showing top 20 rows\n",
      "\n"
     ]
    }
   ],
   "source": [
    "df_mad.groupBy(\"neighbourhood_group_cleansed\").count().orderBy(\"count\", ascending=False).show()"
   ]
  },
  {
   "cell_type": "markdown",
   "metadata": {},
   "source": [
    "### 2.2 Average Price by Neighborhood:"
   ]
  },
  {
   "cell_type": "code",
   "execution_count": 16,
   "metadata": {},
   "outputs": [
    {
     "name": "stdout",
     "output_type": "stream",
     "text": [
      "+----------------------------+------------------+\n",
      "|neighbourhood_group_cleansed|        avg(price)|\n",
      "+----------------------------+------------------+\n",
      "|                   Salamanca|176.63678426836321|\n",
      "|                      Centro|157.34260001782056|\n",
      "|                      Tetuán|145.87272727272727|\n",
      "|                   Hortaleza|143.12428298279158|\n",
      "|                  Arganzuela|141.11903064861013|\n",
      "|                   Chamartín| 129.1600928074246|\n",
      "|                    Chamberí|127.65850945494995|\n",
      "|        San Blas - Canill...|125.90051457975986|\n",
      "|                      Retiro|122.35501066098081|\n",
      "|           Moncloa - Aravaca|121.35399449035813|\n",
      "|          Puente de Vallecas|112.09268292682927|\n",
      "|                     Barajas|100.93333333333334|\n",
      "|               Ciudad Lineal| 98.63636363636364|\n",
      "|        Fuencarral - El P...| 95.38199513381996|\n",
      "|                 Carabanchel| 82.37348178137651|\n",
      "|                       Usera| 73.89638157894737|\n",
      "|           Villa de Vallecas| 72.67164179104478|\n",
      "|                   Moratalaz| 71.96410256410256|\n",
      "|                  Villaverde| 71.86153846153846|\n",
      "|                      Latina| 69.68489583333333|\n",
      "+----------------------------+------------------+\n",
      "only showing top 20 rows\n",
      "\n"
     ]
    }
   ],
   "source": [
    "df_mad.groupBy(\"neighbourhood_group_cleansed\").agg({\"price\": \"mean\"}).orderBy(\"avg(price)\", ascending=False).show()"
   ]
  },
  {
   "cell_type": "markdown",
   "metadata": {},
   "source": [
    "## 3. Price Distribution:"
   ]
  },
  {
   "cell_type": "code",
   "execution_count": 17,
   "metadata": {},
   "outputs": [
    {
     "name": "stdout",
     "output_type": "stream",
     "text": [
      "+-------+-----------------+\n",
      "|summary|            price|\n",
      "+-------+-----------------+\n",
      "|  count|            26765|\n",
      "|   mean|136.8807771343172|\n",
      "| stddev|269.0122879453736|\n",
      "|    min|              1.0|\n",
      "|    25%|             70.0|\n",
      "|    50%|            112.0|\n",
      "|    75%|            157.0|\n",
      "|    max|          21000.0|\n",
      "+-------+-----------------+\n",
      "\n"
     ]
    }
   ],
   "source": [
    "df_mad.select(\"price\").summary().show()"
   ]
  },
  {
   "cell_type": "markdown",
   "metadata": {
    "vscode": {
     "languageId": "bat"
    }
   },
   "source": [
    "## 4.  Review Analysis:\n",
    "### 4.1 Review Scores Distribution:"
   ]
  },
  {
   "cell_type": "code",
   "execution_count": 18,
   "metadata": {},
   "outputs": [
    {
     "name": "stdout",
     "output_type": "stream",
     "text": [
      "+--------------------+-----+\n",
      "|review_scores_rating|count|\n",
      "+--------------------+-----+\n",
      "|                NULL|  108|\n",
      "|                 0.0| 5816|\n",
      "|                 1.0|   71|\n",
      "|                 1.5|    2|\n",
      "|                1.67|    1|\n",
      "|                1.75|    1|\n",
      "|                 2.0|   62|\n",
      "|                2.33|    2|\n",
      "|                 2.4|    1|\n",
      "|                 2.5|   24|\n",
      "|                 2.6|    1|\n",
      "|                2.67|    6|\n",
      "|                2.86|    1|\n",
      "|                 3.0|  142|\n",
      "|                3.13|    1|\n",
      "|                3.14|    1|\n",
      "|                3.17|    3|\n",
      "|                 3.2|    4|\n",
      "|                3.22|    1|\n",
      "|                3.25|   11|\n",
      "+--------------------+-----+\n",
      "only showing top 20 rows\n",
      "\n"
     ]
    }
   ],
   "source": [
    "df_mad.groupBy(\"review_scores_rating\").count().orderBy(\"review_scores_rating\").show()"
   ]
  },
  {
   "cell_type": "code",
   "execution_count": 19,
   "metadata": {},
   "outputs": [
    {
     "name": "stdout",
     "output_type": "stream",
     "text": [
      "+----------------------------+-------------------------+\n",
      "|neighbourhood_group_cleansed|avg(review_scores_rating)|\n",
      "+----------------------------+-------------------------+\n",
      "|                      Centro|        3.892414684130801|\n",
      "|                   Hortaleza|       3.7833078393881463|\n",
      "|                  Arganzuela|        3.743799002138276|\n",
      "|          Puente de Vallecas|       3.6840975609756104|\n",
      "|                      Retiro|        3.653518123667379|\n",
      "|                     Barajas|       3.6524615384615378|\n",
      "|                      Latina|        3.593059895833338|\n",
      "|                 Carabanchel|        3.591072874493933|\n",
      "|               Ciudad Lineal|       3.5661363636363643|\n",
      "|                      Tetuán|        3.534714733542326|\n",
      "|                   Salamanca|       3.4501098901098883|\n",
      "|                       Usera|         3.43199013157895|\n",
      "|        Fuencarral - El P...|        3.429878345498783|\n",
      "|           Moncloa - Aravaca|        3.400303030303032|\n",
      "|                   Chamartín|        3.388004640371231|\n",
      "|           Villa de Vallecas|        3.361194029850746|\n",
      "|                   Moratalaz|        3.328307692307692|\n",
      "|                  Villaverde|        3.216038461538462|\n",
      "|        San Blas - Canill...|        3.211783876500856|\n",
      "|                   Vicálvaro|        3.197317073170731|\n",
      "+----------------------------+-------------------------+\n",
      "only showing top 20 rows\n",
      "\n"
     ]
    }
   ],
   "source": [
    "# 4.2 Average Review Scores by Neighborhood:\n",
    "df_mad.groupBy(\"neighbourhood_group_cleansed\").agg({\"review_scores_rating\": \"mean\"}).orderBy(\"avg(review_scores_rating)\", ascending=False).show()"
   ]
  },
  {
   "cell_type": "code",
   "execution_count": 20,
   "metadata": {},
   "outputs": [
    {
     "name": "stdout",
     "output_type": "stream",
     "text": [
      "+--------------------+\n",
      "|         correlation|\n",
      "+--------------------+\n",
      "|-0.01622024258685433|\n",
      "+--------------------+\n",
      "\n"
     ]
    }
   ],
   "source": [
    "# There is no correlation between price and number of reviews\n",
    "\n",
    "from pyspark.sql.functions import corr\n",
    "\n",
    "df_mad.select(corr(\"price\", \"number_of_reviews\").alias(\"correlation\")).show()"
   ]
  },
  {
   "cell_type": "markdown",
   "metadata": {},
   "source": [
    "## 5.  Amenities Analysis:\n",
    "### Count of Listings with Specific Amenities:"
   ]
  },
  {
   "cell_type": "code",
   "execution_count": 21,
   "metadata": {},
   "outputs": [
    {
     "name": "stdout",
     "output_type": "stream",
     "text": [
      "+-------+----------------+--------+----------------+-----+\n",
      "|kitchen|air conditioning|elevator|patio or balcony|count|\n",
      "+-------+----------------+--------+----------------+-----+\n",
      "|      0|               0|       0|               1|   95|\n",
      "|      1|               0|       1|               1| 1094|\n",
      "|      1|               1|       0|               0| 6111|\n",
      "|      1|               1|       1|               1| 2091|\n",
      "|      0|               1|       0|               1|   60|\n",
      "|      0|               0|       0|               0|  703|\n",
      "|   NULL|            NULL|    NULL|            NULL|  108|\n",
      "|      1|               0|       0|               0| 5069|\n",
      "|      0|               1|       1|               0|  496|\n",
      "|      0|               0|       1|               1|   94|\n",
      "|      0|               1|       1|               1|   54|\n",
      "|      0|               0|       1|               0|  328|\n",
      "|      0|               1|       0|               0|  669|\n",
      "|      1|               0|       0|               1|  999|\n",
      "|      1|               0|       1|               0| 2653|\n",
      "|      1|               1|       1|               0| 4993|\n",
      "|      1|               1|       0|               1| 1256|\n",
      "+-------+----------------+--------+----------------+-----+\n",
      "\n"
     ]
    }
   ],
   "source": [
    "df_mad.groupBy(\"kitchen\", \"air conditioning\", \"elevator\", \"patio or balcony\").count().show()"
   ]
  },
  {
   "cell_type": "markdown",
   "metadata": {},
   "source": [
    "## 6. Room Type:"
   ]
  },
  {
   "cell_type": "markdown",
   "metadata": {},
   "source": [
    "### Distribution of listings by Room Type:"
   ]
  },
  {
   "cell_type": "code",
   "execution_count": 22,
   "metadata": {},
   "outputs": [
    {
     "name": "stdout",
     "output_type": "stream",
     "text": [
      "+-----------------+-------------+\n",
      "|room_type_encoded|listing_count|\n",
      "+-----------------+-------------+\n",
      "|                2|        17233|\n",
      "|                1|         9151|\n",
      "|                0|          381|\n",
      "|             NULL|          108|\n",
      "+-----------------+-------------+\n",
      "\n"
     ]
    }
   ],
   "source": [
    "df_mad.groupBy(\"room_type_encoded\") \\\n",
    "    .count() \\\n",
    "    .withColumnRenamed(\"count\", \"listing_count\") \\\n",
    "    .orderBy(\"listing_count\", ascending=False) \\\n",
    "    .show()"
   ]
  },
  {
   "cell_type": "markdown",
   "metadata": {},
   "source": [
    "### Average Price by Room Type:"
   ]
  },
  {
   "cell_type": "code",
   "execution_count": 23,
   "metadata": {},
   "outputs": [
    {
     "name": "stdout",
     "output_type": "stream",
     "text": [
      "+-----------------+-----------------+\n",
      "|room_type_encoded|       avg(price)|\n",
      "+-----------------+-----------------+\n",
      "|                2|162.8450066732432|\n",
      "|                0|104.8241469816273|\n",
      "|                1| 89.3200743088187|\n",
      "|             NULL|             NULL|\n",
      "+-----------------+-----------------+\n",
      "\n"
     ]
    }
   ],
   "source": [
    "df_mad.groupBy(\"room_type_encoded\").agg({\"price\": \"mean\"}).orderBy(\"avg(price)\", ascending=False).show()"
   ]
  },
  {
   "cell_type": "markdown",
   "metadata": {},
   "source": [
    "### Average Price by Room Type and Number of Bedroooms:"
   ]
  },
  {
   "cell_type": "code",
   "execution_count": 24,
   "metadata": {},
   "outputs": [
    {
     "name": "stdout",
     "output_type": "stream",
     "text": [
      "+-----------------+----------------+-----------------+\n",
      "|room_type_encoded|bedrooms_encoded|        avg_price|\n",
      "+-----------------+----------------+-----------------+\n",
      "|             NULL|            NULL|             NULL|\n",
      "|                0|            NULL|              1.0|\n",
      "|                0|               0|          102.608|\n",
      "|                0|               1|            291.8|\n",
      "|                1|               0|87.04572775486152|\n",
      "|                1|               1|118.2957957957958|\n",
      "|                2|               0|131.0345035710693|\n",
      "|                2|               1|206.2114646187603|\n",
      "+-----------------+----------------+-----------------+\n",
      "\n"
     ]
    }
   ],
   "source": [
    "df_mad.groupBy(\"room_type_encoded\", \"bedrooms_encoded\") \\\n",
    "    .agg({\"price\": \"avg\"}) \\\n",
    "    .withColumnRenamed(\"avg(price)\", \"avg_price\") \\\n",
    "    .orderBy(\"room_type_encoded\", \"bedrooms_encoded\") \\\n",
    "    .show()"
   ]
  },
  {
   "cell_type": "markdown",
   "metadata": {},
   "source": [
    "## 7. Host Analysis:\n",
    "### 7.1 Superhost vs. Price:"
   ]
  },
  {
   "cell_type": "code",
   "execution_count": 25,
   "metadata": {},
   "outputs": [
    {
     "name": "stdout",
     "output_type": "stream",
     "text": [
      "+-----------------+-----------------+\n",
      "|host_is_superhost|       avg(price)|\n",
      "+-----------------+-----------------+\n",
      "|                f|137.4596291572648|\n",
      "|                t|135.0518971464409|\n",
      "|         40.43926|              1.0|\n",
      "|             NULL|             NULL|\n",
      "+-----------------+-----------------+\n",
      "\n"
     ]
    }
   ],
   "source": [
    "df_mad.groupBy(\"host_is_superhost\").agg({\"price\": \"mean\"}).orderBy(\"avg(price)\", ascending=False).show()"
   ]
  },
  {
   "cell_type": "markdown",
   "metadata": {},
   "source": [
    "### 7.2 Host Listings Count:"
   ]
  },
  {
   "cell_type": "code",
   "execution_count": 26,
   "metadata": {},
   "outputs": [
    {
     "name": "stdout",
     "output_type": "stream",
     "text": [
      "+------------------------------+------------------+\n",
      "|calculated_host_listings_count|        avg(price)|\n",
      "+------------------------------+------------------+\n",
      "|                            75|350.49333333333334|\n",
      "|                            10|288.82440476190476|\n",
      "|                            43|284.48837209302326|\n",
      "|                           115|  281.302752293578|\n",
      "|                            50|            267.08|\n",
      "|                            89| 227.1123595505618|\n",
      "|                            63|226.36507936507937|\n",
      "|                            36|215.01388888888889|\n",
      "|                            34|213.51470588235293|\n",
      "|                            59|203.38983050847457|\n",
      "|                           289|203.17301038062283|\n",
      "|                            47| 183.7659574468085|\n",
      "|                            30|178.23333333333332|\n",
      "|                            28|174.74698795180723|\n",
      "|                            16|             174.5|\n",
      "|                            23|             171.0|\n",
      "|                           290|163.09310344827585|\n",
      "|                            35|161.71428571428572|\n",
      "|                            22| 161.2556818181818|\n",
      "|                            26|157.36263736263737|\n",
      "+------------------------------+------------------+\n",
      "only showing top 20 rows\n",
      "\n"
     ]
    }
   ],
   "source": [
    "df_mad.groupBy(\"calculated_host_listings_count\").agg({\"price\": \"mean\"}).orderBy(\"avg(price)\", ascending=False).show()"
   ]
  },
  {
   "cell_type": "markdown",
   "metadata": {},
   "source": [
    "## Geographic Distribution of Listings:"
   ]
  },
  {
   "cell_type": "code",
   "execution_count": 27,
   "metadata": {},
   "outputs": [],
   "source": [
    "# Collect latitude and longitude data for visualization\n",
    "geo_data = df_mad.select(\"latitude\", \"longitude\").toPandas()\n",
    "\n",
    "# Save to CSV or another format for use in visualization tools\n",
    "geo_data.to_csv(\"geographic_distribution.csv\", index=False)"
   ]
  },
  {
   "cell_type": "code",
   "execution_count": 28,
   "metadata": {},
   "outputs": [],
   "source": [
    "# Stop the Spark session\n",
    "spark.stop()"
   ]
  }
 ],
 "metadata": {
  "kernelspec": {
   "display_name": "Python 3 (ipykernel)",
   "language": "python",
   "name": "python3"
  },
  "language_info": {
   "codemirror_mode": {
    "name": "ipython",
    "version": 3
   },
   "file_extension": ".py",
   "mimetype": "text/x-python",
   "name": "python",
   "nbconvert_exporter": "python",
   "pygments_lexer": "ipython3",
   "version": "3.12.3"
  }
 },
 "nbformat": 4,
 "nbformat_minor": 4
}
