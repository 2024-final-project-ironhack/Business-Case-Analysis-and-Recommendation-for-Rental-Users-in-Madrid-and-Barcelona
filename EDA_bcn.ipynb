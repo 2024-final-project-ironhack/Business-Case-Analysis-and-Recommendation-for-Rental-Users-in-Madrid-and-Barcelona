{
 "cells": [
  {
   "cell_type": "markdown",
   "metadata": {
    "vscode": {
     "languageId": "plaintext"
    }
   },
   "source": [
    "### Exploratory data analysis of Barcelona"
   ]
  },
  {
   "cell_type": "markdown",
   "metadata": {},
   "source": [
    "In this section, we perform an Exploratory Data Analysis (EDA) on the Barcelona dataset to understand the underlying patterns, trends, and characteristics of the rental market in the city. Given Barcelona's significant influx of tourists, especially in central areas, this analysis aims to identify key factors influencing rental prices, occupancy rates, and the distribution of tourist accommodations.\n",
    "\n",
    "The EDA will explore various features, including location data, pricing trends, and the impact of amenities, to provide a comprehensive overview of the rental landscape in Barcelona.\n",
    "\n",
    "Summary of the Content:\n",
    "\n",
    "1.Basic Descriptive Statistics\n",
    "\n",
    "2.Neighborhood Analysis\n",
    "\n",
    "    2.1. Top Neighborhoods\n",
    "    2.2. Average Price by Neighborhood\n",
    "\n",
    "3.Price Distribution\n",
    "\n",
    "4.Review Analysis\n",
    "\n",
    "    4.1. Distribution of Scores\n",
    "\n",
    "5.Amenities Analysis\n",
    "\n",
    "    5.1. Count of Listings with Specific Amenities\n",
    "\n",
    "6.Room Type vs. Price\n",
    "\n",
    "    6.1. Average Price by Room Type\n",
    "\n",
    "7.Host Analysis\n",
    "\n",
    "    7.1. Superhost vs. Price\n",
    "    7.2. Number of Listings per Host\n",
    "\n"
   ]
  },
  {
   "cell_type": "code",
   "execution_count": 1,
   "metadata": {},
   "outputs": [
    {
     "name": "stderr",
     "output_type": "stream",
     "text": [
      "24/08/17 10:05:27 WARN Utils: Your hostname, Mengges-MacBook-Pro.local resolves to a loopback address: 127.0.0.1; using 192.168.1.130 instead (on interface en0)\n",
      "24/08/17 10:05:27 WARN Utils: Set SPARK_LOCAL_IP if you need to bind to another address\n",
      "Setting default log level to \"WARN\".\n",
      "To adjust logging level use sc.setLogLevel(newLevel). For SparkR, use setLogLevel(newLevel).\n",
      "24/08/17 10:05:27 WARN NativeCodeLoader: Unable to load native-hadoop library for your platform... using builtin-java classes where applicable\n"
     ]
    }
   ],
   "source": [
    "from pyspark.sql import SparkSession\n",
    "\n",
    "spark = SparkSession.builder.appName(\"AirbnbListingsAnalysis\").getOrCreate()"
   ]
  },
  {
   "cell_type": "code",
   "execution_count": 4,
   "metadata": {},
   "outputs": [
    {
     "name": "stdout",
     "output_type": "stream",
     "text": [
      "+----------------------------+------+--------------------+--------------------+-------+--------------+------------------------------+-----------------+-----------------+-----------------+-----+-------+----------------+--------+----------------+---------+----------+------------------+-----------------+--------------------+-----------------+----------------+\n",
      "|neighbourhood_group_cleansed|    id|         listing_url|                name|host_id|     host_name|calculated_host_listings_count|host_is_superhost|         latitude|        longitude|price|kitchen|patio or balcony|elevator|air conditioning|long_term|short_term|possible_long_term|number_of_reviews|review_scores_rating|room_type_encoded|bedrooms_encoded|\n",
      "+----------------------------+------+--------------------+--------------------+-------+--------------+------------------------------+-----------------+-----------------+-----------------+-----+-------+----------------+--------+----------------+---------+----------+------------------+-----------------+--------------------+-----------------+----------------+\n",
      "|                    Eixample|269467|https://www.airbn...|Sunny and quiet L...|1411775|      Jeremies|                             3|                f|         41.40181|           2.1761|176.0|      1|               1|       0|               1|        0|         0|                 1|               90|                4.74|                2|               0|\n",
      "|                Ciutat Vella|270197|https://www.airbn...|*monthly stays* 4...|1414702|        Ferran|                            27|                f|         41.37936|          2.17376| 74.0|      1|               0|       0|               0|        1|         0|                 1|                2|                 4.0|                2|               1|\n",
      "|                    Eixample| 18674|https://www.airbn...|Huge flat for 8 p...|  71615| Mireia  Maria|                            27|                f|         41.40556|          2.17262|257.0|      1|               1|       1|               0|        0|         0|                 1|               41|                4.35|                2|               1|\n",
      "|                    Eixample|272282|https://www.airbn...|CHARMING; VERY SP...|1425070|           Mar|                             1|                t|         41.38347|          2.15802|239.0|      1|               1|       1|               1|        0|         0|                 1|              414|                4.92|                2|               1|\n",
      "|                  Sant Martí| 23197|https://www.airbn...|Forum CCIB DeLuxe...|  90417|Etain (Marnie)|                             1|                f|41.41243172529066|2.219750335269476|249.0|      1|               1|       1|               0|        0|         0|                 1|               78|                4.79|                2|               1|\n",
      "+----------------------------+------+--------------------+--------------------+-------+--------------+------------------------------+-----------------+-----------------+-----------------+-----+-------+----------------+--------+----------------+---------+----------+------------------+-----------------+--------------------+-----------------+----------------+\n",
      "only showing top 5 rows\n",
      "\n"
     ]
    }
   ],
   "source": [
    "# Load dataset\n",
    "file_path = 'Datasets/Final_cleaned_dataset/bcn_final_cleaned_data_csv.csv'\n",
    "\n",
    "# Load the cleaned data\n",
    "df_bcn = spark.read.csv(file_path, sep=\";\", header=True, inferSchema=True)\n",
    "\n",
    "# Display the schema to verify data types\n",
    "# df_bcn.printSchema()\n",
    "df_bcn.show(5)\n"
   ]
  },
  {
   "cell_type": "markdown",
   "metadata": {},
   "source": [
    "## Summary of Columns:\n",
    "    neighbourhood_group_cleansed: The neighborhood where the listing is located.\n",
    "    id: Unique identifier for the listing.\n",
    "    listing_url: URL of the listing.\n",
    "    name: Name of the listing.\n",
    "    host_id: Unique identifier for the host.\n",
    "    host_name: Name of the host.\n",
    "    calculated_host_listings_count: Number of listings managed by the host.\n",
    "    host_is_superhost: Whether the host is a superhost (a trusted, highly-rated host).\n",
    "    latitude & longitude: Geographic coordinates of the listing.\n",
    "    price: Price per night for the listing.\n",
    "    kitchen: Indicates if the listing has a kitchen.\n",
    "    patio or balcony, elevator, air conditioning: Amenities available in the listing.\n",
    "    long_term, short_term, possible_long_term: Indicates if the listing is available for long or short term.\n",
    "    number_of_reviews: Number of reviews the listing has received.\n",
    "    review_scores_rating: Average rating of the listing.\n",
    "    room_type_encoded: Encoded value representing the type of room (e.g., entire home, private room).\n",
    "    bedrooms_encoded: Encoded value indicating if the listing has more than one bedroom."
   ]
  },
  {
   "cell_type": "markdown",
   "metadata": {},
   "source": [
    "## 1. Basic Descriptive Statistics:"
   ]
  },
  {
   "cell_type": "code",
   "execution_count": 5,
   "metadata": {},
   "outputs": [
    {
     "name": "stdout",
     "output_type": "stream",
     "text": [
      "+-------+------------------+-----------------+--------------------+\n",
      "|summary|             price|number_of_reviews|review_scores_rating|\n",
      "+-------+------------------+-----------------+--------------------+\n",
      "|  count|             18773|            18773|               18773|\n",
      "|   mean|195.56352207958238|46.75763063974858|   3.438658179300036|\n",
      "| stddev|294.99165058230136|96.78660650621215|  2.0380977270379357|\n",
      "|    min|              10.0|                0|                 0.0|\n",
      "|    max|           13714.0|             2121|                 5.0|\n",
      "+-------+------------------+-----------------+--------------------+\n",
      "\n"
     ]
    }
   ],
   "source": [
    "# Get an overview of numeric columns such as price, number_of_reviews, and review_scores_rating.\n",
    "df_bcn.describe([\"price\", \"number_of_reviews\", \"review_scores_rating\"]).show()\n"
   ]
  },
  {
   "cell_type": "markdown",
   "metadata": {},
   "source": [
    "## 2. Neighborhood Analysis:\n",
    "### 2.1 Top Neighborhoods by Listing Count:"
   ]
  },
  {
   "cell_type": "code",
   "execution_count": 6,
   "metadata": {},
   "outputs": [
    {
     "name": "stdout",
     "output_type": "stream",
     "text": [
      "+----------------------------+-----+\n",
      "|neighbourhood_group_cleansed|count|\n",
      "+----------------------------+-----+\n",
      "|                    Eixample| 6692|\n",
      "|                Ciutat Vella| 4390|\n",
      "|              Sants-Montjuïc| 1969|\n",
      "|                  Sant Martí| 1745|\n",
      "|                      Gràcia| 1573|\n",
      "|         Sarrià-Sant Gervasi|  988|\n",
      "|              Horta-Guinardó|  557|\n",
      "|                   Les Corts|  403|\n",
      "|                 Sant Andreu|  316|\n",
      "|                  Nou Barris|  224|\n",
      "+----------------------------+-----+\n",
      "\n"
     ]
    }
   ],
   "source": [
    "df_bcn.groupBy(\"neighbourhood_group_cleansed\").count().orderBy(\"count\", ascending=False).show()"
   ]
  },
  {
   "cell_type": "markdown",
   "metadata": {},
   "source": [
    "### 2.2 Average Price by Neighborhood:"
   ]
  },
  {
   "cell_type": "code",
   "execution_count": 7,
   "metadata": {},
   "outputs": [
    {
     "name": "stdout",
     "output_type": "stream",
     "text": [
      "+----------------------------+------------------+\n",
      "|neighbourhood_group_cleansed|        avg(price)|\n",
      "+----------------------------+------------------+\n",
      "|                    Eixample|238.89269098003902|\n",
      "|                      Gràcia|194.56741214057507|\n",
      "|                  Sant Martí|193.31805157593124|\n",
      "|              Sants-Montjuïc| 189.4425140521206|\n",
      "|                Ciutat Vella|166.53377604762994|\n",
      "|         Sarrià-Sant Gervasi|164.52385786802031|\n",
      "|                   Les Corts|156.82133995037222|\n",
      "|              Horta-Guinardó| 120.1374321880651|\n",
      "|                 Sant Andreu| 93.79617834394904|\n",
      "|                  Nou Barris| 84.15837104072398|\n",
      "+----------------------------+------------------+\n",
      "\n"
     ]
    }
   ],
   "source": [
    "df_bcn.groupBy(\"neighbourhood_group_cleansed\").agg({\"price\": \"mean\"}).orderBy(\"avg(price)\", ascending=False).show()"
   ]
  },
  {
   "cell_type": "markdown",
   "metadata": {},
   "source": [
    "## 3. Price Distribution:"
   ]
  },
  {
   "cell_type": "code",
   "execution_count": 8,
   "metadata": {},
   "outputs": [
    {
     "name": "stdout",
     "output_type": "stream",
     "text": [
      "+-------+------------------+\n",
      "|summary|             price|\n",
      "+-------+------------------+\n",
      "|  count|             18773|\n",
      "|   mean|195.56352207958238|\n",
      "| stddev|294.99165058230136|\n",
      "|    min|              10.0|\n",
      "|    25%|              82.0|\n",
      "|    50%|             167.0|\n",
      "|    75%|             239.0|\n",
      "|    max|           13714.0|\n",
      "+-------+------------------+\n",
      "\n"
     ]
    }
   ],
   "source": [
    "df_bcn.select(\"price\").summary().show()"
   ]
  },
  {
   "cell_type": "markdown",
   "metadata": {
    "vscode": {
     "languageId": "bat"
    }
   },
   "source": [
    "## 4.  Review Analysis:\n",
    "### 4.1 Review Scores Distribution:"
   ]
  },
  {
   "cell_type": "code",
   "execution_count": 9,
   "metadata": {},
   "outputs": [
    {
     "name": "stdout",
     "output_type": "stream",
     "text": [
      "+--------------------+-----+\n",
      "|review_scores_rating|count|\n",
      "+--------------------+-----+\n",
      "|                NULL|   84|\n",
      "|                 0.0| 4723|\n",
      "|                 1.0|   67|\n",
      "|                1.25|    1|\n",
      "|                 1.5|    2|\n",
      "|                1.67|    1|\n",
      "|                 2.0|   48|\n",
      "|                2.17|    1|\n",
      "|                2.25|    1|\n",
      "|                2.33|    2|\n",
      "|                2.45|    1|\n",
      "|                 2.5|   19|\n",
      "|                 2.6|    1|\n",
      "|                2.63|    1|\n",
      "|                2.67|   10|\n",
      "|                2.71|    1|\n",
      "|                2.75|    1|\n",
      "|                 2.8|    1|\n",
      "|                2.83|    1|\n",
      "|                2.86|    1|\n",
      "+--------------------+-----+\n",
      "only showing top 20 rows\n",
      "\n"
     ]
    }
   ],
   "source": [
    "df_bcn.groupBy(\"review_scores_rating\").count().orderBy(\"review_scores_rating\").show()"
   ]
  },
  {
   "cell_type": "code",
   "execution_count": 10,
   "metadata": {},
   "outputs": [
    {
     "name": "stdout",
     "output_type": "stream",
     "text": [
      "+----------------------------+-------------------------+\n",
      "|neighbourhood_group_cleansed|avg(review_scores_rating)|\n",
      "+----------------------------+-------------------------+\n",
      "|                    Eixample|       3.5628815848716635|\n",
      "|                  Sant Martí|        3.558103151862467|\n",
      "|              Sants-Montjuïc|       3.5348134900357664|\n",
      "|                      Gràcia|       3.4701405750798706|\n",
      "|                Ciutat Vella|        3.379420654911832|\n",
      "|              Horta-Guinardó|        3.212784810126581|\n",
      "|                   Les Corts|       3.1971712158808923|\n",
      "|                 Sant Andreu|        3.186210191082802|\n",
      "|                  Nou Barris|       3.0209954751131214|\n",
      "|         Sarrià-Sant Gervasi|       2.8081116751269044|\n",
      "+----------------------------+-------------------------+\n",
      "\n"
     ]
    }
   ],
   "source": [
    "# 4.2 Average Review Scores by Neighborhood:\n",
    "df_bcn.groupBy(\"neighbourhood_group_cleansed\").agg({\"review_scores_rating\": \"mean\"}).orderBy(\"avg(review_scores_rating)\", ascending=False).show()\n"
   ]
  },
  {
   "cell_type": "markdown",
   "metadata": {},
   "source": [
    "## 5.  Amenities Analysis:\n",
    "### Count of Listings with Specific Amenities:"
   ]
  },
  {
   "cell_type": "code",
   "execution_count": 11,
   "metadata": {},
   "outputs": [
    {
     "name": "stdout",
     "output_type": "stream",
     "text": [
      "+-------+----------------+--------+----------------+-----+\n",
      "|kitchen|air conditioning|elevator|patio or balcony|count|\n",
      "+-------+----------------+--------+----------------+-----+\n",
      "|      0|               0|       0|               1|   72|\n",
      "|      1|               0|       1|               1| 1294|\n",
      "|      1|               1|       0|               0| 2933|\n",
      "|      1|               1|       1|               1| 3307|\n",
      "|      0|               1|       0|               1|   78|\n",
      "|      0|               0|       0|               0|  387|\n",
      "|   NULL|            NULL|    NULL|            NULL|   84|\n",
      "|      1|               0|       0|               0| 2520|\n",
      "|      0|               1|       1|               0|  464|\n",
      "|      0|               0|       1|               1|   57|\n",
      "|      0|               1|       1|               1|  140|\n",
      "|      0|               0|       1|               0|  244|\n",
      "|      0|               1|       0|               0|  417|\n",
      "|      1|               0|       0|               1| 1004|\n",
      "|      1|               0|       1|               0| 1560|\n",
      "|      1|               1|       1|               0| 2815|\n",
      "|      1|               1|       0|               1| 1481|\n",
      "+-------+----------------+--------+----------------+-----+\n",
      "\n"
     ]
    }
   ],
   "source": [
    "df_bcn.groupBy(\"kitchen\", \"air conditioning\", \"elevator\", \"patio or balcony\").count().show()"
   ]
  },
  {
   "cell_type": "markdown",
   "metadata": {},
   "source": [
    "## 6. Room Type vs. Price: \n",
    "### Average Price by Room Type:"
   ]
  },
  {
   "cell_type": "code",
   "execution_count": 12,
   "metadata": {},
   "outputs": [
    {
     "name": "stdout",
     "output_type": "stream",
     "text": [
      "+-----------------+------------------+\n",
      "|room_type_encoded|        avg(price)|\n",
      "+-----------------+------------------+\n",
      "|                2|239.46739617902952|\n",
      "|                1|131.63665551839466|\n",
      "|                0|117.50335570469798|\n",
      "|             NULL|              NULL|\n",
      "+-----------------+------------------+\n",
      "\n"
     ]
    }
   ],
   "source": [
    "df_bcn.groupBy(\"room_type_encoded\").agg({\"price\": \"mean\"}).orderBy(\"avg(price)\", ascending=False).show()"
   ]
  },
  {
   "cell_type": "markdown",
   "metadata": {},
   "source": [
    "## 7. Host Analysis:\n",
    "### 7.1 Superhost vs. Price:"
   ]
  },
  {
   "cell_type": "code",
   "execution_count": 13,
   "metadata": {},
   "outputs": [
    {
     "name": "stdout",
     "output_type": "stream",
     "text": [
      "+-----------------+------------------+\n",
      "|host_is_superhost|        avg(price)|\n",
      "+-----------------+------------------+\n",
      "|                t|209.39581657280772|\n",
      "|                f|192.13487104493487|\n",
      "|             NULL|              NULL|\n",
      "+-----------------+------------------+\n",
      "\n"
     ]
    }
   ],
   "source": [
    "df_bcn.groupBy(\"host_is_superhost\").agg({\"price\": \"mean\"}).orderBy(\"avg(price)\", ascending=False).show()"
   ]
  },
  {
   "cell_type": "markdown",
   "metadata": {},
   "source": [
    "### 7.2 Host Listings Count:"
   ]
  },
  {
   "cell_type": "code",
   "execution_count": 14,
   "metadata": {},
   "outputs": [
    {
     "name": "stdout",
     "output_type": "stream",
     "text": [
      "+------------------------------+------------------+\n",
      "|calculated_host_listings_count|        avg(price)|\n",
      "+------------------------------+------------------+\n",
      "|                           207| 808.9558011049724|\n",
      "|                            23| 449.3623188405797|\n",
      "|                            36| 379.6111111111111|\n",
      "|                           195| 366.9846153846154|\n",
      "|                            43| 332.3953488372093|\n",
      "|                            30|328.26666666666665|\n",
      "|                           140|            325.65|\n",
      "|                            52| 302.9807692307692|\n",
      "|                            80|          296.1625|\n",
      "|                            34|292.19117647058823|\n",
      "|                            35| 292.1771428571429|\n",
      "|                            66|        290.515625|\n",
      "|                            76|287.88157894736844|\n",
      "|                            37| 274.7090909090909|\n",
      "|                            44|274.40909090909093|\n",
      "|                            50|            273.68|\n",
      "|                            41| 272.7560975609756|\n",
      "|                             6| 272.0292096219931|\n",
      "|                           184|270.83152173913044|\n",
      "|                            21|267.20952380952383|\n",
      "+------------------------------+------------------+\n",
      "only showing top 20 rows\n",
      "\n"
     ]
    }
   ],
   "source": [
    "df_bcn.groupBy(\"calculated_host_listings_count\").agg({\"price\": \"mean\"}).orderBy(\"avg(price)\", ascending=False).show()"
   ]
  },
  {
   "cell_type": "code",
   "execution_count": 15,
   "metadata": {},
   "outputs": [],
   "source": [
    "## Geographic Distribution of Listings:"
   ]
  },
  {
   "cell_type": "code",
   "execution_count": 16,
   "metadata": {},
   "outputs": [],
   "source": [
    "# Collect latitude and longitude data for visualization\n",
    "geo_data = df_bcn.select(\"latitude\", \"longitude\").toPandas()\n",
    "\n",
    "# Save to CSV or another format for use in visualization tools\n",
    "geo_data.to_csv(\"geographic_distribution.csv\", index=False)"
   ]
  },
  {
   "cell_type": "code",
   "execution_count": 17,
   "metadata": {},
   "outputs": [],
   "source": [
    "spark.stop()"
   ]
  }
 ],
 "metadata": {
  "kernelspec": {
   "display_name": "Python 3 (ipykernel)",
   "language": "python",
   "name": "python3"
  },
  "language_info": {
   "codemirror_mode": {
    "name": "ipython",
    "version": 3
   },
   "file_extension": ".py",
   "mimetype": "text/x-python",
   "name": "python",
   "nbconvert_exporter": "python",
   "pygments_lexer": "ipython3",
   "version": "3.9.6"
  }
 },
 "nbformat": 4,
 "nbformat_minor": 4
}
