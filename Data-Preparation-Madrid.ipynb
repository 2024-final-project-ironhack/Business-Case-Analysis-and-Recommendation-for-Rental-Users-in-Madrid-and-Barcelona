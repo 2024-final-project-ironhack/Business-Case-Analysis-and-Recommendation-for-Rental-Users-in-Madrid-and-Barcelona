{
 "cells": [
  {
   "cell_type": "code",
   "execution_count": 2,
   "id": "c59eefe0-1425-4a22-929d-0c24a470e952",
   "metadata": {},
   "outputs": [],
   "source": [
    "import matplotlib.pyplot as plt\n",
    "import numpy as np\n",
    "import pandas as pd\n",
    "import seaborn as sns"
   ]
  },
  {
   "cell_type": "code",
   "execution_count": 3,
   "id": "2bc2f3d7-2629-4b94-8e93-30e69cf4df3d",
   "metadata": {},
   "outputs": [
    {
     "name": "stdout",
     "output_type": "stream",
     "text": [
      "                    id                                       listing_url  \\\n",
      "0  1104967621421098322  https://www.airbnb.com/rooms/1104967621421098322   \n",
      "1   930941073152690361   https://www.airbnb.com/rooms/930941073152690361   \n",
      "2             51647382             https://www.airbnb.com/rooms/51647382   \n",
      "3  1026072412626070839  https://www.airbnb.com/rooms/1026072412626070839   \n",
      "4   766423030884644417   https://www.airbnb.com/rooms/766423030884644417   \n",
      "\n",
      "        scrape_id last_scraped       source                              name  \\\n",
      "0  20240615011404   2024-06-15  city scrape  Habitación de lujo, baño privado   \n",
      "1  20240615011404   2024-06-15  city scrape            habitación para pareja   \n",
      "2  20240615011404   2024-06-15  city scrape            Buenos Aires en Madrid   \n",
      "3  20240615011404   2024-06-15  city scrape            Habitación Madrid Rio!   \n",
      "4  20240615011404   2024-06-15  city scrape           habitación para turista   \n",
      "\n",
      "                                         description  neighborhood_overview  \\\n",
      "0                                                NaN                    NaN   \n",
      "1  Rent room for loose nights or weekends  to a c...                    NaN   \n",
      "2  This special place is close to everything, mak...  The neighborhood is m   \n",
      "3  Enjoy the simplicity of this quiet and central...                    NaN   \n",
      "4  Enjoy a stylish experience at this centrally-l...                    NaN   \n",
      "\n",
      "                                         picture_url    host_id  ...  \\\n",
      "0  https://a0.muscache.com/pictures/miso/Hosting-...  565307927  ...   \n",
      "1  https://a0.muscache.com/pictures/85f0b383-e8f8...  442944608  ...   \n",
      "2  https://a0.muscache.com/pictures/db018af4-f622...  252336445  ...   \n",
      "3  https://a0.muscache.com/pictures/miso/Hosting-...  545435841  ...   \n",
      "4  https://a0.muscache.com/pictures/miso/Hosting-...    3882456  ...   \n",
      "\n",
      "  review_scores_communication review_scores_location review_scores_value  \\\n",
      "0                        5.00                   5.00                5.00   \n",
      "1                        5.00                   4.67                5.00   \n",
      "2                        4.83                   4.51                4.61   \n",
      "3                        5.00                   5.00                5.00   \n",
      "4                         NaN                    NaN                 NaN   \n",
      "\n",
      "  license instant_bookable calculated_host_listings_count  \\\n",
      "0     NaN                f                              1   \n",
      "1     NaN                f                              2   \n",
      "2     NaN                t                              2   \n",
      "3     NaN                f                              1   \n",
      "4     NaN                f                              1   \n",
      "\n",
      "  calculated_host_listings_count_entire_homes  \\\n",
      "0                                           0   \n",
      "1                                           0   \n",
      "2                                           0   \n",
      "3                                           0   \n",
      "4                                           0   \n",
      "\n",
      "  calculated_host_listings_count_private_rooms  \\\n",
      "0                                            1   \n",
      "1                                            2   \n",
      "2                                            2   \n",
      "3                                            1   \n",
      "4                                            1   \n",
      "\n",
      "  calculated_host_listings_count_shared_rooms reviews_per_month  \n",
      "0                                           0              0.61  \n",
      "1                                           0              0.28  \n",
      "2                                           0              5.40  \n",
      "3                                           0              0.14  \n",
      "4                                           0               NaN  \n",
      "\n",
      "[5 rows x 75 columns]\n"
     ]
    }
   ],
   "source": [
    "df = pd.read_csv(\"data/Madrid/listings-detailed-mad.csv\")\n",
    "print(df.head())"
   ]
  },
  {
   "cell_type": "code",
   "execution_count": 4,
   "id": "0447c699-c87e-4566-81e3-2c361780e6b5",
   "metadata": {},
   "outputs": [
    {
     "data": {
      "text/plain": [
       "Index(['id', 'listing_url', 'scrape_id', 'last_scraped', 'source', 'name',\n",
       "       'description', 'neighborhood_overview', 'picture_url', 'host_id',\n",
       "       'host_url', 'host_name', 'host_since', 'host_location', 'host_about',\n",
       "       'host_response_time', 'host_response_rate', 'host_acceptance_rate',\n",
       "       'host_is_superhost', 'host_thumbnail_url', 'host_picture_url',\n",
       "       'host_neighbourhood', 'host_listings_count',\n",
       "       'host_total_listings_count', 'host_verifications',\n",
       "       'host_has_profile_pic', 'host_identity_verified', 'neighbourhood',\n",
       "       'neighbourhood_cleansed', 'neighbourhood_group_cleansed', 'latitude',\n",
       "       'longitude', 'property_type', 'room_type', 'accommodates', 'bathrooms',\n",
       "       'bathrooms_text', 'bedrooms', 'beds', 'amenities', 'price',\n",
       "       'minimum_nights', 'maximum_nights', 'minimum_minimum_nights',\n",
       "       'maximum_minimum_nights', 'minimum_maximum_nights',\n",
       "       'maximum_maximum_nights', 'minimum_nights_avg_ntm',\n",
       "       'maximum_nights_avg_ntm', 'calendar_updated', 'has_availability',\n",
       "       'availability_30', 'availability_60', 'availability_90',\n",
       "       'availability_365', 'calendar_last_scraped', 'number_of_reviews',\n",
       "       'number_of_reviews_ltm', 'number_of_reviews_l30d', 'first_review',\n",
       "       'last_review', 'review_scores_rating', 'review_scores_accuracy',\n",
       "       'review_scores_cleanliness', 'review_scores_checkin',\n",
       "       'review_scores_communication', 'review_scores_location',\n",
       "       'review_scores_value', 'license', 'instant_bookable',\n",
       "       'calculated_host_listings_count',\n",
       "       'calculated_host_listings_count_entire_homes',\n",
       "       'calculated_host_listings_count_private_rooms',\n",
       "       'calculated_host_listings_count_shared_rooms', 'reviews_per_month'],\n",
       "      dtype='object')"
      ]
     },
     "execution_count": 4,
     "metadata": {},
     "output_type": "execute_result"
    }
   ],
   "source": [
    "df.columns"
   ]
  },
  {
   "cell_type": "code",
   "execution_count": 5,
   "id": "7ee73641-561c-4a6f-b2e2-09fb8abae1b4",
   "metadata": {},
   "outputs": [
    {
     "data": {
      "text/plain": [
       "id                                                int64\n",
       "listing_url                                      object\n",
       "scrape_id                                         int64\n",
       "last_scraped                                     object\n",
       "source                                           object\n",
       "                                                 ...   \n",
       "calculated_host_listings_count                    int64\n",
       "calculated_host_listings_count_entire_homes       int64\n",
       "calculated_host_listings_count_private_rooms      int64\n",
       "calculated_host_listings_count_shared_rooms       int64\n",
       "reviews_per_month                               float64\n",
       "Length: 75, dtype: object"
      ]
     },
     "execution_count": 5,
     "metadata": {},
     "output_type": "execute_result"
    }
   ],
   "source": [
    "df.dtypes"
   ]
  },
  {
   "cell_type": "code",
   "execution_count": 6,
   "id": "f998d003-e530-499b-b5e8-a77e74218922",
   "metadata": {},
   "outputs": [
    {
     "data": {
      "text/plain": [
       "26924"
      ]
     },
     "execution_count": 6,
     "metadata": {},
     "output_type": "execute_result"
    }
   ],
   "source": [
    "# Count total IDs in df\n",
    "df['host_id'].count()"
   ]
  },
  {
   "cell_type": "code",
   "execution_count": 7,
   "id": "adbd2fb4-95a3-48bb-a37a-7c60f05f41a5",
   "metadata": {},
   "outputs": [
    {
     "data": {
      "text/plain": [
       "12834"
      ]
     },
     "execution_count": 7,
     "metadata": {},
     "output_type": "execute_result"
    }
   ],
   "source": [
    "# Count unique IDs in df\n",
    "df['host_id'].nunique()"
   ]
  },
  {
   "cell_type": "code",
   "execution_count": 8,
   "id": "fba4d5ca-56b7-4a48-a8df-f1cefea3a440",
   "metadata": {},
   "outputs": [
    {
     "data": {
      "text/plain": [
       "array(['Private room', 'Shared room', 'Entire home/apt', 'Hotel room'],\n",
       "      dtype=object)"
      ]
     },
     "execution_count": 8,
     "metadata": {},
     "output_type": "execute_result"
    }
   ],
   "source": [
    "# See unique values in room_type column\n",
    "df['room_type'].unique()"
   ]
  },
  {
   "cell_type": "code",
   "execution_count": 9,
   "id": "bf3db5ce-0a5a-435a-a5a4-f12b1551f00a",
   "metadata": {},
   "outputs": [
    {
     "data": {
      "text/plain": [
       "room_type\n",
       "Entire home/apt    17346\n",
       "Private room        9103\n",
       "Shared room          381\n",
       "Hotel room            94\n",
       "Name: count, dtype: int64"
      ]
     },
     "execution_count": 9,
     "metadata": {},
     "output_type": "execute_result"
    }
   ],
   "source": [
    "# Count number of each value in room_type column\n",
    "df[\"room_type\"].value_counts()"
   ]
  },
  {
   "cell_type": "code",
   "execution_count": 10,
   "id": "d809b3a1-918a-4984-ad58-fc1495aa50d4",
   "metadata": {},
   "outputs": [
    {
     "data": {
      "text/plain": [
       "room_type\n",
       "Entire home/apt    64.425791\n",
       "Private room       33.809984\n",
       "Shared room         1.415094\n",
       "Hotel room          0.349131\n",
       "Name: proportion, dtype: float64"
      ]
     },
     "execution_count": 10,
     "metadata": {},
     "output_type": "execute_result"
    }
   ],
   "source": [
    "# View the above as percentages of the total\n",
    "df[\"room_type\"].value_counts(normalize=True) * 100"
   ]
  },
  {
   "cell_type": "code",
   "execution_count": 11,
   "id": "35879700-4bba-47f5-afd2-3177d9a62970",
   "metadata": {},
   "outputs": [
    {
     "data": {
      "text/plain": [
       "array([nan, 'Madrid, Comunidad de Madrid, Spain',\n",
       "       'Madrid, Community of Madrid, Spain', 'Madrid, Spain',\n",
       "       'Chueca, Madrid, Spain', 'Madrid , Comunidad de Madrid, Spain',\n",
       "       'MADRID, Spain', 'Madrid, Carabanchel alto, Spain',\n",
       "       'Madrid, Co, Spain', 'Madrid , Madrid, Spain',\n",
       "       'Madrid Center, Madrid, Spain',\n",
       "       'Pozuelo de Alarcón, Comunidad de Madrid, Spain',\n",
       "       'Madrid, SPAIN  Madrid Madrid, Spain',\n",
       "       'Madrid, Madrid, Barajas, Spain',\n",
       "       'Madrid, Comunidad de Madrid, ES, Madrid, Spain',\n",
       "       'ROSES (ROSAS ) ESPAGNE, ROSES, Spain',\n",
       "       'Madrid, Palos de Moguer , Spain',\n",
       "       'Madrid, Comunidad de Madrid, España, Spain', 'Spain',\n",
       "       'Madrid, Centro Madrid, Spain',\n",
       "       'Madrid, Spain Madrid Madrid, Spain', 'Madrid, MADRID, Spain',\n",
       "       'Madrid , Comunidad de Madrid, España, Spain',\n",
       "       'Madrid, Comunidad de  Madrid, Spain', 'Salamanca, Madrid, Spain',\n",
       "       'Madrid, Comunidad de Madrid , Atocha, Spain',\n",
       "       'Comunidad de Madrid, Madrid , Spain',\n",
       "       'Madrid, centro , Comunidad de Madrid. Zona centro., Spain',\n",
       "       'Madrid, La Latina/Palacio , Madrid, Spain',\n",
       "       'Madrid Centro , Comunidad de Madrid, Spain',\n",
       "       'madrid, Comunidad de Madrid, Spain',\n",
       "       'Las Rozas, Comunidad de Madrid, Spain', 'madrid, Madrid, Spain'],\n",
       "      dtype=object)"
      ]
     },
     "execution_count": 11,
     "metadata": {},
     "output_type": "execute_result"
    }
   ],
   "source": [
    "# See unique values in neighbourhood column\n",
    "df['neighbourhood'].unique()"
   ]
  },
  {
   "cell_type": "code",
   "execution_count": 12,
   "id": "f03f6c3d-72fa-4b6a-a10e-aab76b54ff2a",
   "metadata": {},
   "outputs": [
    {
     "data": {
      "text/plain": [
       "neighbourhood\n",
       "Madrid, Comunidad de Madrid, Spain                           12419\n",
       "Madrid, Community of Madrid, Spain                             465\n",
       "Madrid, Spain                                                  335\n",
       "Madrid, Co, Spain                                               22\n",
       "Madrid Center, Madrid, Spain                                    10\n",
       "MADRID, Spain                                                    9\n",
       "Madrid , Madrid, Spain                                           7\n",
       "Chueca, Madrid, Spain                                            5\n",
       "Madrid , Comunidad de Madrid, Spain                              3\n",
       "Pozuelo de Alarcón, Comunidad de Madrid, Spain                   3\n",
       "Madrid, Comunidad de Madrid , Atocha, Spain                      2\n",
       "Madrid, Comunidad de  Madrid, Spain                              2\n",
       "Spain                                                            2\n",
       "Madrid, Comunidad de Madrid, España, Spain                       2\n",
       "Madrid, Comunidad de Madrid, ES, Madrid, Spain                   2\n",
       "Madrid, SPAIN  Madrid Madrid, Spain                              2\n",
       "ROSES (ROSAS ) ESPAGNE, ROSES, Spain                             1\n",
       "Madrid, Carabanchel alto, Spain                                  1\n",
       "Las Rozas, Comunidad de Madrid, Spain                            1\n",
       "madrid, Comunidad de Madrid, Spain                               1\n",
       "Madrid Centro , Comunidad de Madrid, Spain                       1\n",
       "Madrid, La Latina/Palacio , Madrid, Spain                        1\n",
       "Madrid, centro , Comunidad de Madrid. Zona centro., Spain        1\n",
       "Comunidad de Madrid, Madrid , Spain                              1\n",
       "Salamanca, Madrid, Spain                                         1\n",
       "Madrid, Palos de Moguer , Spain                                  1\n",
       "Madrid , Comunidad de Madrid, España, Spain                      1\n",
       "Madrid, MADRID, Spain                                            1\n",
       "Madrid, Spain Madrid Madrid, Spain                               1\n",
       "Madrid, Centro Madrid, Spain                                     1\n",
       "Madrid, Madrid, Barajas, Spain                                   1\n",
       "madrid, Madrid, Spain                                            1\n",
       "Name: count, dtype: int64"
      ]
     },
     "execution_count": 12,
     "metadata": {},
     "output_type": "execute_result"
    }
   ],
   "source": [
    "# Count number of each value in neighbourhood column\n",
    "df[\"neighbourhood\"].value_counts()"
   ]
  },
  {
   "cell_type": "code",
   "execution_count": 13,
   "id": "eb9b7232-785f-4c46-8379-bd63eabc9c0d",
   "metadata": {},
   "outputs": [
    {
     "name": "stdout",
     "output_type": "stream",
     "text": [
      "     host_id        host_name  calculated_host_listings_count  \\\n",
      "0  565307927         Carolina                               1   \n",
      "1  442944608   Jonathan Jesus                               2   \n",
      "2  252336445            Norma                               2   \n",
      "3  545435841       Gean Piero                               1   \n",
      "4    3882456  Gabriela CHÁVEZ                               1   \n",
      "\n",
      "  host_is_superhost                                       listing_url  \\\n",
      "0                 f  https://www.airbnb.com/rooms/1104967621421098322   \n",
      "1                 f   https://www.airbnb.com/rooms/930941073152690361   \n",
      "2                 f             https://www.airbnb.com/rooms/51647382   \n",
      "3                 f  https://www.airbnb.com/rooms/1026072412626070839   \n",
      "4                 f   https://www.airbnb.com/rooms/766423030884644417   \n",
      "\n",
      "                    id                              name  \\\n",
      "0  1104967621421098322  Habitación de lujo, baño privado   \n",
      "1   930941073152690361            habitación para pareja   \n",
      "2             51647382            Buenos Aires en Madrid   \n",
      "3  1026072412626070839            Habitación Madrid Rio!   \n",
      "4   766423030884644417           habitación para turista   \n",
      "\n",
      "  neighbourhood_group_cleansed   latitude  longitude  ... number_of_reviews  \\\n",
      "0                       Retiro  40.406980  -3.675015  ...                 2   \n",
      "1           Puente de Vallecas  40.392100  -3.670030  ...                 3   \n",
      "2           Puente de Vallecas  40.395110  -3.671430  ...               186   \n",
      "3                  Carabanchel  40.395555  -3.716437  ...                 1   \n",
      "4                    Salamanca  40.430450  -3.672100  ...                 0   \n",
      "\n",
      "   review_scores_rating license  kitchen  patio or balcony elevator  \\\n",
      "0                  4.50     NaN        0                 0        0   \n",
      "1                  5.00     NaN        0                 0        0   \n",
      "2                  4.67     NaN        1                 0        0   \n",
      "3                  5.00     NaN        1                 0        0   \n",
      "4                   NaN     NaN        1                 0        0   \n",
      "\n",
      "   air conditioning  long_term  short_term  possible_long_term  \n",
      "0                 0          0           1                   0  \n",
      "1                 0          0           0                   1  \n",
      "2                 0          0           0                   1  \n",
      "3                 0          0           0                   1  \n",
      "4                 1          0           1                   0  \n",
      "\n",
      "[5 rows x 23 columns]\n"
     ]
    }
   ],
   "source": [
    "#Crear nuevo dataset con menos columnas\n",
    "\n",
    "# Creating the new DataFrame with the required columns\n",
    "listings_prepared_mad = df[['host_id', 'host_name', 'calculated_host_listings_count', \n",
    "                            'host_is_superhost', 'listing_url', 'id', 'name', \n",
    "                            'neighbourhood_group_cleansed', 'latitude', 'longitude', \n",
    "                            'room_type', 'bedrooms', 'price', 'number_of_reviews', \n",
    "                            'review_scores_rating', 'license']].copy()\n",
    "\n",
    "# Adding 'kitchen', 'patio or balcony', 'elevator', 'air conditioning' columns based on 'amenities'\n",
    "listings_prepared_mad['kitchen'] = df['amenities'].str.contains('kitchen', case=False, na=False).astype(int)\n",
    "listings_prepared_mad['patio or balcony'] = df['amenities'].str.contains('patio|balcony', case=False, na=False).astype(int)\n",
    "listings_prepared_mad['elevator'] = df['amenities'].str.contains('elevator', case=False, na=False).astype(int)\n",
    "listings_prepared_mad['air conditioning'] = df['amenities'].str.contains('air conditioning', case=False, na=False).astype(int)\n",
    "\n",
    "# Adding 'long_term', 'short_term', 'possible_long_term' columns based on 'minimum_nights' and 'maximum_nights'\n",
    "listings_prepared_mad['long_term'] = (df['minimum_nights'] > 31).astype(int)\n",
    "listings_prepared_mad['short_term'] = (df['maximum_nights'] <= 31).astype(int)\n",
    "listings_prepared_mad['possible_long_term'] = ((df['minimum_nights'] >= 1) & (df['maximum_nights'] >= 31)).astype(int)\n",
    "\n",
    "# Display the first few rows of the new dataframe\n",
    "print(listings_prepared_mad.head())\n"
   ]
  },
  {
   "cell_type": "code",
   "execution_count": 15,
   "id": "02952265-5822-4d6f-91b0-de7731a14852",
   "metadata": {},
   "outputs": [],
   "source": [
    "# Export the DataFrame to an Excel file\n",
    "listings_prepared_mad.to_excel('listings_prepared_mad.xlsx', index=False)"
   ]
  },
  {
   "cell_type": "code",
   "execution_count": 14,
   "id": "7fe87951-79ce-4baa-a240-90e299decc53",
   "metadata": {},
   "outputs": [
    {
     "name": "stdout",
     "output_type": "stream",
     "text": [
      "                    id                                       listing_url  \\\n",
      "0  1104967621421098322  https://www.airbnb.com/rooms/1104967621421098322   \n",
      "1   930941073152690361   https://www.airbnb.com/rooms/930941073152690361   \n",
      "2             51647382             https://www.airbnb.com/rooms/51647382   \n",
      "3  1026072412626070839  https://www.airbnb.com/rooms/1026072412626070839   \n",
      "4   766423030884644417   https://www.airbnb.com/rooms/766423030884644417   \n",
      "\n",
      "                               name    host_id        host_name  \\\n",
      "0  Habitación de lujo, baño privado  565307927         Carolina   \n",
      "1            habitación para pareja  442944608   Jonathan Jesus   \n",
      "2            Buenos Aires en Madrid  252336445            Norma   \n",
      "3            Habitación Madrid Rio!  545435841       Gean Piero   \n",
      "4           habitación para turista    3882456  Gabriela CHÁVEZ   \n",
      "\n",
      "   calculated_host_listings_count host_is_superhost license  \\\n",
      "0                               1                 f     NaN   \n",
      "1                               2                 f     NaN   \n",
      "2                               2                 f     NaN   \n",
      "3                               1                 f     NaN   \n",
      "4                               1                 f     NaN   \n",
      "\n",
      "  neighbourhood_group_cleansed   latitude  ...    price kitchen  \\\n",
      "0                       Retiro  40.406980  ...   $68.00       0   \n",
      "1           Puente de Vallecas  40.392100  ...   $16.00       0   \n",
      "2           Puente de Vallecas  40.395110  ...   $25.00       1   \n",
      "3                  Carabanchel  40.395555  ...   $26.00       1   \n",
      "4                    Salamanca  40.430450  ...  $100.00       1   \n",
      "\n",
      "   patio or balcony elevator  air conditioning  long_term  short_term  \\\n",
      "0                 0        0                 0          0           1   \n",
      "1                 0        0                 0          0           0   \n",
      "2                 0        0                 0          0           0   \n",
      "3                 0        0                 0          0           0   \n",
      "4                 0        0                 1          0           1   \n",
      "\n",
      "   possible_long_term  number_of_reviews  review_scores_rating  \n",
      "0                   0                  2                  4.50  \n",
      "1                   1                  3                  5.00  \n",
      "2                   1                186                  4.67  \n",
      "3                   1                  1                  5.00  \n",
      "4                   0                  0                   NaN  \n",
      "\n",
      "[5 rows x 23 columns]\n"
     ]
    }
   ],
   "source": [
    "# Reordering the columns\n",
    "ordered_columns = [\n",
    "    'id', 'listing_url', 'name', 'host_id', 'host_name', 'calculated_host_listings_count', \n",
    "    'host_is_superhost', 'license', 'neighbourhood_group_cleansed', 'latitude', \n",
    "    'longitude', 'room_type', 'bedrooms', 'price', 'kitchen', 'patio or balcony', \n",
    "    'elevator', 'air conditioning', 'long_term', 'short_term', 'possible_long_term', \n",
    "    'number_of_reviews', 'review_scores_rating'\n",
    "]\n",
    "\n",
    "# Apply the new order to the DataFrame\n",
    "listings_prepared_mad = listings_prepared_mad[ordered_columns]\n",
    "\n",
    "# Display the first few rows of the reordered DataFrame\n",
    "print(listings_prepared_mad.head())\n",
    "\n",
    "# Export the reordered DataFrame to a CSV file\n",
    "listings_prepared_mad.to_csv('listings_prepared_mad.csv', index=False)"
   ]
  },
  {
   "cell_type": "code",
   "execution_count": null,
   "id": "154486ea-dcb6-41de-81f4-42c49321215c",
   "metadata": {},
   "outputs": [],
   "source": []
  }
 ],
 "metadata": {
  "kernelspec": {
   "display_name": "Python 3 (ipykernel)",
   "language": "python",
   "name": "python3"
  },
  "language_info": {
   "codemirror_mode": {
    "name": "ipython",
    "version": 3
   },
   "file_extension": ".py",
   "mimetype": "text/x-python",
   "name": "python",
   "nbconvert_exporter": "python",
   "pygments_lexer": "ipython3",
   "version": "3.9.6"
  }
 },
 "nbformat": 4,
 "nbformat_minor": 5
}
