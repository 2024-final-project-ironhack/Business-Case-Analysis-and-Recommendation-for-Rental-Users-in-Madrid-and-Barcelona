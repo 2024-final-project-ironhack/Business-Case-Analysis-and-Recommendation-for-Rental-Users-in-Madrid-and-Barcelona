{
 "cells": [
  {
   "cell_type": "markdown",
   "metadata": {},
   "source": [
    "## Comparation between Barcelona and Madrid \n",
    "\n",
    "In this section, we perform an Exploratory Data Analysis (EDA) to compare the rental markets of two major Spanish cities: Barcelona and Madrid. Both cities, known for their tourist appeal and vibrant urban life, present unique contexts that influence their respective rental markets.\n",
    "\n",
    "The goal of this EDA is to uncover the differences and similarities in rental patterns between these two cities, providing a comparative view that helps understand how various factors impact prices and availability of accommodations. The comparison covers several key aspects, including:\n",
    "\n",
    "1. **Basic Descriptive Statistics:**\n",
    "   We will explore general metrics for both markets, such as the average rental price, the total number of listings, and their distribution across the city.\n",
    "\n",
    "2. **Neighborhood Analysis:**\n",
    "   Differences in prices and the popularity of neighborhoods in Barcelona and Madrid will be analyzed, highlighting the most and least expensive areas and how these differences relate to factors like proximity to tourist centers and amenities.\n",
    "\n",
    "3. **Price Distribution:**\n",
    "   Comparing the distribution of prices in both cities will reveal trends in price variation based on location, type of accommodation, and other relevant factors.\n",
    "\n",
    "4. **Review Analysis:**\n",
    "   We will examine the distribution and impact of reviews on both markets, including how ratings affect prices and the perception of accommodations in Barcelona and Madrid.\n",
    "\n",
    "5. **Amenities Analysis:**\n",
    "   This analysis will detail how the presence of certain amenities in accommodations influences prices in both cities, providing insights into tenant preferences and the added value of amenities.\n",
    "\n",
    "6. **Room Type vs. Price:**\n",
    "   We will compare the average prices of different room types in Barcelona and Madrid, highlighting how these differences are reflected in each city's market.\n",
    "\n",
    "7. **Host Analysis:**\n",
    "   The impact of host status (superhosts vs. regular hosts) on prices and the number of listings in both cities will be investigated, offering a perspective on how host profiles affect the market.\n",
    "\n",
    "Through this comparative analysis, we aim to provide a comprehensive understanding of how the rental markets in Barcelona and Madrid differ and align, facilitating informed decision-making based on a deeper insight into the characteristics and trends of the market in these two major urban destinations"
   ]
  },
  {
   "cell_type": "code",
   "execution_count": null,
   "metadata": {},
   "outputs": [],
   "source": []
  },
  {
   "cell_type": "code",
   "execution_count": 12,
   "metadata": {},
   "outputs": [],
   "source": [
    "import pandas as pd\n",
    "import matplotlib.pyplot as plt\n",
    "import seaborn as sns\n",
    "\n",
    "# Load the datasets\n",
    "barcelona_df = pd.read_csv('datasets/Final_cleaned_dataset/bcn_final_cleaned_data_csv.csv', on_bad_lines='skip', sep=\";\")\n",
    "madrid_df = pd.read_csv('datasets/Final_cleaned_dataset/mad_final_cleaned_data_csv.csv',on_bad_lines='skip', sep=\";\" ) "
   ]
  },
  {
   "cell_type": "markdown",
   "metadata": {},
   "source": [
    "### 1. Basic Descriptive Statistics"
   ]
  },
  {
   "cell_type": "code",
   "execution_count": 18,
   "metadata": {},
   "outputs": [
    {
     "name": "stdout",
     "output_type": "stream",
     "text": [
      "Basic Descriptive Statistics for Barcelona\n",
      "       neighbourhood_group_cleansed            id  \\\n",
      "count                         18857  1.885700e+04   \n",
      "unique                           10           NaN   \n",
      "top                        Eixample           NaN   \n",
      "freq                           6692           NaN   \n",
      "mean                            NaN  4.262056e+17   \n",
      "std                             NaN  4.751728e+17   \n",
      "min                             NaN  1.867400e+04   \n",
      "25%                             NaN  2.434676e+07   \n",
      "50%                             NaN  5.199440e+07   \n",
      "75%                             NaN  9.194646e+17   \n",
      "max                             NaN  1.178911e+18   \n",
      "\n",
      "                                listing_url                 name  \\\n",
      "count                                 18857                18857   \n",
      "unique                                18857                18140   \n",
      "top     https://www.airbnb.com/rooms/269467  Double or Twin Room   \n",
      "freq                                      1                   13   \n",
      "mean                                    NaN                  NaN   \n",
      "std                                     NaN                  NaN   \n",
      "min                                     NaN                  NaN   \n",
      "25%                                     NaN                  NaN   \n",
      "50%                                     NaN                  NaN   \n",
      "75%                                     NaN                  NaN   \n",
      "max                                     NaN                  NaN   \n",
      "\n",
      "             host_id host_name  calculated_host_listings_count  \\\n",
      "count   1.885700e+04     18857                    18857.000000   \n",
      "unique           NaN      3431                             NaN   \n",
      "top              NaN      Ukio                             NaN   \n",
      "freq             NaN       405                             NaN   \n",
      "mean    1.836827e+08       NaN                       39.563027   \n",
      "std     1.865221e+08       NaN                       83.785091   \n",
      "min     3.073000e+03       NaN                        1.000000   \n",
      "25%     1.054730e+07       NaN                        1.000000   \n",
      "50%     1.172421e+08       NaN                        5.000000   \n",
      "75%     3.463675e+08       NaN                       31.000000   \n",
      "max     5.820441e+08       NaN                      406.000000   \n",
      "\n",
      "       host_is_superhost      latitude     longitude  ...  patio or balcony  \\\n",
      "count              18857  18857.000000  18857.000000  ...      18857.000000   \n",
      "unique                 2           NaN           NaN  ...               NaN   \n",
      "top                    f           NaN           NaN  ...               NaN   \n",
      "freq               15109           NaN           NaN  ...               NaN   \n",
      "mean                 NaN     41.392134      2.167034  ...          0.396511   \n",
      "std                  NaN      0.014227      0.017616  ...          0.489186   \n",
      "min                  NaN     41.350673      2.085593  ...          0.000000   \n",
      "25%                  NaN     41.380970      2.156550  ...          0.000000   \n",
      "50%                  NaN     41.389747      2.167990  ...          0.000000   \n",
      "75%                  NaN     41.401658      2.177690  ...          1.000000   \n",
      "max                  NaN     41.458092      2.227710  ...          1.000000   \n",
      "\n",
      "            elevator  air conditioning     long_term    short_term  \\\n",
      "count   18857.000000      18857.000000  18857.000000  18857.000000   \n",
      "unique           NaN               NaN           NaN           NaN   \n",
      "top              NaN               NaN           NaN           NaN   \n",
      "freq             NaN               NaN           NaN           NaN   \n",
      "mean        0.526754          0.620194      0.212282      0.105796   \n",
      "std         0.499297          0.485351      0.408934      0.307585   \n",
      "min         0.000000          0.000000      0.000000      0.000000   \n",
      "25%         0.000000          0.000000      0.000000      0.000000   \n",
      "50%         1.000000          1.000000      0.000000      0.000000   \n",
      "75%         1.000000          1.000000      0.000000      0.000000   \n",
      "max         1.000000          1.000000      1.000000      1.000000   \n",
      "\n",
      "        possible_long_term  number_of_reviews  review_scores_rating  \\\n",
      "count         18857.000000       18857.000000          18857.000000   \n",
      "unique                 NaN                NaN                   NaN   \n",
      "top                    NaN                NaN                   NaN   \n",
      "freq                   NaN                NaN                   NaN   \n",
      "mean              0.909636          46.724559              3.439386   \n",
      "std               0.286711          96.759375              2.038122   \n",
      "min               0.000000           0.000000              0.000000   \n",
      "25%               1.000000           0.000000              0.000000   \n",
      "50%               1.000000           7.000000              4.540000   \n",
      "75%               1.000000          48.000000              4.830000   \n",
      "max               1.000000        2121.000000              5.000000   \n",
      "\n",
      "        room_type_encoded  bedrooms_encoded  \n",
      "count        18857.000000      18857.000000  \n",
      "unique                NaN               NaN  \n",
      "top                   NaN               NaN  \n",
      "freq                  NaN               NaN  \n",
      "mean             1.585777          0.436178  \n",
      "std              0.508389          0.495923  \n",
      "min              0.000000          0.000000  \n",
      "25%              1.000000          0.000000  \n",
      "50%              2.000000          0.000000  \n",
      "75%              2.000000          1.000000  \n",
      "max              2.000000          1.000000  \n",
      "\n",
      "[11 rows x 22 columns]\n"
     ]
    }
   ],
   "source": [
    "def basic_descriptive_statistics(df, city_name):\n",
    "    print(f\"Basic Descriptive Statistics for {city_name}\")\n",
    "    print(df.describe(include='all'))\n",
    "\n",
    "basic_descriptive_statistics(barcelona_df, 'Barcelona')\n",
    "\n",
    "\n"
   ]
  },
  {
   "cell_type": "markdown",
   "metadata": {},
   "source": [
    "## 2.Neighborhood Analysis\n"
   ]
  },
  {
   "cell_type": "markdown",
   "metadata": {},
   "source": [
    "### 2.1.Top Neighborhoods"
   ]
  },
  {
   "cell_type": "code",
   "execution_count": 16,
   "metadata": {},
   "outputs": [
    {
     "name": "stdout",
     "output_type": "stream",
     "text": [
      "Top Neighborhoods for Barcelona\n",
      "neighbourhood_group_cleansed\n",
      "Eixample               6692\n",
      "Ciutat Vella           4390\n",
      "Sants-Montjuïc         1969\n",
      "Sant Martí             1745\n",
      "Gràcia                 1573\n",
      "Sarrià-Sant Gervasi     988\n",
      "Horta-Guinardó          557\n",
      "Les Corts               403\n",
      "Sant Andreu             316\n",
      "Nou Barris              224\n",
      "Name: count, dtype: int64\n",
      "Top Neighborhoods for Madrid\n"
     ]
    },
    {
     "ename": "KeyError",
     "evalue": "'neighbourhood_group_cleansed'",
     "output_type": "error",
     "traceback": [
      "\u001b[0;31m---------------------------------------------------------------------------\u001b[0m",
      "\u001b[0;31mKeyError\u001b[0m                                  Traceback (most recent call last)",
      "File \u001b[0;32m/Library/Frameworks/Python.framework/Versions/3.11/lib/python3.11/site-packages/pandas/core/indexes/base.py:3805\u001b[0m, in \u001b[0;36mIndex.get_loc\u001b[0;34m(self, key)\u001b[0m\n\u001b[1;32m   3804\u001b[0m \u001b[38;5;28;01mtry\u001b[39;00m:\n\u001b[0;32m-> 3805\u001b[0m     \u001b[38;5;28;01mreturn\u001b[39;00m \u001b[38;5;28;43mself\u001b[39;49m\u001b[38;5;241;43m.\u001b[39;49m\u001b[43m_engine\u001b[49m\u001b[38;5;241;43m.\u001b[39;49m\u001b[43mget_loc\u001b[49m\u001b[43m(\u001b[49m\u001b[43mcasted_key\u001b[49m\u001b[43m)\u001b[49m\n\u001b[1;32m   3806\u001b[0m \u001b[38;5;28;01mexcept\u001b[39;00m \u001b[38;5;167;01mKeyError\u001b[39;00m \u001b[38;5;28;01mas\u001b[39;00m err:\n",
      "File \u001b[0;32mindex.pyx:167\u001b[0m, in \u001b[0;36mpandas._libs.index.IndexEngine.get_loc\u001b[0;34m()\u001b[0m\n",
      "File \u001b[0;32mindex.pyx:196\u001b[0m, in \u001b[0;36mpandas._libs.index.IndexEngine.get_loc\u001b[0;34m()\u001b[0m\n",
      "File \u001b[0;32mpandas/_libs/hashtable_class_helper.pxi:7081\u001b[0m, in \u001b[0;36mpandas._libs.hashtable.PyObjectHashTable.get_item\u001b[0;34m()\u001b[0m\n",
      "File \u001b[0;32mpandas/_libs/hashtable_class_helper.pxi:7089\u001b[0m, in \u001b[0;36mpandas._libs.hashtable.PyObjectHashTable.get_item\u001b[0;34m()\u001b[0m\n",
      "\u001b[0;31mKeyError\u001b[0m: 'neighbourhood_group_cleansed'",
      "\nThe above exception was the direct cause of the following exception:\n",
      "\u001b[0;31mKeyError\u001b[0m                                  Traceback (most recent call last)",
      "Cell \u001b[0;32mIn[16], line 7\u001b[0m\n\u001b[1;32m      4\u001b[0m     \u001b[38;5;28mprint\u001b[39m(top_neigh)\n\u001b[1;32m      6\u001b[0m top_neighborhoods(barcelona_df, \u001b[38;5;124m'\u001b[39m\u001b[38;5;124mBarcelona\u001b[39m\u001b[38;5;124m'\u001b[39m)\n\u001b[0;32m----> 7\u001b[0m \u001b[43mtop_neighborhoods\u001b[49m\u001b[43m(\u001b[49m\u001b[43mmadrid_df\u001b[49m\u001b[43m,\u001b[49m\u001b[43m \u001b[49m\u001b[38;5;124;43m'\u001b[39;49m\u001b[38;5;124;43mMadrid\u001b[39;49m\u001b[38;5;124;43m'\u001b[39;49m\u001b[43m)\u001b[49m\n",
      "Cell \u001b[0;32mIn[16], line 3\u001b[0m, in \u001b[0;36mtop_neighborhoods\u001b[0;34m(df, city_name)\u001b[0m\n\u001b[1;32m      1\u001b[0m \u001b[38;5;28;01mdef\u001b[39;00m \u001b[38;5;21mtop_neighborhoods\u001b[39m(df, city_name):\n\u001b[1;32m      2\u001b[0m     \u001b[38;5;28mprint\u001b[39m(\u001b[38;5;124mf\u001b[39m\u001b[38;5;124m\"\u001b[39m\u001b[38;5;124mTop Neighborhoods for \u001b[39m\u001b[38;5;132;01m{\u001b[39;00mcity_name\u001b[38;5;132;01m}\u001b[39;00m\u001b[38;5;124m\"\u001b[39m)\n\u001b[0;32m----> 3\u001b[0m     top_neigh \u001b[38;5;241m=\u001b[39m \u001b[43mdf\u001b[49m\u001b[43m[\u001b[49m\u001b[38;5;124;43m'\u001b[39;49m\u001b[38;5;124;43mneighbourhood_group_cleansed\u001b[39;49m\u001b[38;5;124;43m'\u001b[39;49m\u001b[43m]\u001b[49m\u001b[38;5;241m.\u001b[39mvalue_counts()\n\u001b[1;32m      4\u001b[0m     \u001b[38;5;28mprint\u001b[39m(top_neigh)\n",
      "File \u001b[0;32m/Library/Frameworks/Python.framework/Versions/3.11/lib/python3.11/site-packages/pandas/core/frame.py:4102\u001b[0m, in \u001b[0;36mDataFrame.__getitem__\u001b[0;34m(self, key)\u001b[0m\n\u001b[1;32m   4100\u001b[0m \u001b[38;5;28;01mif\u001b[39;00m \u001b[38;5;28mself\u001b[39m\u001b[38;5;241m.\u001b[39mcolumns\u001b[38;5;241m.\u001b[39mnlevels \u001b[38;5;241m>\u001b[39m \u001b[38;5;241m1\u001b[39m:\n\u001b[1;32m   4101\u001b[0m     \u001b[38;5;28;01mreturn\u001b[39;00m \u001b[38;5;28mself\u001b[39m\u001b[38;5;241m.\u001b[39m_getitem_multilevel(key)\n\u001b[0;32m-> 4102\u001b[0m indexer \u001b[38;5;241m=\u001b[39m \u001b[38;5;28;43mself\u001b[39;49m\u001b[38;5;241;43m.\u001b[39;49m\u001b[43mcolumns\u001b[49m\u001b[38;5;241;43m.\u001b[39;49m\u001b[43mget_loc\u001b[49m\u001b[43m(\u001b[49m\u001b[43mkey\u001b[49m\u001b[43m)\u001b[49m\n\u001b[1;32m   4103\u001b[0m \u001b[38;5;28;01mif\u001b[39;00m is_integer(indexer):\n\u001b[1;32m   4104\u001b[0m     indexer \u001b[38;5;241m=\u001b[39m [indexer]\n",
      "File \u001b[0;32m/Library/Frameworks/Python.framework/Versions/3.11/lib/python3.11/site-packages/pandas/core/indexes/base.py:3812\u001b[0m, in \u001b[0;36mIndex.get_loc\u001b[0;34m(self, key)\u001b[0m\n\u001b[1;32m   3807\u001b[0m     \u001b[38;5;28;01mif\u001b[39;00m \u001b[38;5;28misinstance\u001b[39m(casted_key, \u001b[38;5;28mslice\u001b[39m) \u001b[38;5;129;01mor\u001b[39;00m (\n\u001b[1;32m   3808\u001b[0m         \u001b[38;5;28misinstance\u001b[39m(casted_key, abc\u001b[38;5;241m.\u001b[39mIterable)\n\u001b[1;32m   3809\u001b[0m         \u001b[38;5;129;01mand\u001b[39;00m \u001b[38;5;28many\u001b[39m(\u001b[38;5;28misinstance\u001b[39m(x, \u001b[38;5;28mslice\u001b[39m) \u001b[38;5;28;01mfor\u001b[39;00m x \u001b[38;5;129;01min\u001b[39;00m casted_key)\n\u001b[1;32m   3810\u001b[0m     ):\n\u001b[1;32m   3811\u001b[0m         \u001b[38;5;28;01mraise\u001b[39;00m InvalidIndexError(key)\n\u001b[0;32m-> 3812\u001b[0m     \u001b[38;5;28;01mraise\u001b[39;00m \u001b[38;5;167;01mKeyError\u001b[39;00m(key) \u001b[38;5;28;01mfrom\u001b[39;00m \u001b[38;5;21;01merr\u001b[39;00m\n\u001b[1;32m   3813\u001b[0m \u001b[38;5;28;01mexcept\u001b[39;00m \u001b[38;5;167;01mTypeError\u001b[39;00m:\n\u001b[1;32m   3814\u001b[0m     \u001b[38;5;66;03m# If we have a listlike key, _check_indexing_error will raise\u001b[39;00m\n\u001b[1;32m   3815\u001b[0m     \u001b[38;5;66;03m#  InvalidIndexError. Otherwise we fall through and re-raise\u001b[39;00m\n\u001b[1;32m   3816\u001b[0m     \u001b[38;5;66;03m#  the TypeError.\u001b[39;00m\n\u001b[1;32m   3817\u001b[0m     \u001b[38;5;28mself\u001b[39m\u001b[38;5;241m.\u001b[39m_check_indexing_error(key)\n",
      "\u001b[0;31mKeyError\u001b[0m: 'neighbourhood_group_cleansed'"
     ]
    }
   ],
   "source": [
    "def top_neighborhoods(df, city_name):\n",
    "    print(f\"Top Neighborhoods for {city_name}\")\n",
    "    top_neigh = df['neighbourhood_group_cleansed'].value_counts()\n",
    "    print(top_neigh)\n",
    "\n",
    "top_neighborhoods(barcelona_df, 'Barcelona')\n",
    "top_neighborhoods(madrid_df, 'Madrid')\n"
   ]
  },
  {
   "cell_type": "code",
   "execution_count": null,
   "metadata": {},
   "outputs": [],
   "source": []
  },
  {
   "cell_type": "code",
   "execution_count": null,
   "metadata": {},
   "outputs": [],
   "source": []
  },
  {
   "cell_type": "code",
   "execution_count": null,
   "metadata": {},
   "outputs": [],
   "source": []
  },
  {
   "cell_type": "markdown",
   "metadata": {},
   "source": [
    "### 2.2. Average Price by Neighborhood"
   ]
  },
  {
   "cell_type": "code",
   "execution_count": null,
   "metadata": {},
   "outputs": [],
   "source": [
    "def average_price_by_neighborhood(df, city_name):\n",
    "    print(f\"Average Price by Neighborhood for {city_name}\")\n",
    "    avg_price_neigh = df.groupby('neighbourhood_group_cleansed')['price'].mean()\n",
    "    print(avg_price_neigh)\n",
    "\n",
    "average_price_by_neighborhood(barcelona_df, 'Barcelona')\n",
    "average_price_by_neighborhood(madrid_df, 'Madrid')\n"
   ]
  },
  {
   "cell_type": "markdown",
   "metadata": {},
   "source": [
    "## 3. Price Distribution"
   ]
  },
  {
   "cell_type": "code",
   "execution_count": null,
   "metadata": {},
   "outputs": [],
   "source": [
    "def price_distribution(df, city_name):\n",
    "    plt.figure(figsize=(10, 6))\n",
    "    sns.histplot(df['price'], kde=True)\n",
    "    plt.title(f'Price Distribution for {city_name}')\n",
    "    plt.xlabel('Price')\n",
    "    plt.ylabel('Frequency')\n",
    "    plt.show()\n",
    "\n",
    "price_distribution(barcelona_df, 'Barcelona')\n",
    "price_distribution(madrid_df, 'Madrid')\n"
   ]
  },
  {
   "cell_type": "markdown",
   "metadata": {},
   "source": [
    "## 4. Review Analysis"
   ]
  },
  {
   "cell_type": "markdown",
   "metadata": {},
   "source": [
    "### 4.1. Distribution of Scores"
   ]
  },
  {
   "cell_type": "code",
   "execution_count": null,
   "metadata": {},
   "outputs": [],
   "source": [
    "def review_scores_distribution(df, city_name):\n",
    "    plt.figure(figsize=(10, 6))\n",
    "    sns.histplot(df['review_scores_rating'], kde=True)\n",
    "    plt.title(f'Review Scores Distribution for {city_name}')\n",
    "    plt.xlabel('Review Scores Rating')\n",
    "    plt.ylabel('Frequency')\n",
    "    plt.show()\n",
    "\n",
    "review_scores_distribution(barcelona_df, 'Barcelona')\n",
    "review_scores_distribution(madrid_df, 'Madrid')\n"
   ]
  },
  {
   "cell_type": "markdown",
   "metadata": {},
   "source": [
    "## 5. Amenities Analysis\n",
    "### 5.1. Count of Listings with Specific Amenities"
   ]
  },
  {
   "cell_type": "code",
   "execution_count": null,
   "metadata": {},
   "outputs": [],
   "source": [
    "def amenities_count(df, city_name):\n",
    "    amenities = ['kitchen', 'patio or balcony', 'elevator', 'air conditioning']\n",
    "    print(f\"Count of Listings with Specific Amenities for {city_name}\")\n",
    "    for amenity in amenities:\n",
    "        count = df[amenity].sum()\n",
    "        print(f\"{amenity}: {count}\")\n",
    "\n",
    "amenities_count(barcelona_df, 'Barcelona')\n",
    "amenities_count(madrid_df, 'Madrid')\n"
   ]
  },
  {
   "cell_type": "markdown",
   "metadata": {},
   "source": [
    "## 6. Room Type vs. Price\n",
    "\n",
    "### 6.1. Average Price by Room Type"
   ]
  },
  {
   "cell_type": "code",
   "execution_count": null,
   "metadata": {},
   "outputs": [],
   "source": [
    "def average_price_by_room_type(df, city_name):\n",
    "    print(f\"Average Price by Room Type for {city_name}\")\n",
    "    avg_price_room_type = df.groupby('room_type_encoded')['price'].mean()\n",
    "    print(avg_price_room_type)\n",
    "\n",
    "average_price_by_room_type(barcelona_df, 'Barcelona')\n",
    "average_price_by_room_type(madrid_df, 'Madrid')\n"
   ]
  },
  {
   "cell_type": "markdown",
   "metadata": {},
   "source": [
    "## 7. Host Analysis\n",
    "### 7.1. Superhost vs. Price"
   ]
  },
  {
   "cell_type": "code",
   "execution_count": null,
   "metadata": {},
   "outputs": [],
   "source": [
    "def superhost_vs_price(df, city_name):\n",
    "    plt.figure(figsize=(10, 6))\n",
    "    sns.boxplot(x='host_is_superhost', y='price', data=df)\n",
    "    plt.title(f'Superhost vs Price for {city_name}')\n",
    "    plt.xlabel('Superhost')\n",
    "    plt.ylabel('Price')\n",
    "    plt.show()\n",
    "\n",
    "superhost_vs_price(barcelona_df, 'Barcelona')\n",
    "superhost_vs_price(madrid_df, 'Madrid')\n"
   ]
  },
  {
   "cell_type": "markdown",
   "metadata": {},
   "source": [
    "### 7.2. Number of Listings per Host"
   ]
  },
  {
   "cell_type": "code",
   "execution_count": null,
   "metadata": {},
   "outputs": [],
   "source": [
    "def listings_per_host(df, city_name):\n",
    "    print(f\"Number of Listings per Host for {city_name}\")\n",
    "    listings_count = df['host_id'].value_counts()\n",
    "    print(listings_count.describe())\n",
    "\n",
    "listings_per_host(barcelona_df, 'Barcelona')\n",
    "listings_per_host(madrid_df, 'Madrid')\n"
   ]
  }
 ],
 "metadata": {
  "kernelspec": {
   "display_name": "Python 3",
   "language": "python",
   "name": "python3"
  },
  "language_info": {
   "codemirror_mode": {
    "name": "ipython",
    "version": 3
   },
   "file_extension": ".py",
   "mimetype": "text/x-python",
   "name": "python",
   "nbconvert_exporter": "python",
   "pygments_lexer": "ipython3",
   "version": "3.11.3"
  }
 },
 "nbformat": 4,
 "nbformat_minor": 2
}
